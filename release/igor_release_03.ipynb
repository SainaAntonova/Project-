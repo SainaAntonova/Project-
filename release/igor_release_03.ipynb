{
 "cells": [
  {
   "cell_type": "code",
   "execution_count": 1,
   "id": "a7028285-7d04-437a-aa3f-562762f7d2bb",
   "metadata": {},
   "outputs": [],
   "source": [
    "import pandas as pd\n",
    "import numpy as np"
   ]
  },
  {
   "cell_type": "code",
   "execution_count": 2,
   "id": "96199cdf-1a9d-4817-8802-2b2859e1ed56",
   "metadata": {},
   "outputs": [],
   "source": [
    "pd.set_option('display.max_columns', None)\n",
    "pd.set_option('display.max_rows', 100)\n",
    "pd.set_option('display.float_format', lambda x: '%.0f' % x)"
   ]
  },
  {
   "cell_type": "code",
   "execution_count": 3,
   "id": "a872a72a-f0e9-4e70-825c-4603d8107f99",
   "metadata": {},
   "outputs": [
    {
     "data": {
      "text/plain": [
       "Index(['id', 'rooms', 'adress', 'area', 'building', 'parking', 'price',\n",
       "       'description', 'repair', 'rooms_square', 'balcony', 'windows',\n",
       "       'bathroom', 'сhildren/pets_allowed', 'additionally', 'housing_complex',\n",
       "       'ceiling_height', 'elevator', 'garbage_chute', 'floor_count'],\n",
       "      dtype='object')"
      ]
     },
     "execution_count": 3,
     "metadata": {},
     "output_type": "execute_result"
    }
   ],
   "source": [
    "df = pd.read_csv('/home/igor/Elbrus/Project-/release/data.csv')\n",
    "df.columns"
   ]
  },
  {
   "cell_type": "code",
   "execution_count": 4,
   "id": "9c0fbd32-8332-4e71-9781-254b6db0b123",
   "metadata": {},
   "outputs": [],
   "source": [
    "my_df = df.iloc[:,:6]"
   ]
  },
  {
   "cell_type": "code",
   "execution_count": 5,
   "id": "92928488-3533-4f16-bdd4-daaa79c14987",
   "metadata": {},
   "outputs": [
    {
     "data": {
      "text/html": [
       "<div>\n",
       "<style scoped>\n",
       "    .dataframe tbody tr th:only-of-type {\n",
       "        vertical-align: middle;\n",
       "    }\n",
       "\n",
       "    .dataframe tbody tr th {\n",
       "        vertical-align: top;\n",
       "    }\n",
       "\n",
       "    .dataframe thead th {\n",
       "        text-align: right;\n",
       "    }\n",
       "</style>\n",
       "<table border=\"1\" class=\"dataframe\">\n",
       "  <thead>\n",
       "    <tr style=\"text-align: right;\">\n",
       "      <th></th>\n",
       "      <th>id</th>\n",
       "      <th>rooms</th>\n",
       "      <th>adress</th>\n",
       "      <th>area</th>\n",
       "      <th>building</th>\n",
       "      <th>parking</th>\n",
       "    </tr>\n",
       "  </thead>\n",
       "  <tbody>\n",
       "    <tr>\n",
       "      <th>0</th>\n",
       "      <td>271271157</td>\n",
       "      <td>4</td>\n",
       "      <td>Москва, улица Новый Арбат, 27</td>\n",
       "      <td>200.0/20.0</td>\n",
       "      <td>5/16, Монолитный</td>\n",
       "      <td>подземная</td>\n",
       "    </tr>\n",
       "    <tr>\n",
       "      <th>1</th>\n",
       "      <td>271634126</td>\n",
       "      <td>4</td>\n",
       "      <td>Москва, улица Новый Арбат, 27</td>\n",
       "      <td>198.0/95.0/18.0</td>\n",
       "      <td>5/16, Монолитно-кирпичный</td>\n",
       "      <td>подземная</td>\n",
       "    </tr>\n",
       "    <tr>\n",
       "      <th>2</th>\n",
       "      <td>271173086</td>\n",
       "      <td>4, Оба варианта</td>\n",
       "      <td>Москва, улица Новый Арбат, 27</td>\n",
       "      <td>200.0/116.0/4.0</td>\n",
       "      <td>5/16</td>\n",
       "      <td>подземная</td>\n",
       "    </tr>\n",
       "    <tr>\n",
       "      <th>3</th>\n",
       "      <td>272197456</td>\n",
       "      <td>4, Оба варианта</td>\n",
       "      <td>Москва, переулок Плотников, 21С1</td>\n",
       "      <td>170.0/95.0/17.0</td>\n",
       "      <td>5/6</td>\n",
       "      <td>подземная</td>\n",
       "    </tr>\n",
       "    <tr>\n",
       "      <th>4</th>\n",
       "      <td>273614615</td>\n",
       "      <td>2</td>\n",
       "      <td>Москва, улица Новый Арбат, 15</td>\n",
       "      <td>58.0/38.0/5.0</td>\n",
       "      <td>12/26, Панельный</td>\n",
       "      <td>Unknown</td>\n",
       "    </tr>\n",
       "  </tbody>\n",
       "</table>\n",
       "</div>"
      ],
      "text/plain": [
       "          id            rooms                            adress  \\\n",
       "0  271271157                4     Москва, улица Новый Арбат, 27   \n",
       "1  271634126                4     Москва, улица Новый Арбат, 27   \n",
       "2  271173086  4, Оба варианта     Москва, улица Новый Арбат, 27   \n",
       "3  272197456  4, Оба варианта  Москва, переулок Плотников, 21С1   \n",
       "4  273614615                2     Москва, улица Новый Арбат, 15   \n",
       "\n",
       "              area                   building    parking  \n",
       "0       200.0/20.0           5/16, Монолитный  подземная  \n",
       "1  198.0/95.0/18.0  5/16, Монолитно-кирпичный  подземная  \n",
       "2  200.0/116.0/4.0                       5/16  подземная  \n",
       "3  170.0/95.0/17.0                        5/6  подземная  \n",
       "4    58.0/38.0/5.0           12/26, Панельный    Unknown  "
      ]
     },
     "execution_count": 5,
     "metadata": {},
     "output_type": "execute_result"
    }
   ],
   "source": [
    "my_df.head()"
   ]
  },
  {
   "cell_type": "markdown",
   "id": "60267c40-2128-422d-8a97-4a91274cd05b",
   "metadata": {},
   "source": [
    "## rooms\n",
    "В столбце содержится информация о числе комнат и о планировке. Разобьем его на два признака: rooms_number и layout"
   ]
  },
  {
   "cell_type": "code",
   "execution_count": 6,
   "id": "af725ed9-ee41-496e-864a-694ddbdb16ec",
   "metadata": {},
   "outputs": [],
   "source": [
    "my_df['rooms_number'] = my_df['rooms'].apply(lambda x: int(x.split(', ')[0]) if len(x) > 1 else int(x))"
   ]
  },
  {
   "cell_type": "code",
   "execution_count": 7,
   "id": "7b055a3f-d55e-4396-9d8d-b45eee4eac11",
   "metadata": {},
   "outputs": [],
   "source": [
    "my_df['layout'] = my_df['rooms'].apply(lambda x: x.split(', ')[1] if len(x) > 1 else 'Unknown')"
   ]
  },
  {
   "cell_type": "code",
   "execution_count": 8,
   "id": "13beb1cd-ffbe-48a5-88e4-fdaec5d4622f",
   "metadata": {},
   "outputs": [],
   "source": [
    "my_df['price'] = df['price'].apply(lambda x: int(x.split('.')[0]))"
   ]
  },
  {
   "cell_type": "code",
   "execution_count": 9,
   "id": "173d4162-636b-4cb1-af00-5053d79360a2",
   "metadata": {},
   "outputs": [],
   "source": [
    "def set_currency(x):\n",
    "    if '€' in x:\n",
    "        return 'eur'\n",
    "    elif '$' in x:\n",
    "        return 'usd'\n",
    "    elif 'руб' in x:\n",
    "        return 'rub'\n",
    "    else:\n",
    "        return 'other'"
   ]
  },
  {
   "cell_type": "code",
   "execution_count": 10,
   "id": "76185520-f13d-416d-91bc-6c63304f6884",
   "metadata": {},
   "outputs": [],
   "source": [
    "my_df['currency'] = df['price'].apply(set_currency)"
   ]
  },
  {
   "cell_type": "code",
   "execution_count": 11,
   "id": "8ab94325-9b94-443f-99b8-69b98484dab6",
   "metadata": {},
   "outputs": [
    {
     "data": {
      "text/plain": [
       "currency\n",
       "eur        9\n",
       "rub    19714\n",
       "usd       14\n",
       "dtype: int64"
      ]
     },
     "execution_count": 11,
     "metadata": {},
     "output_type": "execute_result"
    }
   ],
   "source": [
    "my_df.groupby('currency').size()"
   ]
  },
  {
   "cell_type": "code",
   "execution_count": 12,
   "id": "4857cef5-43c7-4483-bb55-bd42abef6b2e",
   "metadata": {},
   "outputs": [],
   "source": [
    "my_df.loc[my_df['currency'] == 'eur', 'price'] = (my_df.loc[my_df['currency'] == 'eur', 'price'] * 100.07).astype(int)\n",
    "my_df.loc[my_df['currency'] == 'usd', 'price'] = (my_df.loc[my_df['currency'] == 'usd', 'price'] * 92.48).astype(int)"
   ]
  },
  {
   "cell_type": "code",
   "execution_count": 13,
   "id": "f13b9267-51a2-4b33-9807-ce8a606a8d2a",
   "metadata": {},
   "outputs": [
    {
     "data": {
      "text/plain": [
       "count     19737\n",
       "mean      87851\n",
       "std      134420\n",
       "min       12000\n",
       "25%       40000\n",
       "50%       50000\n",
       "75%       75000\n",
       "max     3000000\n",
       "Name: price, dtype: float64"
      ]
     },
     "execution_count": 13,
     "metadata": {},
     "output_type": "execute_result"
    }
   ],
   "source": [
    "my_df['price'].describe()"
   ]
  },
  {
   "cell_type": "code",
   "execution_count": 14,
   "id": "a65b10ea-5848-498a-8f76-9025ddb3da2e",
   "metadata": {},
   "outputs": [],
   "source": [
    "# Удалим ненужные столбцы\n",
    "\n",
    "my_df = my_df.drop(columns=['rooms', 'currency'])"
   ]
  },
  {
   "cell_type": "code",
   "execution_count": 15,
   "id": "a2dd6a3b-a2b7-42ab-88a1-fedbf08c0d4d",
   "metadata": {},
   "outputs": [],
   "source": [
    "# Теперь можно проверить как связана планировка со стоимостью аренды"
   ]
  },
  {
   "cell_type": "code",
   "execution_count": 16,
   "id": "96dc4741-cbc8-4825-81ec-384ce0d6315c",
   "metadata": {},
   "outputs": [
    {
     "data": {
      "text/html": [
       "<div>\n",
       "<style scoped>\n",
       "    .dataframe tbody tr th:only-of-type {\n",
       "        vertical-align: middle;\n",
       "    }\n",
       "\n",
       "    .dataframe tbody tr th {\n",
       "        vertical-align: top;\n",
       "    }\n",
       "\n",
       "    .dataframe thead tr th {\n",
       "        text-align: left;\n",
       "    }\n",
       "\n",
       "    .dataframe thead tr:last-of-type th {\n",
       "        text-align: right;\n",
       "    }\n",
       "</style>\n",
       "<table border=\"1\" class=\"dataframe\">\n",
       "  <thead>\n",
       "    <tr>\n",
       "      <th></th>\n",
       "      <th colspan=\"2\" halign=\"left\">price</th>\n",
       "    </tr>\n",
       "    <tr>\n",
       "      <th></th>\n",
       "      <th>count</th>\n",
       "      <th>median</th>\n",
       "    </tr>\n",
       "    <tr>\n",
       "      <th>layout</th>\n",
       "      <th></th>\n",
       "      <th></th>\n",
       "    </tr>\n",
       "  </thead>\n",
       "  <tbody>\n",
       "    <tr>\n",
       "      <th>Unknown</th>\n",
       "      <td>11770</td>\n",
       "      <td>45000</td>\n",
       "    </tr>\n",
       "    <tr>\n",
       "      <th>Изолированная</th>\n",
       "      <td>5803</td>\n",
       "      <td>55000</td>\n",
       "    </tr>\n",
       "    <tr>\n",
       "      <th>Оба варианта</th>\n",
       "      <td>1492</td>\n",
       "      <td>85000</td>\n",
       "    </tr>\n",
       "    <tr>\n",
       "      <th>Смежная</th>\n",
       "      <td>672</td>\n",
       "      <td>45000</td>\n",
       "    </tr>\n",
       "  </tbody>\n",
       "</table>\n",
       "</div>"
      ],
      "text/plain": [
       "               price       \n",
       "               count median\n",
       "layout                     \n",
       "Unknown        11770  45000\n",
       "Изолированная   5803  55000\n",
       "Оба варианта    1492  85000\n",
       "Смежная          672  45000"
      ]
     },
     "execution_count": 16,
     "metadata": {},
     "output_type": "execute_result"
    }
   ],
   "source": [
    "my_df.groupby('layout').agg({'price': ['count', 'median']})"
   ]
  },
  {
   "cell_type": "code",
   "execution_count": 17,
   "id": "e42350cd-212a-43dc-be67-56c3b8cf844d",
   "metadata": {},
   "outputs": [],
   "source": [
    "# Применяем target encoding к категориальной переменной btype\n",
    "median_price_per_layout = my_df.groupby('layout')['price'].median()\n",
    "\n",
    "# Создадим словарь, сопоставляющий категории building_type с их медианными значениями цены\n",
    "layout_median_price_map = median_price_per_layout.to_dict()\n",
    "\n",
    "# Заменим значения в столбце building_type на их медианные значения цены\n",
    "my_df['layout'] = my_df['layout'].map(layout_median_price_map)"
   ]
  },
  {
   "cell_type": "markdown",
   "id": "60931263-f9ab-47cf-b8a4-8658d1bf8f71",
   "metadata": {},
   "source": [
    "## area\n",
    "\n",
    "Вытащим из столбца общую площадь"
   ]
  },
  {
   "cell_type": "code",
   "execution_count": 18,
   "id": "5a7bdd3c-d549-4f54-b201-16f668d62bf6",
   "metadata": {},
   "outputs": [],
   "source": [
    "my_df['area'] = my_df['area'].apply(lambda x: int(float(x.split('/')[0])) if len(x.split('/')) > 1 else int(float(x)))"
   ]
  },
  {
   "cell_type": "code",
   "execution_count": 19,
   "id": "8439147e-063a-410d-9d07-cc42988c95e2",
   "metadata": {},
   "outputs": [
    {
     "data": {
      "text/html": [
       "<div>\n",
       "<style scoped>\n",
       "    .dataframe tbody tr th:only-of-type {\n",
       "        vertical-align: middle;\n",
       "    }\n",
       "\n",
       "    .dataframe tbody tr th {\n",
       "        vertical-align: top;\n",
       "    }\n",
       "\n",
       "    .dataframe thead th {\n",
       "        text-align: right;\n",
       "    }\n",
       "</style>\n",
       "<table border=\"1\" class=\"dataframe\">\n",
       "  <thead>\n",
       "    <tr style=\"text-align: right;\">\n",
       "      <th></th>\n",
       "      <th>id</th>\n",
       "      <th>adress</th>\n",
       "      <th>area</th>\n",
       "      <th>building</th>\n",
       "      <th>parking</th>\n",
       "      <th>rooms_number</th>\n",
       "      <th>layout</th>\n",
       "      <th>price</th>\n",
       "    </tr>\n",
       "  </thead>\n",
       "  <tbody>\n",
       "    <tr>\n",
       "      <th>0</th>\n",
       "      <td>271271157</td>\n",
       "      <td>Москва, улица Новый Арбат, 27</td>\n",
       "      <td>200</td>\n",
       "      <td>5/16, Монолитный</td>\n",
       "      <td>подземная</td>\n",
       "      <td>4</td>\n",
       "      <td>45000</td>\n",
       "      <td>500000</td>\n",
       "    </tr>\n",
       "  </tbody>\n",
       "</table>\n",
       "</div>"
      ],
      "text/plain": [
       "          id                         adress  area          building  \\\n",
       "0  271271157  Москва, улица Новый Арбат, 27   200  5/16, Монолитный   \n",
       "\n",
       "     parking  rooms_number  layout   price  \n",
       "0  подземная             4   45000  500000  "
      ]
     },
     "execution_count": 19,
     "metadata": {},
     "output_type": "execute_result"
    }
   ],
   "source": [
    "my_df.head(1)"
   ]
  },
  {
   "cell_type": "markdown",
   "id": "305587cf-3006-488f-a99c-46211d010bb5",
   "metadata": {},
   "source": [
    "## building\n",
    "\n",
    "Разделим этот признак на 3: этаж, на котором находится квартира, сколько всего этажей в доме и какого типа дом"
   ]
  },
  {
   "cell_type": "code",
   "execution_count": 20,
   "id": "1c5b23c6-7369-4982-a08f-925f32c205fa",
   "metadata": {},
   "outputs": [],
   "source": [
    "my_df['btype'] = my_df['building'].apply(lambda x: x.split(', ')[1] if len(x.split(', ')) > 1 else 'Unknown')"
   ]
  },
  {
   "cell_type": "code",
   "execution_count": 21,
   "id": "9df22688-02c7-412e-8864-fc9acdf4aef6",
   "metadata": {},
   "outputs": [
    {
     "data": {
      "text/plain": [
       "btype\n",
       "Панельный              6679\n",
       "Кирпичный              3696\n",
       "Монолитный             3615\n",
       "Unknown                2971\n",
       "Блочный                1689\n",
       "Монолитно-кирпичный     872\n",
       "Сталинский              141\n",
       "старый фонд              68\n",
       "Деревянный                5\n",
       "Щитовой                   1\n",
       "dtype: int64"
      ]
     },
     "execution_count": 21,
     "metadata": {},
     "output_type": "execute_result"
    }
   ],
   "source": [
    "my_df.groupby('btype').size().sort_values(ascending=False)"
   ]
  },
  {
   "cell_type": "code",
   "execution_count": 22,
   "id": "22dc7888-053d-4405-a685-6ecdb9c391f2",
   "metadata": {},
   "outputs": [
    {
     "data": {
      "text/html": [
       "<div>\n",
       "<style scoped>\n",
       "    .dataframe tbody tr th:only-of-type {\n",
       "        vertical-align: middle;\n",
       "    }\n",
       "\n",
       "    .dataframe tbody tr th {\n",
       "        vertical-align: top;\n",
       "    }\n",
       "\n",
       "    .dataframe thead tr th {\n",
       "        text-align: left;\n",
       "    }\n",
       "\n",
       "    .dataframe thead tr:last-of-type th {\n",
       "        text-align: right;\n",
       "    }\n",
       "</style>\n",
       "<table border=\"1\" class=\"dataframe\">\n",
       "  <thead>\n",
       "    <tr>\n",
       "      <th></th>\n",
       "      <th colspan=\"3\" halign=\"left\">price</th>\n",
       "    </tr>\n",
       "    <tr>\n",
       "      <th></th>\n",
       "      <th>mean</th>\n",
       "      <th>median</th>\n",
       "      <th>count</th>\n",
       "    </tr>\n",
       "    <tr>\n",
       "      <th>btype</th>\n",
       "      <th></th>\n",
       "      <th></th>\n",
       "      <th></th>\n",
       "    </tr>\n",
       "  </thead>\n",
       "  <tbody>\n",
       "    <tr>\n",
       "      <th>Unknown</th>\n",
       "      <td>139597</td>\n",
       "      <td>57000</td>\n",
       "      <td>2971</td>\n",
       "    </tr>\n",
       "    <tr>\n",
       "      <th>Блочный</th>\n",
       "      <td>45096</td>\n",
       "      <td>40000</td>\n",
       "      <td>1689</td>\n",
       "    </tr>\n",
       "    <tr>\n",
       "      <th>Деревянный</th>\n",
       "      <td>79000</td>\n",
       "      <td>35000</td>\n",
       "      <td>5</td>\n",
       "    </tr>\n",
       "    <tr>\n",
       "      <th>Кирпичный</th>\n",
       "      <td>82055</td>\n",
       "      <td>55000</td>\n",
       "      <td>3696</td>\n",
       "    </tr>\n",
       "    <tr>\n",
       "      <th>Монолитно-кирпичный</th>\n",
       "      <td>198497</td>\n",
       "      <td>120000</td>\n",
       "      <td>872</td>\n",
       "    </tr>\n",
       "    <tr>\n",
       "      <th>Монолитный</th>\n",
       "      <td>116255</td>\n",
       "      <td>70000</td>\n",
       "      <td>3615</td>\n",
       "    </tr>\n",
       "    <tr>\n",
       "      <th>Панельный</th>\n",
       "      <td>46591</td>\n",
       "      <td>43000</td>\n",
       "      <td>6679</td>\n",
       "    </tr>\n",
       "    <tr>\n",
       "      <th>Сталинский</th>\n",
       "      <td>113957</td>\n",
       "      <td>95000</td>\n",
       "      <td>141</td>\n",
       "    </tr>\n",
       "    <tr>\n",
       "      <th>Щитовой</th>\n",
       "      <td>45000</td>\n",
       "      <td>45000</td>\n",
       "      <td>1</td>\n",
       "    </tr>\n",
       "    <tr>\n",
       "      <th>старый фонд</th>\n",
       "      <td>274853</td>\n",
       "      <td>210000</td>\n",
       "      <td>68</td>\n",
       "    </tr>\n",
       "  </tbody>\n",
       "</table>\n",
       "</div>"
      ],
      "text/plain": [
       "                     price             \n",
       "                      mean median count\n",
       "btype                                  \n",
       "Unknown             139597  57000  2971\n",
       "Блочный              45096  40000  1689\n",
       "Деревянный           79000  35000     5\n",
       "Кирпичный            82055  55000  3696\n",
       "Монолитно-кирпичный 198497 120000   872\n",
       "Монолитный          116255  70000  3615\n",
       "Панельный            46591  43000  6679\n",
       "Сталинский          113957  95000   141\n",
       "Щитовой              45000  45000     1\n",
       "старый фонд         274853 210000    68"
      ]
     },
     "execution_count": 22,
     "metadata": {},
     "output_type": "execute_result"
    }
   ],
   "source": [
    "my_df.groupby('btype').agg({'price': ['mean', 'median', 'count']})"
   ]
  },
  {
   "cell_type": "code",
   "execution_count": 23,
   "id": "66e84aaf-ba94-442d-82c2-a3706cd7a08f",
   "metadata": {},
   "outputs": [],
   "source": [
    "# Применяем target encoding к категориальной переменной btype\n",
    "median_price_per_building_type = my_df.groupby('btype')['price'].median()\n",
    "\n",
    "# Создадим словарь, сопоставляющий категории building_type с их медианными значениями цены\n",
    "building_type_median_price_map = median_price_per_building_type.to_dict()\n",
    "\n",
    "# Заменим значения в столбце building_type на их медианные значения цены\n",
    "my_df['btype'] = my_df['btype'].map(building_type_median_price_map)"
   ]
  },
  {
   "cell_type": "code",
   "execution_count": 24,
   "id": "4ed10084-59f1-4f9c-98d7-0799f04d0de6",
   "metadata": {},
   "outputs": [],
   "source": [
    "# Выделим этаж, на которой находится квартра и общую этажность дома в отдельные столбцы\n",
    "my_df['floor'] = my_df['building'].apply(lambda x: int(x.split(', ')[0].split('/')[0]) if len(x.split(', ')) > 1 else int(x.split('/')[0]))\n",
    "my_df['total_floors'] = my_df['building'].apply(lambda x: int(x.split(', ')[0].split('/')[1]) if len(x.split(', ')) > 1 else int(x.split('/')[1]))"
   ]
  },
  {
   "cell_type": "code",
   "execution_count": 25,
   "id": "da8d9865-8d33-4724-bbb5-ad7786a08075",
   "metadata": {},
   "outputs": [
    {
     "data": {
      "text/html": [
       "<div>\n",
       "<style scoped>\n",
       "    .dataframe tbody tr th:only-of-type {\n",
       "        vertical-align: middle;\n",
       "    }\n",
       "\n",
       "    .dataframe tbody tr th {\n",
       "        vertical-align: top;\n",
       "    }\n",
       "\n",
       "    .dataframe thead th {\n",
       "        text-align: right;\n",
       "    }\n",
       "</style>\n",
       "<table border=\"1\" class=\"dataframe\">\n",
       "  <thead>\n",
       "    <tr style=\"text-align: right;\">\n",
       "      <th></th>\n",
       "      <th>id</th>\n",
       "      <th>adress</th>\n",
       "      <th>area</th>\n",
       "      <th>parking</th>\n",
       "      <th>rooms_number</th>\n",
       "      <th>layout</th>\n",
       "      <th>price</th>\n",
       "      <th>btype</th>\n",
       "      <th>floor</th>\n",
       "      <th>total_floors</th>\n",
       "    </tr>\n",
       "  </thead>\n",
       "  <tbody>\n",
       "    <tr>\n",
       "      <th>0</th>\n",
       "      <td>271271157</td>\n",
       "      <td>Москва, улица Новый Арбат, 27</td>\n",
       "      <td>200</td>\n",
       "      <td>подземная</td>\n",
       "      <td>4</td>\n",
       "      <td>45000</td>\n",
       "      <td>500000</td>\n",
       "      <td>70000</td>\n",
       "      <td>5</td>\n",
       "      <td>16</td>\n",
       "    </tr>\n",
       "    <tr>\n",
       "      <th>1</th>\n",
       "      <td>271634126</td>\n",
       "      <td>Москва, улица Новый Арбат, 27</td>\n",
       "      <td>198</td>\n",
       "      <td>подземная</td>\n",
       "      <td>4</td>\n",
       "      <td>45000</td>\n",
       "      <td>500000</td>\n",
       "      <td>120000</td>\n",
       "      <td>5</td>\n",
       "      <td>16</td>\n",
       "    </tr>\n",
       "    <tr>\n",
       "      <th>2</th>\n",
       "      <td>271173086</td>\n",
       "      <td>Москва, улица Новый Арбат, 27</td>\n",
       "      <td>200</td>\n",
       "      <td>подземная</td>\n",
       "      <td>4</td>\n",
       "      <td>85000</td>\n",
       "      <td>500000</td>\n",
       "      <td>57000</td>\n",
       "      <td>5</td>\n",
       "      <td>16</td>\n",
       "    </tr>\n",
       "    <tr>\n",
       "      <th>3</th>\n",
       "      <td>272197456</td>\n",
       "      <td>Москва, переулок Плотников, 21С1</td>\n",
       "      <td>170</td>\n",
       "      <td>подземная</td>\n",
       "      <td>4</td>\n",
       "      <td>85000</td>\n",
       "      <td>400000</td>\n",
       "      <td>57000</td>\n",
       "      <td>5</td>\n",
       "      <td>6</td>\n",
       "    </tr>\n",
       "    <tr>\n",
       "      <th>4</th>\n",
       "      <td>273614615</td>\n",
       "      <td>Москва, улица Новый Арбат, 15</td>\n",
       "      <td>58</td>\n",
       "      <td>Unknown</td>\n",
       "      <td>2</td>\n",
       "      <td>45000</td>\n",
       "      <td>225000</td>\n",
       "      <td>43000</td>\n",
       "      <td>12</td>\n",
       "      <td>26</td>\n",
       "    </tr>\n",
       "  </tbody>\n",
       "</table>\n",
       "</div>"
      ],
      "text/plain": [
       "          id                            adress  area    parking  rooms_number  \\\n",
       "0  271271157     Москва, улица Новый Арбат, 27   200  подземная             4   \n",
       "1  271634126     Москва, улица Новый Арбат, 27   198  подземная             4   \n",
       "2  271173086     Москва, улица Новый Арбат, 27   200  подземная             4   \n",
       "3  272197456  Москва, переулок Плотников, 21С1   170  подземная             4   \n",
       "4  273614615     Москва, улица Новый Арбат, 15    58    Unknown             2   \n",
       "\n",
       "   layout   price  btype  floor  total_floors  \n",
       "0   45000  500000  70000      5            16  \n",
       "1   45000  500000 120000      5            16  \n",
       "2   85000  500000  57000      5            16  \n",
       "3   85000  400000  57000      5             6  \n",
       "4   45000  225000  43000     12            26  "
      ]
     },
     "execution_count": 25,
     "metadata": {},
     "output_type": "execute_result"
    }
   ],
   "source": [
    "my_df.drop(columns='building', inplace=True)\n",
    "my_df.head()"
   ]
  },
  {
   "cell_type": "code",
   "execution_count": 26,
   "id": "75f55d47-7a64-4d04-849c-497e538a9703",
   "metadata": {},
   "outputs": [],
   "source": [
    "# Поделим total_floors на квантили\n",
    "my_df['total_floors_quantile'] = pd.qcut(my_df['total_floors'], q=5, labels=False)"
   ]
  },
  {
   "cell_type": "code",
   "execution_count": 27,
   "id": "e4de4ff7-1a3d-4a62-832a-2cd72558c9db",
   "metadata": {},
   "outputs": [],
   "source": [
    "# Применяем target encoding к квантилям total_floors\n",
    "mean_price_per_total_floors_quantile = my_df.groupby('total_floors_quantile')['price'].mean()\n",
    "\n",
    "# Создадим словарь, сопоставляющий категории building_type с их медианными значениями цены\n",
    "total_floors_quantile_mean_price_map = mean_price_per_total_floors_quantile.to_dict()\n",
    "\n",
    "# Заменим значения в столбце building_type на их медианные значения цены\n",
    "my_df['total_floors_quantile'] = my_df['total_floors_quantile'].map(total_floors_quantile_mean_price_map)"
   ]
  },
  {
   "cell_type": "code",
   "execution_count": 28,
   "id": "29714745-a0ba-4110-ad8d-2b76b1aaa5a3",
   "metadata": {},
   "outputs": [],
   "source": [
    "# Сделаем то же самое с этажностью здания\n",
    "my_df['floor_quantile'] = pd.qcut(my_df['floor'], q=5, labels=False)"
   ]
  },
  {
   "cell_type": "code",
   "execution_count": 29,
   "id": "8d726a04-528f-447e-8931-0ab6bdf5428b",
   "metadata": {},
   "outputs": [],
   "source": [
    "# Применяем target encoding к квантилям floor\n",
    "mean_price_per_floor_quantile = my_df.groupby('floor_quantile')['price'].mean()\n",
    "\n",
    "# Создадим словарь, сопоставляющий категории building_type с их медианными значениями цены\n",
    "floor_quantile_mean_price_map = mean_price_per_floor_quantile.to_dict()\n",
    "\n",
    "# Заменим значения в столбце building_type на их медианные значения цены\n",
    "my_df['floor_quantile'] = my_df['floor_quantile'].map(floor_quantile_mean_price_map)"
   ]
  },
  {
   "cell_type": "code",
   "execution_count": 30,
   "id": "1b9dafe6-4a4b-413b-8790-2a10ed9132b1",
   "metadata": {},
   "outputs": [],
   "source": [
    "my_df.drop(columns=['floor', 'total_floors'], inplace=True)"
   ]
  },
  {
   "cell_type": "code",
   "execution_count": 31,
   "id": "b0c5166b-78d2-4256-a071-4ebc52759352",
   "metadata": {},
   "outputs": [
    {
     "data": {
      "text/html": [
       "<div>\n",
       "<style scoped>\n",
       "    .dataframe tbody tr th:only-of-type {\n",
       "        vertical-align: middle;\n",
       "    }\n",
       "\n",
       "    .dataframe tbody tr th {\n",
       "        vertical-align: top;\n",
       "    }\n",
       "\n",
       "    .dataframe thead th {\n",
       "        text-align: right;\n",
       "    }\n",
       "</style>\n",
       "<table border=\"1\" class=\"dataframe\">\n",
       "  <thead>\n",
       "    <tr style=\"text-align: right;\">\n",
       "      <th></th>\n",
       "      <th>id</th>\n",
       "      <th>adress</th>\n",
       "      <th>area</th>\n",
       "      <th>parking</th>\n",
       "      <th>rooms_number</th>\n",
       "      <th>layout</th>\n",
       "      <th>price</th>\n",
       "      <th>btype</th>\n",
       "      <th>total_floors_quantile</th>\n",
       "      <th>floor_quantile</th>\n",
       "    </tr>\n",
       "  </thead>\n",
       "  <tbody>\n",
       "    <tr>\n",
       "      <th>0</th>\n",
       "      <td>271271157</td>\n",
       "      <td>Москва, улица Новый Арбат, 27</td>\n",
       "      <td>200</td>\n",
       "      <td>подземная</td>\n",
       "      <td>4</td>\n",
       "      <td>45000</td>\n",
       "      <td>500000</td>\n",
       "      <td>70000</td>\n",
       "      <td>68621</td>\n",
       "      <td>95289</td>\n",
       "    </tr>\n",
       "  </tbody>\n",
       "</table>\n",
       "</div>"
      ],
      "text/plain": [
       "          id                         adress  area    parking  rooms_number  \\\n",
       "0  271271157  Москва, улица Новый Арбат, 27   200  подземная             4   \n",
       "\n",
       "   layout   price  btype  total_floors_quantile  floor_quantile  \n",
       "0   45000  500000  70000                  68621           95289  "
      ]
     },
     "execution_count": 31,
     "metadata": {},
     "output_type": "execute_result"
    }
   ],
   "source": [
    "my_df.head(1)"
   ]
  },
  {
   "cell_type": "markdown",
   "id": "b3c929b3-f4a5-4d3a-a155-4ad94f9d9cda",
   "metadata": {},
   "source": [
    "## Парковка\n",
    "Сравним стоимость аренды в зависимости от наличия информации о парковке"
   ]
  },
  {
   "cell_type": "code",
   "execution_count": 32,
   "id": "affe691e-3116-4183-944c-06e1e8a6c1b2",
   "metadata": {},
   "outputs": [
    {
     "data": {
      "text/html": [
       "<div>\n",
       "<style scoped>\n",
       "    .dataframe tbody tr th:only-of-type {\n",
       "        vertical-align: middle;\n",
       "    }\n",
       "\n",
       "    .dataframe tbody tr th {\n",
       "        vertical-align: top;\n",
       "    }\n",
       "\n",
       "    .dataframe thead tr th {\n",
       "        text-align: left;\n",
       "    }\n",
       "\n",
       "    .dataframe thead tr:last-of-type th {\n",
       "        text-align: right;\n",
       "    }\n",
       "</style>\n",
       "<table border=\"1\" class=\"dataframe\">\n",
       "  <thead>\n",
       "    <tr>\n",
       "      <th></th>\n",
       "      <th colspan=\"3\" halign=\"left\">price</th>\n",
       "    </tr>\n",
       "    <tr>\n",
       "      <th></th>\n",
       "      <th>mean</th>\n",
       "      <th>median</th>\n",
       "      <th>count</th>\n",
       "    </tr>\n",
       "    <tr>\n",
       "      <th>has_parkin</th>\n",
       "      <th></th>\n",
       "      <th></th>\n",
       "      <th></th>\n",
       "    </tr>\n",
       "  </thead>\n",
       "  <tbody>\n",
       "    <tr>\n",
       "      <th>0</th>\n",
       "      <td>79463</td>\n",
       "      <td>45000</td>\n",
       "      <td>11174</td>\n",
       "    </tr>\n",
       "    <tr>\n",
       "      <th>1</th>\n",
       "      <td>98796</td>\n",
       "      <td>55000</td>\n",
       "      <td>8563</td>\n",
       "    </tr>\n",
       "  </tbody>\n",
       "</table>\n",
       "</div>"
      ],
      "text/plain": [
       "           price              \n",
       "            mean median  count\n",
       "has_parkin                    \n",
       "0          79463  45000  11174\n",
       "1          98796  55000   8563"
      ]
     },
     "execution_count": 32,
     "metadata": {},
     "output_type": "execute_result"
    }
   ],
   "source": [
    "my_df['has_parkin'] = my_df['parking'].apply(lambda x: 0 if x == 'Unknown' else 1)\n",
    "my_df.groupby('has_parkin').agg({'price': ['mean', 'median', 'count']})"
   ]
  },
  {
   "cell_type": "code",
   "execution_count": 33,
   "id": "62d5fe9a-5b2f-4933-9c3e-30027d533b54",
   "metadata": {},
   "outputs": [],
   "source": [
    "# Для обучения модели оставим бинарный признак, а изначальный столбец удалим"
   ]
  },
  {
   "cell_type": "code",
   "execution_count": 34,
   "id": "726819ea-90e8-4618-a6c7-687f1bb6e6fb",
   "metadata": {},
   "outputs": [],
   "source": [
    "my_df.drop(columns=['parking', 'adress'], inplace=True)"
   ]
  },
  {
   "cell_type": "code",
   "execution_count": 35,
   "id": "8ed1cb7a-1faf-45e1-9551-ff8d503bd69d",
   "metadata": {},
   "outputs": [],
   "source": [
    "my_df = my_df.set_index('id')"
   ]
  },
  {
   "cell_type": "code",
   "execution_count": 36,
   "id": "72cb92c8-3a4e-434a-9ba4-6180fada883d",
   "metadata": {},
   "outputs": [
    {
     "data": {
      "text/html": [
       "<div>\n",
       "<style scoped>\n",
       "    .dataframe tbody tr th:only-of-type {\n",
       "        vertical-align: middle;\n",
       "    }\n",
       "\n",
       "    .dataframe tbody tr th {\n",
       "        vertical-align: top;\n",
       "    }\n",
       "\n",
       "    .dataframe thead th {\n",
       "        text-align: right;\n",
       "    }\n",
       "</style>\n",
       "<table border=\"1\" class=\"dataframe\">\n",
       "  <thead>\n",
       "    <tr style=\"text-align: right;\">\n",
       "      <th></th>\n",
       "      <th>area</th>\n",
       "      <th>rooms_number</th>\n",
       "      <th>layout</th>\n",
       "      <th>price</th>\n",
       "      <th>btype</th>\n",
       "      <th>total_floors_quantile</th>\n",
       "      <th>floor_quantile</th>\n",
       "      <th>has_parkin</th>\n",
       "    </tr>\n",
       "    <tr>\n",
       "      <th>id</th>\n",
       "      <th></th>\n",
       "      <th></th>\n",
       "      <th></th>\n",
       "      <th></th>\n",
       "      <th></th>\n",
       "      <th></th>\n",
       "      <th></th>\n",
       "      <th></th>\n",
       "    </tr>\n",
       "  </thead>\n",
       "  <tbody>\n",
       "    <tr>\n",
       "      <th>271271157</th>\n",
       "      <td>200</td>\n",
       "      <td>4</td>\n",
       "      <td>45000</td>\n",
       "      <td>500000</td>\n",
       "      <td>70000</td>\n",
       "      <td>68621</td>\n",
       "      <td>95289</td>\n",
       "      <td>1</td>\n",
       "    </tr>\n",
       "    <tr>\n",
       "      <th>271634126</th>\n",
       "      <td>198</td>\n",
       "      <td>4</td>\n",
       "      <td>45000</td>\n",
       "      <td>500000</td>\n",
       "      <td>120000</td>\n",
       "      <td>68621</td>\n",
       "      <td>95289</td>\n",
       "      <td>1</td>\n",
       "    </tr>\n",
       "    <tr>\n",
       "      <th>271173086</th>\n",
       "      <td>200</td>\n",
       "      <td>4</td>\n",
       "      <td>85000</td>\n",
       "      <td>500000</td>\n",
       "      <td>57000</td>\n",
       "      <td>68621</td>\n",
       "      <td>95289</td>\n",
       "      <td>1</td>\n",
       "    </tr>\n",
       "    <tr>\n",
       "      <th>272197456</th>\n",
       "      <td>170</td>\n",
       "      <td>4</td>\n",
       "      <td>85000</td>\n",
       "      <td>400000</td>\n",
       "      <td>57000</td>\n",
       "      <td>128076</td>\n",
       "      <td>95289</td>\n",
       "      <td>1</td>\n",
       "    </tr>\n",
       "    <tr>\n",
       "      <th>273614615</th>\n",
       "      <td>58</td>\n",
       "      <td>2</td>\n",
       "      <td>45000</td>\n",
       "      <td>225000</td>\n",
       "      <td>43000</td>\n",
       "      <td>104609</td>\n",
       "      <td>94374</td>\n",
       "      <td>0</td>\n",
       "    </tr>\n",
       "  </tbody>\n",
       "</table>\n",
       "</div>"
      ],
      "text/plain": [
       "           area  rooms_number  layout   price  btype  total_floors_quantile  \\\n",
       "id                                                                            \n",
       "271271157   200             4   45000  500000  70000                  68621   \n",
       "271634126   198             4   45000  500000 120000                  68621   \n",
       "271173086   200             4   85000  500000  57000                  68621   \n",
       "272197456   170             4   85000  400000  57000                 128076   \n",
       "273614615    58             2   45000  225000  43000                 104609   \n",
       "\n",
       "           floor_quantile  has_parkin  \n",
       "id                                     \n",
       "271271157           95289           1  \n",
       "271634126           95289           1  \n",
       "271173086           95289           1  \n",
       "272197456           95289           1  \n",
       "273614615           94374           0  "
      ]
     },
     "execution_count": 36,
     "metadata": {},
     "output_type": "execute_result"
    }
   ],
   "source": [
    "my_df.head(5)"
   ]
  },
  {
   "cell_type": "code",
   "execution_count": 37,
   "id": "698b5bd8-3d30-4c49-973a-b7c937ee3dad",
   "metadata": {},
   "outputs": [
    {
     "name": "stdout",
     "output_type": "stream",
     "text": [
      "<class 'pandas.core.frame.DataFrame'>\n",
      "Index: 19737 entries, 271271157 to 274672243\n",
      "Data columns (total 8 columns):\n",
      " #   Column                 Non-Null Count  Dtype  \n",
      "---  ------                 --------------  -----  \n",
      " 0   area                   19737 non-null  int64  \n",
      " 1   rooms_number           19737 non-null  int64  \n",
      " 2   layout                 19737 non-null  float64\n",
      " 3   price                  19737 non-null  int64  \n",
      " 4   btype                  19737 non-null  float64\n",
      " 5   total_floors_quantile  19737 non-null  float64\n",
      " 6   floor_quantile         19737 non-null  float64\n",
      " 7   has_parkin             19737 non-null  int64  \n",
      "dtypes: float64(4), int64(4)\n",
      "memory usage: 1.4 MB\n"
     ]
    }
   ],
   "source": [
    "my_df.info()"
   ]
  },
  {
   "cell_type": "code",
   "execution_count": 38,
   "id": "4a1cb949-68fb-4f0a-baa4-97d1157a0d56",
   "metadata": {},
   "outputs": [],
   "source": [
    "df.to_csv('igor.csv', index=False)"
   ]
  },
  {
   "cell_type": "code",
   "execution_count": 40,
   "id": "9d8517cd-fc10-454e-bca4-a001c4fdf116",
   "metadata": {},
   "outputs": [],
   "source": [
    "# Возвращаею потерявшийся столбец\n",
    "df_metro = pd.read_csv('/home/igor/Elbrus/Project-/tmp_data/_data (1).csv')\n",
    "df_metro = df_metro.set_index('ID  объявления')"
   ]
  },
  {
   "cell_type": "code",
   "execution_count": 41,
   "id": "9961b88f-7b6d-4a4a-967a-b60c8b36c316",
   "metadata": {},
   "outputs": [],
   "source": [
    "my_df['metro'] = df_metro['Метро']"
   ]
  },
  {
   "cell_type": "code",
   "execution_count": 42,
   "id": "41575f09-feb1-4f61-bbc4-83a6286e197d",
   "metadata": {},
   "outputs": [],
   "source": [
    "my_df['metro'] = my_df['metro'].apply(lambda x: x.split(' (')[0] if isinstance(x, str) else 'Unknown')"
   ]
  },
  {
   "cell_type": "code",
   "execution_count": 43,
   "id": "97c00cdd-f1b3-4f98-a41f-8892344ce2a7",
   "metadata": {},
   "outputs": [
    {
     "data": {
      "text/plain": [
       "metro\n",
       "м. Селигерская     393\n",
       "Unknown            346\n",
       "м. Щелковская      313\n",
       "м. Бабушкинская    284\n",
       "м. Новогиреево     282\n",
       "                  ... \n",
       "м. Театральная       1\n",
       "м. Лужники           1\n",
       "м. Румянцево         1\n",
       "м. Нахабино          1\n",
       "м. Яхромская         1\n",
       "Length: 278, dtype: int64"
      ]
     },
     "execution_count": 43,
     "metadata": {},
     "output_type": "execute_result"
    }
   ],
   "source": [
    "my_df.groupby('metro').size().sort_values(ascending=False)"
   ]
  },
  {
   "cell_type": "code",
   "execution_count": 44,
   "id": "8a43853e-dcc5-4336-9051-33e817348fdc",
   "metadata": {},
   "outputs": [],
   "source": [
    "# Применяем target encoding к metro\n",
    "mean_price_per_metro = my_df.groupby('metro')['price'].mean()\n",
    "\n",
    "# Создадим словарь, сопоставляющий категории metro с их средними значениями цены\n",
    "metro_mean_price_map = mean_price_per_metro.to_dict()\n",
    "\n",
    "# Заменим значения в столбце metro на их средние значения цены\n",
    "my_df['metro'] = my_df['metro'].map(metro_mean_price_map)"
   ]
  },
  {
   "cell_type": "code",
   "execution_count": 45,
   "id": "d2edfb54-b0d9-4221-b316-a28b954f785e",
   "metadata": {},
   "outputs": [
    {
     "data": {
      "text/html": [
       "<div>\n",
       "<style scoped>\n",
       "    .dataframe tbody tr th:only-of-type {\n",
       "        vertical-align: middle;\n",
       "    }\n",
       "\n",
       "    .dataframe tbody tr th {\n",
       "        vertical-align: top;\n",
       "    }\n",
       "\n",
       "    .dataframe thead th {\n",
       "        text-align: right;\n",
       "    }\n",
       "</style>\n",
       "<table border=\"1\" class=\"dataframe\">\n",
       "  <thead>\n",
       "    <tr style=\"text-align: right;\">\n",
       "      <th></th>\n",
       "      <th>area</th>\n",
       "      <th>rooms_number</th>\n",
       "      <th>layout</th>\n",
       "      <th>price</th>\n",
       "      <th>btype</th>\n",
       "      <th>total_floors_quantile</th>\n",
       "      <th>floor_quantile</th>\n",
       "      <th>has_parkin</th>\n",
       "      <th>metro</th>\n",
       "    </tr>\n",
       "    <tr>\n",
       "      <th>id</th>\n",
       "      <th></th>\n",
       "      <th></th>\n",
       "      <th></th>\n",
       "      <th></th>\n",
       "      <th></th>\n",
       "      <th></th>\n",
       "      <th></th>\n",
       "      <th></th>\n",
       "      <th></th>\n",
       "    </tr>\n",
       "  </thead>\n",
       "  <tbody>\n",
       "    <tr>\n",
       "      <th>271271157</th>\n",
       "      <td>200</td>\n",
       "      <td>4</td>\n",
       "      <td>45000</td>\n",
       "      <td>500000</td>\n",
       "      <td>70000</td>\n",
       "      <td>68621</td>\n",
       "      <td>95289</td>\n",
       "      <td>1</td>\n",
       "      <td>313197</td>\n",
       "    </tr>\n",
       "    <tr>\n",
       "      <th>271634126</th>\n",
       "      <td>198</td>\n",
       "      <td>4</td>\n",
       "      <td>45000</td>\n",
       "      <td>500000</td>\n",
       "      <td>120000</td>\n",
       "      <td>68621</td>\n",
       "      <td>95289</td>\n",
       "      <td>1</td>\n",
       "      <td>313197</td>\n",
       "    </tr>\n",
       "    <tr>\n",
       "      <th>271173086</th>\n",
       "      <td>200</td>\n",
       "      <td>4</td>\n",
       "      <td>85000</td>\n",
       "      <td>500000</td>\n",
       "      <td>57000</td>\n",
       "      <td>68621</td>\n",
       "      <td>95289</td>\n",
       "      <td>1</td>\n",
       "      <td>313197</td>\n",
       "    </tr>\n",
       "    <tr>\n",
       "      <th>272197456</th>\n",
       "      <td>170</td>\n",
       "      <td>4</td>\n",
       "      <td>85000</td>\n",
       "      <td>400000</td>\n",
       "      <td>57000</td>\n",
       "      <td>128076</td>\n",
       "      <td>95289</td>\n",
       "      <td>1</td>\n",
       "      <td>313197</td>\n",
       "    </tr>\n",
       "    <tr>\n",
       "      <th>273614615</th>\n",
       "      <td>58</td>\n",
       "      <td>2</td>\n",
       "      <td>45000</td>\n",
       "      <td>225000</td>\n",
       "      <td>43000</td>\n",
       "      <td>104609</td>\n",
       "      <td>94374</td>\n",
       "      <td>0</td>\n",
       "      <td>340904</td>\n",
       "    </tr>\n",
       "    <tr>\n",
       "      <th>...</th>\n",
       "      <td>...</td>\n",
       "      <td>...</td>\n",
       "      <td>...</td>\n",
       "      <td>...</td>\n",
       "      <td>...</td>\n",
       "      <td>...</td>\n",
       "      <td>...</td>\n",
       "      <td>...</td>\n",
       "      <td>...</td>\n",
       "    </tr>\n",
       "    <tr>\n",
       "      <th>215565511</th>\n",
       "      <td>35</td>\n",
       "      <td>1</td>\n",
       "      <td>45000</td>\n",
       "      <td>42000</td>\n",
       "      <td>57000</td>\n",
       "      <td>68621</td>\n",
       "      <td>72970</td>\n",
       "      <td>0</td>\n",
       "      <td>57379</td>\n",
       "    </tr>\n",
       "    <tr>\n",
       "      <th>274654844</th>\n",
       "      <td>38</td>\n",
       "      <td>1</td>\n",
       "      <td>45000</td>\n",
       "      <td>45000</td>\n",
       "      <td>70000</td>\n",
       "      <td>64310</td>\n",
       "      <td>95289</td>\n",
       "      <td>0</td>\n",
       "      <td>46280</td>\n",
       "    </tr>\n",
       "    <tr>\n",
       "      <th>268679909</th>\n",
       "      <td>43</td>\n",
       "      <td>2</td>\n",
       "      <td>85000</td>\n",
       "      <td>50000</td>\n",
       "      <td>55000</td>\n",
       "      <td>128076</td>\n",
       "      <td>95289</td>\n",
       "      <td>0</td>\n",
       "      <td>46280</td>\n",
       "    </tr>\n",
       "    <tr>\n",
       "      <th>274807525</th>\n",
       "      <td>52</td>\n",
       "      <td>2</td>\n",
       "      <td>45000</td>\n",
       "      <td>55000</td>\n",
       "      <td>70000</td>\n",
       "      <td>104609</td>\n",
       "      <td>72970</td>\n",
       "      <td>1</td>\n",
       "      <td>46280</td>\n",
       "    </tr>\n",
       "    <tr>\n",
       "      <th>274672243</th>\n",
       "      <td>90</td>\n",
       "      <td>2</td>\n",
       "      <td>85000</td>\n",
       "      <td>57000</td>\n",
       "      <td>43000</td>\n",
       "      <td>104609</td>\n",
       "      <td>84216</td>\n",
       "      <td>0</td>\n",
       "      <td>57379</td>\n",
       "    </tr>\n",
       "  </tbody>\n",
       "</table>\n",
       "<p>19737 rows × 9 columns</p>\n",
       "</div>"
      ],
      "text/plain": [
       "           area  rooms_number  layout   price  btype  total_floors_quantile  \\\n",
       "id                                                                            \n",
       "271271157   200             4   45000  500000  70000                  68621   \n",
       "271634126   198             4   45000  500000 120000                  68621   \n",
       "271173086   200             4   85000  500000  57000                  68621   \n",
       "272197456   170             4   85000  400000  57000                 128076   \n",
       "273614615    58             2   45000  225000  43000                 104609   \n",
       "...         ...           ...     ...     ...    ...                    ...   \n",
       "215565511    35             1   45000   42000  57000                  68621   \n",
       "274654844    38             1   45000   45000  70000                  64310   \n",
       "268679909    43             2   85000   50000  55000                 128076   \n",
       "274807525    52             2   45000   55000  70000                 104609   \n",
       "274672243    90             2   85000   57000  43000                 104609   \n",
       "\n",
       "           floor_quantile  has_parkin  metro  \n",
       "id                                            \n",
       "271271157           95289           1 313197  \n",
       "271634126           95289           1 313197  \n",
       "271173086           95289           1 313197  \n",
       "272197456           95289           1 313197  \n",
       "273614615           94374           0 340904  \n",
       "...                   ...         ...    ...  \n",
       "215565511           72970           0  57379  \n",
       "274654844           95289           0  46280  \n",
       "268679909           95289           0  46280  \n",
       "274807525           72970           1  46280  \n",
       "274672243           84216           0  57379  \n",
       "\n",
       "[19737 rows x 9 columns]"
      ]
     },
     "execution_count": 45,
     "metadata": {},
     "output_type": "execute_result"
    }
   ],
   "source": [
    "my_df"
   ]
  },
  {
   "cell_type": "code",
   "execution_count": 47,
   "id": "dfdbbd79-8195-466c-9681-e07d8f462a4f",
   "metadata": {},
   "outputs": [],
   "source": [
    "df.to_csv('../release/data.csv', index=False)"
   ]
  },
  {
   "cell_type": "code",
   "execution_count": null,
   "id": "cba1e58c-85f8-42dc-a484-6b284b6b4006",
   "metadata": {},
   "outputs": [],
   "source": []
  }
 ],
 "metadata": {
  "kernelspec": {
   "display_name": "Python 3 (ipykernel)",
   "language": "python",
   "name": "python3"
  },
  "language_info": {
   "codemirror_mode": {
    "name": "ipython",
    "version": 3
   },
   "file_extension": ".py",
   "mimetype": "text/x-python",
   "name": "python",
   "nbconvert_exporter": "python",
   "pygments_lexer": "ipython3",
   "version": "3.10.13"
  }
 },
 "nbformat": 4,
 "nbformat_minor": 5
}
