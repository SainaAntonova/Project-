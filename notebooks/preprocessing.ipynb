{
 "cells": [
  {
   "cell_type": "code",
   "execution_count": 563,
   "id": "f9e52d02-7201-4261-aef3-24459a82dbe7",
   "metadata": {},
   "outputs": [],
   "source": [
    "import pandas as pd\n",
    "import matplotlib.pyplot as plt\n",
    "import seaborn as sns\n",
    "import re\n",
    "import numpy as np\n",
    "import plotly.express as px\n",
    "# from geopy.geocoders import Nominatim \n",
    "# from geopy.distance import geodesic"
   ]
  },
  {
   "cell_type": "markdown",
   "id": "4b7c4322",
   "metadata": {},
   "source": [
    "# Данные"
   ]
  },
  {
   "cell_type": "code",
   "execution_count": 564,
   "id": "5f7b07b3-9ddc-4580-b7a8-5dff7e927758",
   "metadata": {},
   "outputs": [],
   "source": [
    "path = '../data/_data.csv'\n",
    "df = pd.read_csv(path)\n",
    "pd.set_option('display.max_columns', None)"
   ]
  },
  {
   "cell_type": "code",
   "execution_count": 565,
   "id": "02ef494e",
   "metadata": {},
   "outputs": [],
   "source": [
    "df.drop(['Unnamed: 0','Тип', 'Телефоны', 'Ссылка на объявление', 'Серия дома' ], axis= 1, inplace=True)"
   ]
  },
  {
   "cell_type": "code",
   "execution_count": 566,
   "id": "4ca5f45b",
   "metadata": {},
   "outputs": [],
   "source": [
    "# убираем адреса не в Мск\n",
    "df = df[df['Адрес'].str.contains('Москва')]\n",
    "# Оставляем только те, где цена указана в рублях\n",
    "# df = df[df['Цена'].str.contains('руб.')]\n"
   ]
  },
  {
   "cell_type": "code",
   "execution_count": 567,
   "id": "46831af3",
   "metadata": {},
   "outputs": [
    {
     "data": {
      "text/plain": [
       "Цена                     0\n",
       "Описание                 0\n",
       "Ремонт                2463\n",
       "Площадь комнат, м2    7228\n",
       "Балкон                6630\n",
       "dtype: int64"
      ]
     },
     "execution_count": 567,
     "metadata": {},
     "output_type": "execute_result"
    }
   ],
   "source": [
    "# для подсчета количества пропущенных значений в каждом столбце\n",
    "df.iloc[:, 7:12].isna().sum()"
   ]
  },
  {
   "cell_type": "code",
   "execution_count": 568,
   "id": "6a6bf6e2",
   "metadata": {},
   "outputs": [
    {
     "data": {
      "text/plain": [
       "ID  объявления                  0\n",
       "Количество комнат             535\n",
       "Метро                         346\n",
       "Адрес                           0\n",
       "Площадь, м2                     0\n",
       "Дом                             0\n",
       "Парковка                    11174\n",
       "Цена                            0\n",
       "Описание                        0\n",
       "Ремонт                       2463\n",
       "Площадь комнат, м2           7228\n",
       "Балкон                       6630\n",
       "Окна                         5150\n",
       "Санузел                      2041\n",
       "Можно с детьми/животными     4915\n",
       "Дополнительно                 272\n",
       "Название ЖК                 15281\n",
       "Высота потолков, м           9202\n",
       "Лифт                         4192\n",
       "Мусоропровод                 8007\n",
       "dtype: int64"
      ]
     },
     "execution_count": 568,
     "metadata": {},
     "output_type": "execute_result"
    }
   ],
   "source": [
    "df.isna().sum()"
   ]
  },
  {
   "cell_type": "markdown",
   "id": "68052317",
   "metadata": {},
   "source": [
    "# Релиз 2.0"
   ]
  },
  {
   "cell_type": "markdown",
   "id": "82b7e9f2",
   "metadata": {},
   "source": [
    "### Площадь комнат"
   ]
  },
  {
   "cell_type": "code",
   "execution_count": 569,
   "id": "8ab135c5",
   "metadata": {},
   "outputs": [],
   "source": [
    "# вытаскиваем данные о площади комнат из площади квартиры по 2 индексу \n",
    "room_areas = df['Площадь, м2'].str.split('/').apply(lambda x: x[1] if isinstance(x, list) and len(x) > 1 else None)\n",
    "df.loc[df['Площадь комнат, м2'].isna(), 'Площадь комнат, м2'] = room_areas\n",
    "missing_indices = df['Площадь комнат, м2'].isna()\n",
    "df.loc[missing_indices, 'Площадь комнат, м2'] = df.loc[missing_indices, 'Площадь, м2'].str.split('/').str[0]\n"
   ]
  },
  {
   "cell_type": "code",
   "execution_count": 570,
   "id": "3f85a1bc",
   "metadata": {},
   "outputs": [
    {
     "data": {
      "text/plain": [
       "0"
      ]
     },
     "execution_count": 570,
     "metadata": {},
     "output_type": "execute_result"
    }
   ],
   "source": [
    "df['Площадь комнат, м2'].isna().sum()"
   ]
  },
  {
   "cell_type": "markdown",
   "id": "5cbde4d2",
   "metadata": {},
   "source": [
    "### Количество комнат"
   ]
  },
  {
   "cell_type": "code",
   "execution_count": 571,
   "id": "4cca8e15",
   "metadata": {},
   "outputs": [
    {
     "name": "stderr",
     "output_type": "stream",
     "text": [
      "/var/folders/vb/3hggmwrs7794d_7wkqtk7xtm0000gn/T/ipykernel_20158/3178003716.py:8: FutureWarning: A value is trying to be set on a copy of a DataFrame or Series through chained assignment using an inplace method.\n",
      "The behavior will change in pandas 3.0. This inplace method will never work because the intermediate object on which we are setting values always behaves as a copy.\n",
      "\n",
      "For example, when doing 'df[col].method(value, inplace=True)', try using 'df.method({col: value}, inplace=True)' or df[col] = df[col].method(value) instead, to perform the operation inplace on the original object.\n",
      "\n",
      "\n",
      "  df['Количество комнат'].fillna('Unknown', inplace=True)\n"
     ]
    },
    {
     "data": {
      "text/plain": [
       "rooms_num\n",
       "2    7407\n",
       "1    7190\n",
       "3    3668\n",
       "4    1011\n",
       "5     333\n",
       "6     128\n",
       "Name: count, dtype: int64"
      ]
     },
     "execution_count": 571,
     "metadata": {},
     "output_type": "execute_result"
    }
   ],
   "source": [
    "# Для заполнения пропущенных значений в столбце \"Количество комнат\" нам потребуется создать временные столбцы\n",
    "\n",
    "\n",
    "# На сайте видно, что на первом месте заспличенного столбца \"Площадь, м2\" всегда общая площадь\n",
    "df['total_area'] = df['Площадь, м2'].apply(lambda x: float(x.split('/')[0]))\n",
    "\n",
    "# Заменим NaN на строковые значения, чтобы затем создать еще один временный столбец с количеством комнат, куда будем складывать результаты вычислений\n",
    "df['Количество комнат'].fillna('Unknown', inplace=True)\n",
    "\n",
    "df['rooms_num'] = df['Количество комнат'].apply(lambda x: int(x.split(',')[0]) if x != 'Unknown' else x)\n",
    "\n",
    "# В некоторых строках с незаполненным количеством комнат, указаны площади комнат. Посчитаем количество площадей - это и будет количеством комнат\n",
    "df['area_based_room_num'] = df['Площадь комнат, м2'].apply(lambda x: len(x.split()) if isinstance(x, str) else x)\n",
    "\n",
    "# Создадим фильтр и занесем посчиатнные значения во временный столбец\n",
    "mask = (df['rooms_num'] == 'Unknown') & (~df['area_based_room_num'].isna())\n",
    "df.loc[mask, 'rooms_num'] = df.loc[mask, 'area_based_room_num']\n",
    "\n",
    "# Находим строки, где значение столбца 'rooms_num' неизвестно, а в 'Описании' упоминается \"студия\" или \"однокомнатность\",\n",
    "# и присваиваем им значение 1 в столбце 'rooms_num'\n",
    "df.loc[(df['rooms_num'] == 'Unknown') & (df['Описание'].str.contains('студи|однок', case=False)), 'rooms_num'] = 1\n",
    "df['rooms_num'].value_counts()"
   ]
  },
  {
   "cell_type": "code",
   "execution_count": 572,
   "id": "28ca25f7",
   "metadata": {},
   "outputs": [
    {
     "data": {
      "text/html": [
       "<div>\n",
       "<style scoped>\n",
       "    .dataframe tbody tr th:only-of-type {\n",
       "        vertical-align: middle;\n",
       "    }\n",
       "\n",
       "    .dataframe tbody tr th {\n",
       "        vertical-align: top;\n",
       "    }\n",
       "\n",
       "    .dataframe thead th {\n",
       "        text-align: right;\n",
       "    }\n",
       "</style>\n",
       "<table border=\"1\" class=\"dataframe\">\n",
       "  <thead>\n",
       "    <tr style=\"text-align: right;\">\n",
       "      <th></th>\n",
       "      <th>total_area</th>\n",
       "    </tr>\n",
       "    <tr>\n",
       "      <th>rooms_num</th>\n",
       "      <th></th>\n",
       "    </tr>\n",
       "  </thead>\n",
       "  <tbody>\n",
       "    <tr>\n",
       "      <th>1</th>\n",
       "      <td>37.0</td>\n",
       "    </tr>\n",
       "    <tr>\n",
       "      <th>2</th>\n",
       "      <td>52.0</td>\n",
       "    </tr>\n",
       "    <tr>\n",
       "      <th>3</th>\n",
       "      <td>80.0</td>\n",
       "    </tr>\n",
       "    <tr>\n",
       "      <th>4</th>\n",
       "      <td>145.0</td>\n",
       "    </tr>\n",
       "    <tr>\n",
       "      <th>5</th>\n",
       "      <td>206.0</td>\n",
       "    </tr>\n",
       "    <tr>\n",
       "      <th>6</th>\n",
       "      <td>330.0</td>\n",
       "    </tr>\n",
       "  </tbody>\n",
       "</table>\n",
       "</div>"
      ],
      "text/plain": [
       "           total_area\n",
       "rooms_num            \n",
       "1                37.0\n",
       "2                52.0\n",
       "3                80.0\n",
       "4               145.0\n",
       "5               206.0\n",
       "6               330.0"
      ]
     },
     "execution_count": 572,
     "metadata": {},
     "output_type": "execute_result"
    }
   ],
   "source": [
    "# Осталось совсем немного неизвестных значений, поэтому оставшиеся заполним опираясь на медианную площадь\n",
    "df[df['rooms_num'] != 'Unknown'][['rooms_num', 'total_area']].groupby('rooms_num').agg({'total_area': 'median'})"
   ]
  },
  {
   "cell_type": "code",
   "execution_count": 573,
   "id": "074041d3",
   "metadata": {},
   "outputs": [],
   "source": [
    "df.loc[(df['rooms_num'] == 'Unknown') & (df['total_area'] < 52), 'rooms_num'] = 1\n",
    "df.loc[(df['rooms_num'] == 'Unknown') & ~(df['total_area'] < 52), 'rooms_num'] = 2"
   ]
  },
  {
   "cell_type": "code",
   "execution_count": 574,
   "id": "b6534774",
   "metadata": {},
   "outputs": [
    {
     "data": {
      "text/plain": [
       "0"
      ]
     },
     "execution_count": 574,
     "metadata": {},
     "output_type": "execute_result"
    }
   ],
   "source": [
    "# Теперь заполним пропущенные значения в столбец Количество комнат\n",
    "\n",
    "df.loc[df['Количество комнат'] == 'Unknown', 'Количество комнат'] = df.loc[df['Количество комнат'] == 'Unknown', 'rooms_num']\n",
    "df['Количество комнат'].isna().sum()"
   ]
  },
  {
   "cell_type": "markdown",
   "id": "c012db90",
   "metadata": {},
   "source": [
    "### Метро"
   ]
  },
  {
   "cell_type": "code",
   "execution_count": 575,
   "id": "b7b1d509",
   "metadata": {},
   "outputs": [],
   "source": [
    "# Применим тот же подход, что и на предыдущем шаге\n",
    "\n",
    "df['Метро'] = df['Метро'].fillna('Unknown')\n",
    "\n",
    "df['metro'] = df['Метро'].apply(lambda x: x.split('(')[0])"
   ]
  },
  {
   "cell_type": "code",
   "execution_count": 576,
   "id": "f6ee0185",
   "metadata": {},
   "outputs": [
    {
     "data": {
      "text/plain": [
       "0"
      ]
     },
     "execution_count": 576,
     "metadata": {},
     "output_type": "execute_result"
    }
   ],
   "source": [
    "# При изучении датафрейма оказалось, что большое кол-во пропущенных станций метро приходятся на Зеленоград. Заменим их на \n",
    "# ближайшее метро\n",
    "df.loc[(df['metro'] == 'Unknown') & (df['Адрес'].str.contains('зеленогр', case=False)), 'metro'] = 'Ховрино (25 мин на машине)'\n",
    "df['metro'].isna().sum()"
   ]
  },
  {
   "cell_type": "markdown",
   "id": "44de08f5",
   "metadata": {},
   "source": [
    "### Парковка"
   ]
  },
  {
   "cell_type": "code",
   "execution_count": 577,
   "id": "2e90615a",
   "metadata": {},
   "outputs": [],
   "source": [
    "# Применим тот же подход, что и на предыдущем шаге. К третьему релизу проанализируем влияет ли наличие информации о парковке \n",
    "# на стоимость аренды\n",
    "df['Парковка'] = df['Парковка'].fillna('Unknown')"
   ]
  },
  {
   "cell_type": "code",
   "execution_count": 578,
   "id": "09c29eab",
   "metadata": {},
   "outputs": [
    {
     "data": {
      "text/plain": [
       "0"
      ]
     },
     "execution_count": 578,
     "metadata": {},
     "output_type": "execute_result"
    }
   ],
   "source": [
    "df['Парковка'].isna().sum()"
   ]
  },
  {
   "cell_type": "code",
   "execution_count": 579,
   "id": "4162409e",
   "metadata": {},
   "outputs": [],
   "source": [
    "# Если в столбце 'Название ЖК' есть записи, заполняем пропущенные значения в столбце 'Парковка' значением 'есть'\n",
    "##df.loc[df['Название ЖК'].notnull() & df['Парковка'].isna(), 'Парковка'] = 'есть'\n",
    "\n",
    "# Заполняем пропущенные значения в столбце 'Парковка' значением 'нет'\n",
    "\n",
    "#df['Парковка'] = df['Парковка'].fillna('нет')\n",
    "#df['Парковка'].isna().sum()"
   ]
  },
  {
   "cell_type": "code",
   "execution_count": 580,
   "id": "44c38f05",
   "metadata": {},
   "outputs": [],
   "source": [
    "#df['Парковка'].value_counts()"
   ]
  },
  {
   "cell_type": "code",
   "execution_count": 581,
   "id": "82301164",
   "metadata": {},
   "outputs": [],
   "source": [
    "# Заменяем все значения, кроме 'нет', на 'есть'\n",
    "# df['Парковка'] = df['Парковка'].replace(['наземная', 'подземная', 'есть', 'открытая', 'многоуровневая', 'на крыше'], 'есть')\n",
    "# df['Парковка'].value_counts() "
   ]
  },
  {
   "cell_type": "markdown",
   "id": "58148961",
   "metadata": {},
   "source": [
    "### Ремонт"
   ]
  },
  {
   "cell_type": "code",
   "execution_count": 582,
   "id": "8948f06e",
   "metadata": {},
   "outputs": [
    {
     "data": {
      "text/plain": [
       "Ремонт\n",
       "Косметический    7361\n",
       "Евроремонт       7004\n",
       "Дизайнерский     2773\n",
       "Без ремонта       136\n",
       "Name: count, dtype: int64"
      ]
     },
     "execution_count": 582,
     "metadata": {},
     "output_type": "execute_result"
    }
   ],
   "source": [
    "df['Ремонт'].value_counts()"
   ]
  },
  {
   "cell_type": "code",
   "execution_count": 583,
   "id": "f0478a05",
   "metadata": {},
   "outputs": [],
   "source": [
    "# Заменим на моду \n",
    "df['Ремонт'] = df['Ремонт'].fillna(df['Ремонт'].mode()[0])\n",
    "df.fillna({'Ремонт': df['Ремонт'].mode()[0]}, inplace=True)"
   ]
  },
  {
   "cell_type": "code",
   "execution_count": 584,
   "id": "7b1c1268",
   "metadata": {},
   "outputs": [],
   "source": [
    "# или заменим на Не указан\n",
    "# df['Ремонт']= df['Ремонт']fillna('Не указано')"
   ]
  },
  {
   "cell_type": "code",
   "execution_count": 585,
   "id": "df059be0",
   "metadata": {},
   "outputs": [
    {
     "data": {
      "text/plain": [
       "0"
      ]
     },
     "execution_count": 585,
     "metadata": {},
     "output_type": "execute_result"
    }
   ],
   "source": [
    "df['Ремонт'].isna().sum()"
   ]
  },
  {
   "cell_type": "markdown",
   "id": "b5c60f1c",
   "metadata": {},
   "source": [
    "### Балкон "
   ]
  },
  {
   "cell_type": "code",
   "execution_count": 586,
   "id": "ec63474d",
   "metadata": {},
   "outputs": [
    {
     "data": {
      "text/plain": [
       "count          13107\n",
       "unique            18\n",
       "top       Балкон (1)\n",
       "freq            6336\n",
       "Name: Балкон, dtype: object"
      ]
     },
     "execution_count": 586,
     "metadata": {},
     "output_type": "execute_result"
    }
   ],
   "source": [
    "df['Балкон'].describe()"
   ]
  },
  {
   "cell_type": "code",
   "execution_count": 587,
   "id": "f7916544",
   "metadata": {},
   "outputs": [
    {
     "data": {
      "text/plain": [
       "Балкон\n",
       "False    13107\n",
       "True      6630\n",
       "Name: count, dtype: int64"
      ]
     },
     "execution_count": 587,
     "metadata": {},
     "output_type": "execute_result"
    }
   ],
   "source": [
    "#Количество пропусков в столбце с Балконом\n",
    "df['Балкон'].isna().value_counts()"
   ]
  },
  {
   "cell_type": "code",
   "execution_count": 588,
   "id": "adf48650",
   "metadata": {},
   "outputs": [
    {
     "data": {
      "text/plain": [
       "Балкон\n",
       "Балкон (1)                6336\n",
       "Лоджия (1)                5032\n",
       "Балкон (1), Лоджия (1)     610\n",
       "Лоджия (2)                 537\n",
       "Балкон (2)                 423\n",
       "Балкон (3)                  45\n",
       "Лоджия (3)                  42\n",
       "Балкон (1), Лоджия (2)      21\n",
       "Балкон (2), Лоджия (2)      21\n",
       "Балкон (2), Лоджия (1)      16\n",
       "Лоджия (4)                   5\n",
       "Балкон (3), Лоджия (1)       4\n",
       "Балкон (4)                   4\n",
       "Балкон (1), Лоджия (3)       4\n",
       "Балкон (2), Лоджия (3)       3\n",
       "Балкон (1), Лоджия (4)       2\n",
       "Балкон (3), Лоджия (3)       1\n",
       "Балкон (4), Лоджия (4)       1\n",
       "Name: count, dtype: int64"
      ]
     },
     "execution_count": 588,
     "metadata": {},
     "output_type": "execute_result"
    }
   ],
   "source": [
    "df['Балкон'].value_counts()"
   ]
  },
  {
   "cell_type": "code",
   "execution_count": 589,
   "id": "42ab6b64",
   "metadata": {},
   "outputs": [
    {
     "data": {
      "text/plain": [
       "0"
      ]
     },
     "execution_count": 589,
     "metadata": {},
     "output_type": "execute_result"
    }
   ],
   "source": [
    "#Функция для заполнения пропусков в столбце Балкон на самые часто встречающиеся значение - Балкон(1) и Лоджия(1)\n",
    "def notna_balcony(row):\n",
    "    if pd.isna(row['Балкон']): \n",
    "        floor = int(re.findall(r'\\d+', row['Дом'])[0])  # Получаем первый найденный этаж\n",
    "        type_of_house = row['Дом'].split(',')[-1].strip()  # Убираем лишние пробелы\n",
    "        area = float(row['Площадь, м2'].split('/')[0])\n",
    "        if floor > 3 and area > 100 and type_of_house != 'Монолитный':\n",
    "            return 'Балкон (1)'\n",
    "        else:\n",
    "            return 'Лоджия (1)'\n",
    "    else:\n",
    "        return row['Балкон']\n",
    "    \n",
    "df['Балкон'] = df.apply(notna_balcony, axis=1)\n",
    "df['Балкон'].isna().sum()"
   ]
  },
  {
   "cell_type": "markdown",
   "id": "4bbe8c67",
   "metadata": {},
   "source": [
    "### Окна"
   ]
  },
  {
   "cell_type": "code",
   "execution_count": 590,
   "id": "fa2df71d",
   "metadata": {},
   "outputs": [
    {
     "data": {
      "text/plain": [
       "Окна\n",
       "Во двор            9708\n",
       "На улицу и двор    2762\n",
       "На улицу           2117\n",
       "Name: count, dtype: int64"
      ]
     },
     "execution_count": 590,
     "metadata": {},
     "output_type": "execute_result"
    }
   ],
   "source": [
    "#Сколько раз встречаются уникальные значения в столбце Окна\n",
    "df['Окна'].value_counts()"
   ]
  },
  {
   "cell_type": "code",
   "execution_count": 591,
   "id": "db004a1b",
   "metadata": {},
   "outputs": [
    {
     "data": {
      "text/plain": [
       "Окна\n",
       "False    14587\n",
       "True      5150\n",
       "Name: count, dtype: int64"
      ]
     },
     "execution_count": 591,
     "metadata": {},
     "output_type": "execute_result"
    }
   ],
   "source": [
    "#Количество пропусков в столбце Окна\n",
    "df['Окна'].isna().value_counts()"
   ]
  },
  {
   "cell_type": "code",
   "execution_count": 592,
   "id": "04b0a4c3",
   "metadata": {},
   "outputs": [],
   "source": [
    "#Согласно анализу объявлений, если в описании присутствует фраза \"вид на\", то, как правило вид из окон на достопримечательность, что сыграет роль в стоимости аренды\n",
    "#Функция для заполнения значений по описанию:\n",
    "def from_description(row):\n",
    "    if pd.isna(row['Окна']) and 'вид на' in row['Описание'].lower():\n",
    "        return 'На достопримечательность'\n",
    "    \n",
    "    elif pd.isna(row['Окна']) and 'вид во' in row['Описание'].lower():\n",
    "        return 'Во двор'\n",
    "    else:\n",
    "        return row['Окна']\n",
    "\n",
    "df['Окна'] = df.apply(from_description, axis=1)"
   ]
  },
  {
   "cell_type": "code",
   "execution_count": 593,
   "id": "2922c467",
   "metadata": {},
   "outputs": [
    {
     "data": {
      "text/plain": [
       "Окна\n",
       "Во двор                     9712\n",
       "На улицу и двор             2762\n",
       "На улицу                    2117\n",
       "На достопримечательность     138\n",
       "Name: count, dtype: int64"
      ]
     },
     "execution_count": 593,
     "metadata": {},
     "output_type": "execute_result"
    }
   ],
   "source": [
    "df['Окна'].value_counts()"
   ]
  },
  {
   "cell_type": "code",
   "execution_count": 594,
   "id": "31366c55",
   "metadata": {},
   "outputs": [],
   "source": [
    "#Функция для заполнения пропусков в столбце Окна в зависимости от этажа\n",
    "def from_floor(row):\n",
    "    if pd.isna(row['Окна']): \n",
    "        floor = int(re.findall(r'\\d+', row['Дом'])[0])\n",
    "        if floor < 6:\n",
    "            return 'Во двор'\n",
    "    else:\n",
    "        return row['Окна']    \n",
    " \n",
    "df['Окна'] = df.apply(from_floor, axis=1) "
   ]
  },
  {
   "cell_type": "code",
   "execution_count": 595,
   "id": "5d4e26c7",
   "metadata": {},
   "outputs": [
    {
     "data": {
      "text/plain": [
       "Окна\n",
       "Во двор                     13716\n",
       "На улицу и двор              3135\n",
       "На улицу                     2386\n",
       "На достопримечательность      156\n",
       "Name: count, dtype: int64"
      ]
     },
     "execution_count": 595,
     "metadata": {},
     "output_type": "execute_result"
    }
   ],
   "source": [
    "#Окончательно заполняем пропуски:\n",
    "\n",
    "# Вычисляем частоту встречания каждого значения в столбце \"Окна\"\n",
    "window_counts = df['Окна'].value_counts(normalize=True)\n",
    "\n",
    "# Заполняем пропуски в столбце \"Окна\" значениями на основе их частоты встречания\n",
    "df['Окна'] = df['Окна'].fillna(pd.Series(np.random.choice(window_counts.index, p=window_counts, size=len(df))))\n",
    "df['Окна'].value_counts()"
   ]
  },
  {
   "cell_type": "code",
   "execution_count": 596,
   "id": "285cca47",
   "metadata": {},
   "outputs": [
    {
     "data": {
      "text/plain": [
       "Окна\n",
       "Во двор                     0.707266\n",
       "На улицу и двор             0.161656\n",
       "На улицу                    0.123034\n",
       "На достопримечательность    0.008044\n",
       "Name: proportion, dtype: float64"
      ]
     },
     "execution_count": 596,
     "metadata": {},
     "output_type": "execute_result"
    }
   ],
   "source": [
    "# Вычисляем частоту встречания каждого значения\n",
    "window_counts = df['Окна'].value_counts(normalize=True)\n",
    "window_counts "
   ]
  },
  {
   "cell_type": "code",
   "execution_count": 597,
   "id": "55f2176a",
   "metadata": {},
   "outputs": [
    {
     "data": {
      "text/plain": [
       "0"
      ]
     },
     "execution_count": 597,
     "metadata": {},
     "output_type": "execute_result"
    }
   ],
   "source": [
    "# Генерируем значения для заполнения пропусков\n",
    "fill_values = np.random.choice(window_counts.index, p=window_counts, size=df['Окна'].isnull().sum())\n",
    "df.loc[df['Окна'].isnull(), 'Окна'] = fill_values\n",
    "df['Окна'].isna().sum()"
   ]
  },
  {
   "cell_type": "markdown",
   "id": "0859a8f3",
   "metadata": {},
   "source": [
    "### Санузел"
   ]
  },
  {
   "cell_type": "code",
   "execution_count": 598,
   "id": "5b9cc48b",
   "metadata": {},
   "outputs": [
    {
     "data": {
      "text/plain": [
       "Санузел\n",
       "Совмещенный (1)                    8500\n",
       "Раздельный (1)                     6139\n",
       "Совмещенный (2)                    1293\n",
       "Совмещенный (1), Раздельный (1)     730\n",
       "Раздельный (2)                      401\n",
       "Совмещенный (3)                     223\n",
       "Совмещенный (2), Раздельный (1)     179\n",
       "Совмещенный (4)                      74\n",
       "Раздельный (3)                       44\n",
       "Совмещенный (1), Раздельный (2)      28\n",
       "Совмещенный (3), Раздельный (1)      26\n",
       "Совмещенный (2), Раздельный (2)      22\n",
       "Раздельный (4)                       15\n",
       "Совмещенный (3), Раздельный (3)       6\n",
       "Совмещенный (4), Раздельный (1)       6\n",
       "Совмещенный (4), Раздельный (2)       4\n",
       "Совмещенный (1), Раздельный (3)       2\n",
       "Совмещенный (2), Раздельный (3)       2\n",
       "Совмещенный (2), Раздельный (4)       1\n",
       "Совмещенный (3), Раздельный (2)       1\n",
       "Name: count, dtype: int64"
      ]
     },
     "execution_count": 598,
     "metadata": {},
     "output_type": "execute_result"
    }
   ],
   "source": [
    "df['Санузел'].value_counts()"
   ]
  },
  {
   "cell_type": "code",
   "execution_count": 599,
   "id": "c78f4a33",
   "metadata": {},
   "outputs": [],
   "source": [
    "#Заполним пропуски модой при группировке по количеству комнат:\n",
    "mode_per_room = df.groupby('Количество комнат')['Санузел'].transform(lambda x: x.mode().iloc[0])\n",
    "df['Санузел'] = df['Санузел'].fillna(mode_per_room)"
   ]
  },
  {
   "cell_type": "code",
   "execution_count": 600,
   "id": "db84c07b",
   "metadata": {},
   "outputs": [
    {
     "data": {
      "text/plain": [
       "Index(['ID  объявления', 'Количество комнат', 'Метро', 'Адрес', 'Площадь, м2',\n",
       "       'Дом', 'Парковка', 'Цена', 'Описание', 'Ремонт', 'Площадь комнат, м2',\n",
       "       'Балкон', 'Окна', 'Санузел', 'Можно с детьми/животными',\n",
       "       'Дополнительно', 'Название ЖК', 'Высота потолков, м', 'Лифт',\n",
       "       'Мусоропровод', 'total_area', 'rooms_num', 'area_based_room_num',\n",
       "       'metro'],\n",
       "      dtype='object')"
      ]
     },
     "execution_count": 600,
     "metadata": {},
     "output_type": "execute_result"
    }
   ],
   "source": [
    "df.columns"
   ]
  },
  {
   "cell_type": "markdown",
   "id": "f3c617ac",
   "metadata": {},
   "source": [
    "### Можно с детьми/животными"
   ]
  },
  {
   "cell_type": "code",
   "execution_count": 601,
   "id": "b2d09cd2",
   "metadata": {},
   "outputs": [
    {
     "data": {
      "text/plain": [
       "Можно с детьми/животными\n",
       "False    14822\n",
       "True      4915\n",
       "Name: count, dtype: int64"
      ]
     },
     "execution_count": 601,
     "metadata": {},
     "output_type": "execute_result"
    }
   ],
   "source": [
    "df['Можно с детьми/животными'].isna().value_counts()"
   ]
  },
  {
   "cell_type": "code",
   "execution_count": 602,
   "id": "25b62066",
   "metadata": {},
   "outputs": [
    {
     "data": {
      "text/plain": [
       "Можно с детьми/животными\n",
       "Можно с детьми                       8540\n",
       "Можно с детьми, Можно с животными    6075\n",
       "Можно с животными                     207\n",
       "Name: count, dtype: int64"
      ]
     },
     "execution_count": 602,
     "metadata": {},
     "output_type": "execute_result"
    }
   ],
   "source": [
    "df['Можно с детьми/животными'].value_counts()"
   ]
  },
  {
   "cell_type": "code",
   "execution_count": 603,
   "id": "96fe6693",
   "metadata": {},
   "outputs": [],
   "source": [
    "# Применяем функцию для заполнения пропусков в столбце \"Можно с детьми/животными\" на основе описания\n",
    "def fill_children_animals_description(row):\n",
    "    if pd.isna(row['Можно с детьми/животными']):\n",
    "        description = row['Описание'].lower()\n",
    "        if any(word in description for word in ['детск', 'ребен', 'школ', 'семь']):\n",
    "            if 'нельзя с' not in description:\n",
    "                return 'Можно с детьми'\n",
    "            else:\n",
    "                return 'Нельзя никого'\n",
    "        elif any(word in description for word in ['питом', 'животн', 'собак', 'кошк', 'пес', 'кот']):\n",
    "            return 'Можно с животными'\n",
    "        elif 'нельзя с' in description:\n",
    "            return 'Нельзя никого'\n",
    "        else:\n",
    "            return np.nan\n",
    "    else:\n",
    "        return row['Можно с детьми/животными']\n",
    "\n",
    "df['Можно с детьми/животными'] = df.apply(fill_children_animals_description, axis=1)"
   ]
  },
  {
   "cell_type": "code",
   "execution_count": 604,
   "id": "e96c2979",
   "metadata": {},
   "outputs": [],
   "source": [
    "# Применяем функцию для заполнения пропусков в столбце \"Можно с детьми/животными\" на основе площади квартиры\n",
    "def fill_children_animals_area(row):\n",
    "    if pd.isna(row['Можно с детьми/животными']):\n",
    "        if float(row['Площадь, м2'].split('/')[0]) < 50:\n",
    "            return 'Нельзя никого'\n",
    "        else:\n",
    "            return 'Можно с детьми'   #Оставшиеся значения заполняются самым часто встречающимся\n",
    "    else:\n",
    "        return row['Можно с детьми/животными']   \n",
    "            \n",
    "\n",
    "df['Можно с детьми/животными'] = df.apply(fill_children_animals_area, axis=1)"
   ]
  },
  {
   "cell_type": "markdown",
   "id": "fda6937c",
   "metadata": {},
   "source": [
    "### Дополнительно"
   ]
  },
  {
   "cell_type": "code",
   "execution_count": 605,
   "id": "04d279a2",
   "metadata": {},
   "outputs": [
    {
     "data": {
      "text/plain": [
       "Дополнительно\n",
       "Мебель в комнатах, Мебель на кухне, Ванна, Стиральная машина, Телевизор, Холодильник, Интернет                                       2553\n",
       "Мебель в комнатах, Мебель на кухне, Ванна, Стиральная машина, Холодильник, Интернет                                                  1085\n",
       "Мебель в комнатах, Мебель на кухне, Ванна, Стиральная машина, Кондиционер, Посудомоечная машина, Телевизор, Холодильник, Интернет     977\n",
       "Мебель в комнатах, Мебель на кухне, Ванна, Стиральная машина, Кондиционер, Телевизор, Холодильник, Интернет                           906\n",
       "Мебель в комнатах, Мебель на кухне, Ванна, Стиральная машина, Телевизор, Холодильник, Интернет, Телефон                               859\n",
       "                                                                                                                                     ... \n",
       "Стиральная машина, Кондиционер                                                                                                          1\n",
       "Мебель в комнатах, Мебель на кухне, Ванна, Стиральная машина, Кондиционер, Интернет                                                     1\n",
       "Мебель в комнатах, Мебель на кухне, Душевая кабина, Кондиционер, Посудомоечная машина, Телевизор, Интернет                              1\n",
       "Мебель в комнатах, Мебель на кухне, Ванна, Душевая кабина, Телевизор, Холодильник                                                       1\n",
       "Мебель на кухне, Телевизор, Холодильник, Интернет                                                                                       1\n",
       "Name: count, Length: 488, dtype: int64"
      ]
     },
     "execution_count": 605,
     "metadata": {},
     "output_type": "execute_result"
    }
   ],
   "source": [
    "df['Дополнительно'].value_counts()"
   ]
  },
  {
   "cell_type": "code",
   "execution_count": 606,
   "id": "a79e7c21",
   "metadata": {},
   "outputs": [
    {
     "data": {
      "text/plain": [
       "Дополнительно\n",
       "False    19465\n",
       "True       272\n",
       "Name: count, dtype: int64"
      ]
     },
     "execution_count": 606,
     "metadata": {},
     "output_type": "execute_result"
    }
   ],
   "source": [
    "df['Дополнительно'].isna().value_counts()"
   ]
  },
  {
   "cell_type": "code",
   "execution_count": 607,
   "id": "e9e9840c",
   "metadata": {},
   "outputs": [
    {
     "data": {
      "text/html": [
       "<div>\n",
       "<style scoped>\n",
       "    .dataframe tbody tr th:only-of-type {\n",
       "        vertical-align: middle;\n",
       "    }\n",
       "\n",
       "    .dataframe tbody tr th {\n",
       "        vertical-align: top;\n",
       "    }\n",
       "\n",
       "    .dataframe thead th {\n",
       "        text-align: right;\n",
       "    }\n",
       "</style>\n",
       "<table border=\"1\" class=\"dataframe\">\n",
       "  <thead>\n",
       "    <tr style=\"text-align: right;\">\n",
       "      <th></th>\n",
       "      <th>ID  объявления</th>\n",
       "      <th>Количество комнат</th>\n",
       "      <th>Метро</th>\n",
       "      <th>Адрес</th>\n",
       "      <th>Площадь, м2</th>\n",
       "      <th>Дом</th>\n",
       "      <th>Парковка</th>\n",
       "      <th>Цена</th>\n",
       "      <th>Описание</th>\n",
       "      <th>Ремонт</th>\n",
       "      <th>Площадь комнат, м2</th>\n",
       "      <th>Балкон</th>\n",
       "      <th>Окна</th>\n",
       "      <th>Санузел</th>\n",
       "      <th>Можно с детьми/животными</th>\n",
       "      <th>Дополнительно</th>\n",
       "      <th>Название ЖК</th>\n",
       "      <th>Высота потолков, м</th>\n",
       "      <th>Лифт</th>\n",
       "      <th>Мусоропровод</th>\n",
       "      <th>total_area</th>\n",
       "      <th>rooms_num</th>\n",
       "      <th>area_based_room_num</th>\n",
       "      <th>metro</th>\n",
       "    </tr>\n",
       "  </thead>\n",
       "  <tbody>\n",
       "    <tr>\n",
       "      <th>8</th>\n",
       "      <td>273973191</td>\n",
       "      <td>3</td>\n",
       "      <td>м. Смоленская (9 мин пешком)</td>\n",
       "      <td>Москва, Новинский бульвар, 18С1</td>\n",
       "      <td>120.0/95.0/10.0</td>\n",
       "      <td>5/10, Сталинский</td>\n",
       "      <td>открытая</td>\n",
       "      <td>130000.0 руб./ За месяц, Залог - 130000 руб., ...</td>\n",
       "      <td>Лот 71833. Евгений Николаев.\\n\\nБонус агенту 1...</td>\n",
       "      <td>Евроремонт</td>\n",
       "      <td>45 25 25</td>\n",
       "      <td>Балкон (1)</td>\n",
       "      <td>На улицу</td>\n",
       "      <td>Совмещенный (1)</td>\n",
       "      <td>Можно с животными</td>\n",
       "      <td>Мебель на кухне, Ванна, Стиральная машина, Кон...</td>\n",
       "      <td>NaN</td>\n",
       "      <td>3.0</td>\n",
       "      <td>Пасс (1)</td>\n",
       "      <td>Нет</td>\n",
       "      <td>120.0</td>\n",
       "      <td>3</td>\n",
       "      <td>3</td>\n",
       "      <td>м. Смоленская</td>\n",
       "    </tr>\n",
       "    <tr>\n",
       "      <th>19</th>\n",
       "      <td>274748017</td>\n",
       "      <td>5, Оба варианта</td>\n",
       "      <td>м. Кропоткинская (6 мин пешком)</td>\n",
       "      <td>Москва, Филипповский переулок, 9</td>\n",
       "      <td>201.0/162.0/16.0</td>\n",
       "      <td>3/3</td>\n",
       "      <td>Unknown</td>\n",
       "      <td>190000.0 руб./ За месяц, Залог - 190000 руб., ...</td>\n",
       "      <td>ID 10903:  Просторная 5-комнатная квартира в д...</td>\n",
       "      <td>Евроремонт</td>\n",
       "      <td>24-22-24-28-64</td>\n",
       "      <td>Лоджия (1)</td>\n",
       "      <td>На улицу и двор</td>\n",
       "      <td>Совмещенный (3)</td>\n",
       "      <td>Можно с детьми, Можно с животными</td>\n",
       "      <td>Мебель на кухне, Ванна, Душевая кабина, Стирал...</td>\n",
       "      <td>NaN</td>\n",
       "      <td>3.2</td>\n",
       "      <td>Пасс (1)</td>\n",
       "      <td>NaN</td>\n",
       "      <td>201.0</td>\n",
       "      <td>5</td>\n",
       "      <td>1</td>\n",
       "      <td>м. Кропоткинская</td>\n",
       "    </tr>\n",
       "    <tr>\n",
       "      <th>56</th>\n",
       "      <td>274617827</td>\n",
       "      <td>5</td>\n",
       "      <td>м. Кропоткинская (8 мин пешком)</td>\n",
       "      <td>Москва, Филипповский переулок, 9</td>\n",
       "      <td>200.0/150.0/30.0</td>\n",
       "      <td>3/3, Кирпичный</td>\n",
       "      <td>Unknown</td>\n",
       "      <td>190000.0 руб./ За месяц, Залог - 190000 руб., ...</td>\n",
       "      <td>Предлагается 5-ти комнатная квартира в отреста...</td>\n",
       "      <td>Евроремонт</td>\n",
       "      <td>30-30-30-30-30</td>\n",
       "      <td>Лоджия (1)</td>\n",
       "      <td>Во двор</td>\n",
       "      <td>Совмещенный (2)</td>\n",
       "      <td>Можно с детьми, Можно с животными</td>\n",
       "      <td>Мебель на кухне, Стиральная машина, Телевизор,...</td>\n",
       "      <td>NaN</td>\n",
       "      <td>NaN</td>\n",
       "      <td>NaN</td>\n",
       "      <td>NaN</td>\n",
       "      <td>200.0</td>\n",
       "      <td>5</td>\n",
       "      <td>1</td>\n",
       "      <td>м. Кропоткинская</td>\n",
       "    </tr>\n",
       "    <tr>\n",
       "      <th>69</th>\n",
       "      <td>271264562</td>\n",
       "      <td>5</td>\n",
       "      <td>м. Кропоткинская (5 мин пешком)</td>\n",
       "      <td>Москва, Гоголевский бульвар, 23</td>\n",
       "      <td>170.0/104.0/21.0</td>\n",
       "      <td>5/5, старый фонд</td>\n",
       "      <td>наземная</td>\n",
       "      <td>175000.0 руб./ За месяц, Залог - 175000 руб., ...</td>\n",
       "      <td>Лот 67428. Анастасия Баталова.\\n\\nБонус агенту...</td>\n",
       "      <td>Евроремонт</td>\n",
       "      <td>14 11 20 48 11</td>\n",
       "      <td>Балкон (1)</td>\n",
       "      <td>На улицу и двор</td>\n",
       "      <td>Совмещенный (2)</td>\n",
       "      <td>Можно с детьми, Можно с животными</td>\n",
       "      <td>Мебель на кухне, Душевая кабина, Стиральная ма...</td>\n",
       "      <td>NaN</td>\n",
       "      <td>3.2</td>\n",
       "      <td>Пасс (1)</td>\n",
       "      <td>Да</td>\n",
       "      <td>170.0</td>\n",
       "      <td>5</td>\n",
       "      <td>5</td>\n",
       "      <td>м. Кропоткинская</td>\n",
       "    </tr>\n",
       "    <tr>\n",
       "      <th>74</th>\n",
       "      <td>271766412</td>\n",
       "      <td>6</td>\n",
       "      <td>м. Александровский сад (4 мин пешком)</td>\n",
       "      <td>Москва, переулок Романов, 5</td>\n",
       "      <td>228.0/159.0/30.0</td>\n",
       "      <td>3/6</td>\n",
       "      <td>Unknown</td>\n",
       "      <td>400000.0 руб./ За месяц, Залог - 400000 руб., ...</td>\n",
       "      <td>Лот 30273. Коллегам бонус 50 000 рублей. Татья...</td>\n",
       "      <td>Евроремонт</td>\n",
       "      <td>50+30+19+18+23+19</td>\n",
       "      <td>Балкон (1)</td>\n",
       "      <td>Во двор</td>\n",
       "      <td>Совмещенный (2)</td>\n",
       "      <td>Можно с детьми</td>\n",
       "      <td>Мебель на кухне, Душевая кабина, Стиральная ма...</td>\n",
       "      <td>NaN</td>\n",
       "      <td>NaN</td>\n",
       "      <td>Пасс (1)</td>\n",
       "      <td>NaN</td>\n",
       "      <td>228.0</td>\n",
       "      <td>6</td>\n",
       "      <td>1</td>\n",
       "      <td>м. Александровский сад</td>\n",
       "    </tr>\n",
       "    <tr>\n",
       "      <th>...</th>\n",
       "      <td>...</td>\n",
       "      <td>...</td>\n",
       "      <td>...</td>\n",
       "      <td>...</td>\n",
       "      <td>...</td>\n",
       "      <td>...</td>\n",
       "      <td>...</td>\n",
       "      <td>...</td>\n",
       "      <td>...</td>\n",
       "      <td>...</td>\n",
       "      <td>...</td>\n",
       "      <td>...</td>\n",
       "      <td>...</td>\n",
       "      <td>...</td>\n",
       "      <td>...</td>\n",
       "      <td>...</td>\n",
       "      <td>...</td>\n",
       "      <td>...</td>\n",
       "      <td>...</td>\n",
       "      <td>...</td>\n",
       "      <td>...</td>\n",
       "      <td>...</td>\n",
       "      <td>...</td>\n",
       "      <td>...</td>\n",
       "    </tr>\n",
       "    <tr>\n",
       "      <th>22989</th>\n",
       "      <td>274204547</td>\n",
       "      <td>4</td>\n",
       "      <td>м. Сокол (5 мин на машине)</td>\n",
       "      <td>Москва, Иваньковское шоссе, 5</td>\n",
       "      <td>150.0/83.0/15.0</td>\n",
       "      <td>16/23, Монолитно-кирпичный</td>\n",
       "      <td>подземная</td>\n",
       "      <td>250000.0 руб./ За месяц, Залог - 250000 руб., ...</td>\n",
       "      <td>Лот 81033. Ирина Волкова.\\n\\nБонус агенту 2500...</td>\n",
       "      <td>Евроремонт</td>\n",
       "      <td>19 18 11 35</td>\n",
       "      <td>Балкон (1)</td>\n",
       "      <td>На улицу и двор</td>\n",
       "      <td>Совмещенный (2)</td>\n",
       "      <td>Можно с детьми, Можно с животными</td>\n",
       "      <td>Мебель на кухне, Ванна, Душевая кабина, Стирал...</td>\n",
       "      <td>NaN</td>\n",
       "      <td>3.0</td>\n",
       "      <td>Пасс (1), Груз (1)</td>\n",
       "      <td>Да</td>\n",
       "      <td>150.0</td>\n",
       "      <td>4</td>\n",
       "      <td>4</td>\n",
       "      <td>м. Сокол</td>\n",
       "    </tr>\n",
       "    <tr>\n",
       "      <th>23031</th>\n",
       "      <td>274776175</td>\n",
       "      <td>4</td>\n",
       "      <td>м. Щукинская (19 мин пешком)</td>\n",
       "      <td>Москва, Иваньковское шоссе, 5</td>\n",
       "      <td>150.0/100.0/20.0</td>\n",
       "      <td>16/24</td>\n",
       "      <td>Unknown</td>\n",
       "      <td>250000.0 руб./ За месяц, Залог - 250000 руб., ...</td>\n",
       "      <td>Лот 69725. Просторная светлая квартира без меб...</td>\n",
       "      <td>Евроремонт</td>\n",
       "      <td>25+20+20+35</td>\n",
       "      <td>Балкон (1)</td>\n",
       "      <td>На улицу</td>\n",
       "      <td>Совмещенный (2)</td>\n",
       "      <td>Можно с детьми</td>\n",
       "      <td>Мебель в комнатах, Мебель на кухне, Стиральная...</td>\n",
       "      <td>NaN</td>\n",
       "      <td>NaN</td>\n",
       "      <td>NaN</td>\n",
       "      <td>NaN</td>\n",
       "      <td>150.0</td>\n",
       "      <td>4</td>\n",
       "      <td>1</td>\n",
       "      <td>м. Щукинская</td>\n",
       "    </tr>\n",
       "    <tr>\n",
       "      <th>23132</th>\n",
       "      <td>269188642</td>\n",
       "      <td>4</td>\n",
       "      <td>м. Стрешнево (10 мин на машине)</td>\n",
       "      <td>Москва, Никольский тупик, 2к1</td>\n",
       "      <td>220.0/130.0/20.0</td>\n",
       "      <td>4/6, Монолитно-кирпичный</td>\n",
       "      <td>подземная</td>\n",
       "      <td>500000.0 руб./ За месяц, Залог - 500000 руб., ...</td>\n",
       "      <td>ЭЛИТНЫЙ ЖК ЧАЙКА с круглосуточной охраной, вид...</td>\n",
       "      <td>Дизайнерский</td>\n",
       "      <td>130.0</td>\n",
       "      <td>Балкон (1)</td>\n",
       "      <td>Во двор</td>\n",
       "      <td>Совмещенный (3)</td>\n",
       "      <td>Можно с детьми, Можно с животными</td>\n",
       "      <td>Мебель на кухне, Ванна, Душевая кабина, Стирал...</td>\n",
       "      <td>NaN</td>\n",
       "      <td>NaN</td>\n",
       "      <td>Пасс (2), Груз (2)</td>\n",
       "      <td>NaN</td>\n",
       "      <td>220.0</td>\n",
       "      <td>4</td>\n",
       "      <td>1</td>\n",
       "      <td>м. Стрешнево</td>\n",
       "    </tr>\n",
       "    <tr>\n",
       "      <th>23133</th>\n",
       "      <td>271992616</td>\n",
       "      <td>4, Оба варианта</td>\n",
       "      <td>м. Сокол (10 мин на машине)</td>\n",
       "      <td>Москва, Береговая улица, 8К1</td>\n",
       "      <td>203.0/92.0/25.0</td>\n",
       "      <td>1/5</td>\n",
       "      <td>наземная</td>\n",
       "      <td>600000.0 руб./ За месяц, Залог - 600000 руб., ...</td>\n",
       "      <td>ID 35735:  Предлагается превосходная, просторн...</td>\n",
       "      <td>Евроремонт</td>\n",
       "      <td>30-20-20-22</td>\n",
       "      <td>Лоджия (1)</td>\n",
       "      <td>На улицу</td>\n",
       "      <td>Совмещенный (2)</td>\n",
       "      <td>Можно с детьми, Можно с животными</td>\n",
       "      <td>Мебель на кухне, Ванна, Душевая кабина, Стирал...</td>\n",
       "      <td>NaN</td>\n",
       "      <td>3.2</td>\n",
       "      <td>Пасс (1)</td>\n",
       "      <td>NaN</td>\n",
       "      <td>203.0</td>\n",
       "      <td>4</td>\n",
       "      <td>1</td>\n",
       "      <td>м. Сокол</td>\n",
       "    </tr>\n",
       "    <tr>\n",
       "      <th>23345</th>\n",
       "      <td>264551789</td>\n",
       "      <td>1</td>\n",
       "      <td>м. Говорово (7 мин пешком)</td>\n",
       "      <td>Москва, Боровское шоссе, 2к2, ш. Боровское (4 ...</td>\n",
       "      <td>38.0/18.0/10.0</td>\n",
       "      <td>12/14, Панельный</td>\n",
       "      <td>Unknown</td>\n",
       "      <td>47000.0 руб./ За месяц, Залог - 47000 руб., Ко...</td>\n",
       "      <td>1 комнатная квартира в ЖК Мещерский лес (застр...</td>\n",
       "      <td>Косметический</td>\n",
       "      <td>18.0</td>\n",
       "      <td>Балкон (1)</td>\n",
       "      <td>Во двор</td>\n",
       "      <td>Совмещенный (1)</td>\n",
       "      <td>Можно с детьми</td>\n",
       "      <td>Мебель на кухне, Ванна, Стиральная машина, Хол...</td>\n",
       "      <td>Мещерский лес, 2019</td>\n",
       "      <td>2.6</td>\n",
       "      <td>Пасс (1), Груз (1)</td>\n",
       "      <td>Нет</td>\n",
       "      <td>38.0</td>\n",
       "      <td>1</td>\n",
       "      <td>1</td>\n",
       "      <td>м. Говорово</td>\n",
       "    </tr>\n",
       "  </tbody>\n",
       "</table>\n",
       "<p>266 rows × 24 columns</p>\n",
       "</div>"
      ],
      "text/plain": [
       "       ID  объявления Количество комнат  \\\n",
       "8           273973191                 3   \n",
       "19          274748017   5, Оба варианта   \n",
       "56          274617827                 5   \n",
       "69          271264562                 5   \n",
       "74          271766412                 6   \n",
       "...               ...               ...   \n",
       "22989       274204547                 4   \n",
       "23031       274776175                 4   \n",
       "23132       269188642                 4   \n",
       "23133       271992616   4, Оба варианта   \n",
       "23345       264551789                 1   \n",
       "\n",
       "                                       Метро  \\\n",
       "8               м. Смоленская (9 мин пешком)   \n",
       "19           м. Кропоткинская (6 мин пешком)   \n",
       "56           м. Кропоткинская (8 мин пешком)   \n",
       "69           м. Кропоткинская (5 мин пешком)   \n",
       "74     м. Александровский сад (4 мин пешком)   \n",
       "...                                      ...   \n",
       "22989             м. Сокол (5 мин на машине)   \n",
       "23031           м. Щукинская (19 мин пешком)   \n",
       "23132        м. Стрешнево (10 мин на машине)   \n",
       "23133            м. Сокол (10 мин на машине)   \n",
       "23345             м. Говорово (7 мин пешком)   \n",
       "\n",
       "                                                   Адрес       Площадь, м2  \\\n",
       "8                        Москва, Новинский бульвар, 18С1   120.0/95.0/10.0   \n",
       "19                      Москва, Филипповский переулок, 9  201.0/162.0/16.0   \n",
       "56                      Москва, Филипповский переулок, 9  200.0/150.0/30.0   \n",
       "69                       Москва, Гоголевский бульвар, 23  170.0/104.0/21.0   \n",
       "74                           Москва, переулок Романов, 5  228.0/159.0/30.0   \n",
       "...                                                  ...               ...   \n",
       "22989                      Москва, Иваньковское шоссе, 5   150.0/83.0/15.0   \n",
       "23031                      Москва, Иваньковское шоссе, 5  150.0/100.0/20.0   \n",
       "23132                      Москва, Никольский тупик, 2к1  220.0/130.0/20.0   \n",
       "23133                       Москва, Береговая улица, 8К1   203.0/92.0/25.0   \n",
       "23345  Москва, Боровское шоссе, 2к2, ш. Боровское (4 ...    38.0/18.0/10.0   \n",
       "\n",
       "                              Дом   Парковка  \\\n",
       "8                5/10, Сталинский   открытая   \n",
       "19                            3/3    Unknown   \n",
       "56                 3/3, Кирпичный    Unknown   \n",
       "69               5/5, старый фонд   наземная   \n",
       "74                            3/6    Unknown   \n",
       "...                           ...        ...   \n",
       "22989  16/23, Монолитно-кирпичный  подземная   \n",
       "23031                       16/24    Unknown   \n",
       "23132    4/6, Монолитно-кирпичный  подземная   \n",
       "23133                         1/5   наземная   \n",
       "23345            12/14, Панельный    Unknown   \n",
       "\n",
       "                                                    Цена  \\\n",
       "8      130000.0 руб./ За месяц, Залог - 130000 руб., ...   \n",
       "19     190000.0 руб./ За месяц, Залог - 190000 руб., ...   \n",
       "56     190000.0 руб./ За месяц, Залог - 190000 руб., ...   \n",
       "69     175000.0 руб./ За месяц, Залог - 175000 руб., ...   \n",
       "74     400000.0 руб./ За месяц, Залог - 400000 руб., ...   \n",
       "...                                                  ...   \n",
       "22989  250000.0 руб./ За месяц, Залог - 250000 руб., ...   \n",
       "23031  250000.0 руб./ За месяц, Залог - 250000 руб., ...   \n",
       "23132  500000.0 руб./ За месяц, Залог - 500000 руб., ...   \n",
       "23133  600000.0 руб./ За месяц, Залог - 600000 руб., ...   \n",
       "23345  47000.0 руб./ За месяц, Залог - 47000 руб., Ко...   \n",
       "\n",
       "                                                Описание         Ремонт  \\\n",
       "8      Лот 71833. Евгений Николаев.\\n\\nБонус агенту 1...     Евроремонт   \n",
       "19     ID 10903:  Просторная 5-комнатная квартира в д...     Евроремонт   \n",
       "56     Предлагается 5-ти комнатная квартира в отреста...     Евроремонт   \n",
       "69     Лот 67428. Анастасия Баталова.\\n\\nБонус агенту...     Евроремонт   \n",
       "74     Лот 30273. Коллегам бонус 50 000 рублей. Татья...     Евроремонт   \n",
       "...                                                  ...            ...   \n",
       "22989  Лот 81033. Ирина Волкова.\\n\\nБонус агенту 2500...     Евроремонт   \n",
       "23031  Лот 69725. Просторная светлая квартира без меб...     Евроремонт   \n",
       "23132  ЭЛИТНЫЙ ЖК ЧАЙКА с круглосуточной охраной, вид...   Дизайнерский   \n",
       "23133  ID 35735:  Предлагается превосходная, просторн...     Евроремонт   \n",
       "23345  1 комнатная квартира в ЖК Мещерский лес (застр...  Косметический   \n",
       "\n",
       "      Площадь комнат, м2      Балкон             Окна          Санузел  \\\n",
       "8               45 25 25  Балкон (1)         На улицу  Совмещенный (1)   \n",
       "19        24-22-24-28-64  Лоджия (1)  На улицу и двор  Совмещенный (3)   \n",
       "56        30-30-30-30-30  Лоджия (1)          Во двор  Совмещенный (2)   \n",
       "69        14 11 20 48 11  Балкон (1)  На улицу и двор  Совмещенный (2)   \n",
       "74     50+30+19+18+23+19  Балкон (1)          Во двор  Совмещенный (2)   \n",
       "...                  ...         ...              ...              ...   \n",
       "22989        19 18 11 35  Балкон (1)  На улицу и двор  Совмещенный (2)   \n",
       "23031        25+20+20+35  Балкон (1)         На улицу  Совмещенный (2)   \n",
       "23132              130.0  Балкон (1)          Во двор  Совмещенный (3)   \n",
       "23133        30-20-20-22  Лоджия (1)         На улицу  Совмещенный (2)   \n",
       "23345               18.0  Балкон (1)          Во двор  Совмещенный (1)   \n",
       "\n",
       "                Можно с детьми/животными  \\\n",
       "8                      Можно с животными   \n",
       "19     Можно с детьми, Можно с животными   \n",
       "56     Можно с детьми, Можно с животными   \n",
       "69     Можно с детьми, Можно с животными   \n",
       "74                        Можно с детьми   \n",
       "...                                  ...   \n",
       "22989  Можно с детьми, Можно с животными   \n",
       "23031                     Можно с детьми   \n",
       "23132  Можно с детьми, Можно с животными   \n",
       "23133  Можно с детьми, Можно с животными   \n",
       "23345                     Можно с детьми   \n",
       "\n",
       "                                           Дополнительно          Название ЖК  \\\n",
       "8      Мебель на кухне, Ванна, Стиральная машина, Кон...                  NaN   \n",
       "19     Мебель на кухне, Ванна, Душевая кабина, Стирал...                  NaN   \n",
       "56     Мебель на кухне, Стиральная машина, Телевизор,...                  NaN   \n",
       "69     Мебель на кухне, Душевая кабина, Стиральная ма...                  NaN   \n",
       "74     Мебель на кухне, Душевая кабина, Стиральная ма...                  NaN   \n",
       "...                                                  ...                  ...   \n",
       "22989  Мебель на кухне, Ванна, Душевая кабина, Стирал...                  NaN   \n",
       "23031  Мебель в комнатах, Мебель на кухне, Стиральная...                  NaN   \n",
       "23132  Мебель на кухне, Ванна, Душевая кабина, Стирал...                  NaN   \n",
       "23133  Мебель на кухне, Ванна, Душевая кабина, Стирал...                  NaN   \n",
       "23345  Мебель на кухне, Ванна, Стиральная машина, Хол...  Мещерский лес, 2019   \n",
       "\n",
       "       Высота потолков, м                Лифт Мусоропровод  total_area  \\\n",
       "8                     3.0            Пасс (1)          Нет       120.0   \n",
       "19                    3.2            Пасс (1)          NaN       201.0   \n",
       "56                    NaN                 NaN          NaN       200.0   \n",
       "69                    3.2            Пасс (1)           Да       170.0   \n",
       "74                    NaN            Пасс (1)          NaN       228.0   \n",
       "...                   ...                 ...          ...         ...   \n",
       "22989                 3.0  Пасс (1), Груз (1)           Да       150.0   \n",
       "23031                 NaN                 NaN          NaN       150.0   \n",
       "23132                 NaN  Пасс (2), Груз (2)          NaN       220.0   \n",
       "23133                 3.2            Пасс (1)          NaN       203.0   \n",
       "23345                 2.6  Пасс (1), Груз (1)          Нет        38.0   \n",
       "\n",
       "      rooms_num  area_based_room_num                    metro  \n",
       "8             3                    3           м. Смоленская   \n",
       "19            5                    1        м. Кропоткинская   \n",
       "56            5                    1        м. Кропоткинская   \n",
       "69            5                    5        м. Кропоткинская   \n",
       "74            6                    1  м. Александровский сад   \n",
       "...         ...                  ...                      ...  \n",
       "22989         4                    4                м. Сокол   \n",
       "23031         4                    1            м. Щукинская   \n",
       "23132         4                    1            м. Стрешнево   \n",
       "23133         4                    1                м. Сокол   \n",
       "23345         1                    1             м. Говорово   \n",
       "\n",
       "[266 rows x 24 columns]"
      ]
     },
     "execution_count": 607,
     "metadata": {},
     "output_type": "execute_result"
    }
   ],
   "source": [
    "df[df['Описание'].str.contains('без мебели', case=False, na=False)]"
   ]
  },
  {
   "cell_type": "code",
   "execution_count": 608,
   "id": "54460c57",
   "metadata": {},
   "outputs": [],
   "source": [
    "# Применяем функцию для заполнения пропусков в столбце на основе описания\n",
    "def additional_description(row):\n",
    "    if pd.isna(row['Дополнительно']):\n",
    "        description = row['Описание'].lower()\n",
    "        if any(word in description for word in ['без мебели', 'мебели нет']):\n",
    "            if any(word in description for word in ['стиральная', 'техникой', 'холодильник', 'оборудована']):\n",
    "                return 'мебель и техника'  # Обновляем значение на \"мебель и техника\"\n",
    "            else:\n",
    "                return 'ничего'  # Обновляем значение на \"ничего\"\n",
    "        elif any(word in description for word in ['частично мебел', 'вся мебель', 'мебель в', 'необходимая', 'необходимой', 'меблирован', 'новой мебелью']):\n",
    "            if any(word in description for word in ['стиральная', 'техникой', 'холодильник', 'оборудована']):\n",
    "                return 'мебель и техника'  # Обновляем значение на \"мебель и техника\"\n",
    "            else:\n",
    "                return 'мебель'  # Обновляем значение на \"мебель\"\n",
    "        else:\n",
    "            return 'мебель и техника'\n",
    "    else:\n",
    "        return row['Дополнительно']\n",
    "\n",
    "df['Дополнительно'] = df.apply(additional_description, axis=1)"
   ]
  },
  {
   "cell_type": "code",
   "execution_count": 609,
   "id": "d5539d5b",
   "metadata": {},
   "outputs": [],
   "source": [
    "# #Приведение названий столбцов к нужномуу формату - английский язык + соединение слов _РЕШИЛИ ДЕЛАТЬ В КОНЦЕ,,,\n",
    "df.rename(columns = {'Площадь комнат, м2': 'rooms_square', 'Балкон': 'balcony', 'Окна': 'windows', 'Санузел': 'bathroom', 'Можно с детьми/животными': 'сhildren/pets_allowed',\n",
    "                    'Дополнительно': 'additionally'}, inplace=True)"
   ]
  },
  {
   "cell_type": "markdown",
   "id": "c64b7783",
   "metadata": {},
   "source": [
    "### Название ЖК"
   ]
  },
  {
   "cell_type": "code",
   "execution_count": 610,
   "id": "3bccc829",
   "metadata": {},
   "outputs": [],
   "source": [
    "df['Название ЖК'] = df['Название ЖК'].fillna(0) #заменяем на ноль, т.к. в описание не везде написан ЖК"
   ]
  },
  {
   "cell_type": "code",
   "execution_count": 611,
   "id": "1cedb602",
   "metadata": {},
   "outputs": [
    {
     "data": {
      "text/plain": [
       "Название ЖК\n",
       "0                                15281\n",
       "Символ, 2019                        61\n",
       "Водный, 2015                        45\n",
       "Квартал на Ленинском                37\n",
       "Метрополия, 2021                    36\n",
       "                                 ...  \n",
       "На Базовской                         1\n",
       "Талисман на Дмитровском, 2022        1\n",
       "Беловежская пуща                     1\n",
       "Ильменский 17, 1967                  1\n",
       "В Солнцево                           1\n",
       "Name: count, Length: 1134, dtype: int64"
      ]
     },
     "execution_count": 611,
     "metadata": {},
     "output_type": "execute_result"
    }
   ],
   "source": [
    "\n",
    "# df['Название ЖК'] = df['Название ЖК'].apply(lambda x: 1 if x != 0 else 0)\n",
    "#df['Название ЖК'] = df['Название ЖК'].astype(int)\n",
    "df['Название ЖК'].value_counts()"
   ]
  },
  {
   "cell_type": "markdown",
   "id": "45c48c3c",
   "metadata": {},
   "source": [
    "### Высота потолков, м"
   ]
  },
  {
   "cell_type": "code",
   "execution_count": 612,
   "id": "5e3dbe74",
   "metadata": {},
   "outputs": [],
   "source": [
    "# Высота потолка в метры\n",
    "def convert_to_metr(height):\n",
    "    if height > 99:\n",
    "        return height / 100\n",
    "    else:\n",
    "        return height\n",
    "\n",
    "\n",
    "df['Высота потолков, м'] = df['Высота потолков, м'].apply(convert_to_metr)"
   ]
  },
  {
   "cell_type": "code",
   "execution_count": 613,
   "id": "1090994d",
   "metadata": {},
   "outputs": [],
   "source": [
    "#Заменяем пустые значения на среднюю высоту по станции метро\n",
    "average_height_by_metro = df.groupby('Метро')['Высота потолков, м'].mean()\n",
    "def replace_missing_height(row):\n",
    "    metro = row['Метро']\n",
    "    height = row['Высота потолков, м']\n",
    "    if pd.isnull(height):\n",
    "        return average_height_by_metro.get(metro, height) \n",
    "    else:\n",
    "        return height\n",
    "df['Высота потолков, м'] = df.apply(replace_missing_height, axis=1)"
   ]
  },
  {
   "cell_type": "code",
   "execution_count": 614,
   "id": "cf6aff9b",
   "metadata": {},
   "outputs": [],
   "source": [
    "#Заменяем выбросы на среднее значение\n",
    "mean_height = df['Высота потолков, м'].mean()\n",
    "def replace_extreme_height(height):\n",
    "    #height = row['Высота потолков, м']\n",
    "    if height > 5 or height < 2:\n",
    "        return mean_height  # Возвращаем среднюю высоту по метро или исходное значение, если нет средней высоты\n",
    "    else:\n",
    "        return height\n",
    "df['Высота потолков, м'] = df['Высота потолков, м'].apply(replace_extreme_height)\n",
    "df['Высота потолков, м'] = df['Высота потолков, м'].fillna(mean_height)\n",
    "df['Высота потолков, м'] = df['Высота потолков, м'].round(1)"
   ]
  },
  {
   "cell_type": "markdown",
   "id": "fd81fede",
   "metadata": {},
   "source": [
    "### Лифт"
   ]
  },
  {
   "cell_type": "code",
   "execution_count": 615,
   "id": "9be76b44",
   "metadata": {},
   "outputs": [
    {
     "data": {
      "text/plain": [
       "0                 5/16, Монолитный\n",
       "1        5/16, Монолитно-кирпичный\n",
       "2                             5/16\n",
       "3                              5/6\n",
       "4                 12/26, Панельный\n",
       "                   ...            \n",
       "23363                        10/14\n",
       "23364             5/18, Монолитный\n",
       "23365               5/5, Кирпичный\n",
       "23366             8/23, Монолитный\n",
       "23367              6/23, Панельный\n",
       "Name: Дом, Length: 19737, dtype: object"
      ]
     },
     "execution_count": 615,
     "metadata": {},
     "output_type": "execute_result"
    }
   ],
   "source": [
    "df['Дом']"
   ]
  },
  {
   "cell_type": "code",
   "execution_count": 616,
   "id": "e6c7ac5d",
   "metadata": {},
   "outputs": [
    {
     "data": {
      "text/html": [
       "<div>\n",
       "<style scoped>\n",
       "    .dataframe tbody tr th:only-of-type {\n",
       "        vertical-align: middle;\n",
       "    }\n",
       "\n",
       "    .dataframe tbody tr th {\n",
       "        vertical-align: top;\n",
       "    }\n",
       "\n",
       "    .dataframe thead th {\n",
       "        text-align: right;\n",
       "    }\n",
       "</style>\n",
       "<table border=\"1\" class=\"dataframe\">\n",
       "  <thead>\n",
       "    <tr style=\"text-align: right;\">\n",
       "      <th></th>\n",
       "      <th>Этажность</th>\n",
       "      <th>Лифт</th>\n",
       "    </tr>\n",
       "  </thead>\n",
       "  <tbody>\n",
       "    <tr>\n",
       "      <th>0</th>\n",
       "      <td>16</td>\n",
       "      <td>Пасс (4), Груз (1)</td>\n",
       "    </tr>\n",
       "    <tr>\n",
       "      <th>1</th>\n",
       "      <td>16</td>\n",
       "      <td>Пасс (1), Груз (1)</td>\n",
       "    </tr>\n",
       "    <tr>\n",
       "      <th>2</th>\n",
       "      <td>16</td>\n",
       "      <td>Пасс (1)</td>\n",
       "    </tr>\n",
       "    <tr>\n",
       "      <th>3</th>\n",
       "      <td>6</td>\n",
       "      <td>Пасс (1)</td>\n",
       "    </tr>\n",
       "    <tr>\n",
       "      <th>4</th>\n",
       "      <td>26</td>\n",
       "      <td>Пасс (1), Груз (1)</td>\n",
       "    </tr>\n",
       "    <tr>\n",
       "      <th>...</th>\n",
       "      <td>...</td>\n",
       "      <td>...</td>\n",
       "    </tr>\n",
       "    <tr>\n",
       "      <th>23363</th>\n",
       "      <td>14</td>\n",
       "      <td>Пасс (1), Груз (1)</td>\n",
       "    </tr>\n",
       "    <tr>\n",
       "      <th>23364</th>\n",
       "      <td>18</td>\n",
       "      <td>Пасс (1), Груз (1)</td>\n",
       "    </tr>\n",
       "    <tr>\n",
       "      <th>23365</th>\n",
       "      <td>5</td>\n",
       "      <td>NaN</td>\n",
       "    </tr>\n",
       "    <tr>\n",
       "      <th>23366</th>\n",
       "      <td>23</td>\n",
       "      <td>Пасс (3)</td>\n",
       "    </tr>\n",
       "    <tr>\n",
       "      <th>23367</th>\n",
       "      <td>23</td>\n",
       "      <td>Пасс (3)</td>\n",
       "    </tr>\n",
       "  </tbody>\n",
       "</table>\n",
       "<p>19737 rows × 2 columns</p>\n",
       "</div>"
      ],
      "text/plain": [
       "       Этажность                Лифт\n",
       "0             16  Пасс (4), Груз (1)\n",
       "1             16  Пасс (1), Груз (1)\n",
       "2             16            Пасс (1)\n",
       "3              6            Пасс (1)\n",
       "4             26  Пасс (1), Груз (1)\n",
       "...          ...                 ...\n",
       "23363         14  Пасс (1), Груз (1)\n",
       "23364         18  Пасс (1), Груз (1)\n",
       "23365          5                 NaN\n",
       "23366         23            Пасс (3)\n",
       "23367         23            Пасс (3)\n",
       "\n",
       "[19737 rows x 2 columns]"
      ]
     },
     "execution_count": 616,
     "metadata": {},
     "output_type": "execute_result"
    }
   ],
   "source": [
    "df['Этажность'] = df['Дом'].str.extract(r'/(\\d+)').astype(int)\n",
    "df[['Этажность', 'Лифт']]"
   ]
  },
  {
   "cell_type": "code",
   "execution_count": 617,
   "id": "8fb0c335",
   "metadata": {},
   "outputs": [
    {
     "data": {
      "text/plain": [
       "Лифт\n",
       "False    19737\n",
       "Name: count, dtype: int64"
      ]
     },
     "execution_count": 617,
     "metadata": {},
     "output_type": "execute_result"
    }
   ],
   "source": [
    "\n",
    "# Если в доме менее 5 этажей, лифт не обязателен\n",
    "df['Лифт'] = np.where((df['Этажность'] <= 5) & (df['Лифт'].isna()), 'Нет', df['Лифт'])\n",
    "# Если в доме от 5 до 9 этажей, то может быть установлен один пассажирский лифт.\n",
    "df['Лифт'] = np.where((df['Этажность'] > 5) & (df['Этажность'] <= 9) & (df['Лифт'].isna()), 'Пасс(1)', df['Лифт']) \n",
    "\n",
    "# Если в доме от 10 до 20 этажей,  то должно быть установлено не менее двух лифтов, в том числе один из них может быть грузовым.\n",
    "df['Лифт'] = np.where((df['Этажность'] >= 10) & (df['Этажность'] <= 20) & (df['Лифт'].isna()), 'Пасс (1), Груз (1)', df['Лифт']) \n",
    "# Если в доме более 20 этажей, дополнительные лифты, включая грузовые, в зависимости от количества этажей и площади здания.\n",
    "df['Лифт'] = np.where((df['Этажность'] > 20) & (df['Лифт'].isna()), 'Пасс (4)', df['Лифт']) # Если в доме более 20 этажей, обязателен пассажирский лифт, а также возможен грузовой\n",
    "# Заполнение пропущенных значений по моде\n",
    "df['Лифт'] = df.groupby(['Этажность'])['Лифт'].transform(lambda x: x.fillna(x.mode()[0]))\n",
    "# Проверяем результат\n",
    "df['Лифт'].isna().value_counts()"
   ]
  },
  {
   "cell_type": "markdown",
   "id": "ee335ad4",
   "metadata": {},
   "source": [
    "### Мусоропровод"
   ]
  },
  {
   "cell_type": "code",
   "execution_count": 618,
   "id": "dae6c187",
   "metadata": {},
   "outputs": [],
   "source": [
    "df['Мусоропровод'] = np.where((df['Этажность'] <= 12) & (df['Мусоропровод'].isna()), 'Да', df['Мусоропровод']) # Если в доме до 12 этажей, то ДА\n",
    "\n",
    "df['Мусоропровод'] = np.where((df['Этажность'] >= 13) & (df['Мусоропровод'].isna()), 'Нет', df['Мусоропровод'])"
   ]
  },
  {
   "cell_type": "markdown",
   "id": "84204d35",
   "metadata": {},
   "source": [
    "### Проверяем наличие пропусков "
   ]
  },
  {
   "cell_type": "code",
   "execution_count": 619,
   "id": "d4965731",
   "metadata": {},
   "outputs": [
    {
     "data": {
      "text/plain": [
       "ID  объявления           0\n",
       "Количество комнат        0\n",
       "Метро                    0\n",
       "Адрес                    0\n",
       "Площадь, м2              0\n",
       "Дом                      0\n",
       "Парковка                 0\n",
       "Цена                     0\n",
       "Описание                 0\n",
       "Ремонт                   0\n",
       "rooms_square             0\n",
       "balcony                  0\n",
       "windows                  0\n",
       "bathroom                 0\n",
       "сhildren/pets_allowed    0\n",
       "additionally             0\n",
       "Название ЖК              0\n",
       "Высота потолков, м       0\n",
       "Лифт                     0\n",
       "Мусоропровод             0\n",
       "total_area               0\n",
       "rooms_num                0\n",
       "area_based_room_num      0\n",
       "metro                    0\n",
       "Этажность                0\n",
       "dtype: int64"
      ]
     },
     "execution_count": 619,
     "metadata": {},
     "output_type": "execute_result"
    }
   ],
   "source": [
    "df.isna().sum()"
   ]
  },
  {
   "cell_type": "code",
   "execution_count": 620,
   "id": "37676466",
   "metadata": {},
   "outputs": [
    {
     "data": {
      "text/plain": [
       "Index(['ID  объявления', 'Количество комнат', 'Метро', 'Адрес', 'Площадь, м2',\n",
       "       'Дом', 'Парковка', 'Цена', 'Описание', 'Ремонт', 'rooms_square',\n",
       "       'balcony', 'windows', 'bathroom', 'сhildren/pets_allowed',\n",
       "       'additionally', 'Название ЖК', 'Высота потолков, м', 'Лифт',\n",
       "       'Мусоропровод', 'total_area', 'rooms_num', 'area_based_room_num',\n",
       "       'metro', 'Этажность'],\n",
       "      dtype='object')"
      ]
     },
     "execution_count": 620,
     "metadata": {},
     "output_type": "execute_result"
    }
   ],
   "source": [
    "df.columns"
   ]
  },
  {
   "cell_type": "code",
   "execution_count": 621,
   "id": "c95911a2",
   "metadata": {},
   "outputs": [
    {
     "name": "stdout",
     "output_type": "stream",
     "text": [
      "<class 'pandas.core.frame.DataFrame'>\n",
      "Index: 19737 entries, 0 to 23367\n",
      "Data columns (total 25 columns):\n",
      " #   Column                 Non-Null Count  Dtype  \n",
      "---  ------                 --------------  -----  \n",
      " 0   id                     19737 non-null  int64  \n",
      " 1   rooms                  19737 non-null  object \n",
      " 2   metro                  19737 non-null  object \n",
      " 3   adress                 19737 non-null  object \n",
      " 4   area                   19737 non-null  object \n",
      " 5   building               19737 non-null  object \n",
      " 6   parking                19737 non-null  object \n",
      " 7   price                  19737 non-null  object \n",
      " 8   description            19737 non-null  object \n",
      " 9   repair                 19737 non-null  object \n",
      " 10  rooms_square           19737 non-null  object \n",
      " 11  balcony                19737 non-null  object \n",
      " 12  windows                19737 non-null  object \n",
      " 13  bathroom               19737 non-null  object \n",
      " 14  сhildren/pets_allowed  19737 non-null  object \n",
      " 15  additionally           19737 non-null  object \n",
      " 16  housing_complex        19737 non-null  object \n",
      " 17  ceiling_height         19737 non-null  float64\n",
      " 18  elevator               19737 non-null  object \n",
      " 19  garbage_chute          19737 non-null  object \n",
      " 20  total_area             19737 non-null  float64\n",
      " 21  rooms_num              19737 non-null  object \n",
      " 22  area_based_room_num    19737 non-null  int64  \n",
      " 23  metro                  19737 non-null  object \n",
      " 24  floor_count            19737 non-null  int64  \n",
      "dtypes: float64(2), int64(3), object(20)\n",
      "memory usage: 4.4+ MB\n"
     ]
    }
   ],
   "source": [
    "# Создаем словарь с соответствием текущих и новых имен столбцов\n",
    "rename_dict = {'ID  объявления': 'id', \n",
    "               'Количество комнат': 'rooms',\n",
    "               'Тип': 'type',\n",
    "               'Метро': 'metro',\n",
    "               'Адрес': 'adress',\n",
    "               'Площадь, м2': 'area',\n",
    "               'Дом': 'building',\n",
    "               'Парковка': 'parking',\n",
    "               'Цена': 'price',\n",
    "               'Описание': 'description', \n",
    "                'Ремонт': 'repair',\n",
    "                'Название ЖК': 'housing_complex',\n",
    "                'Высота потолков, м': 'ceiling_height',\n",
    "                'Лифт': 'elevator',\n",
    "                'Мусоропровод': 'garbage_chute',\n",
    "                'Этажность': 'floor_count'}\n",
    "\n",
    "# Используем метод rename() с передачей словаря в параметр columns\n",
    "df.rename(columns=rename_dict, inplace=True)\n",
    "df.info()"
   ]
  },
  {
   "cell_type": "code",
   "execution_count": 622,
   "id": "f5fd1a8d",
   "metadata": {},
   "outputs": [],
   "source": [
    "\n",
    "df.to_csv('../release/data.csv', index=False)"
   ]
  },
  {
   "cell_type": "markdown",
   "id": "0361c692",
   "metadata": {},
   "source": [
    "# Релиз 3.0"
   ]
  },
  {
   "cell_type": "markdown",
   "id": "fbc8d393",
   "metadata": {},
   "source": [
    "### Цена "
   ]
  },
  {
   "cell_type": "code",
   "execution_count": 623,
   "id": "f47ff7ef-f49e-40a4-8428-938240063187",
   "metadata": {},
   "outputs": [],
   "source": [
    "# преобразование цены \n",
    "# в руб\n",
    "def get_price(y):\n",
    "  r = ''\n",
    "  for i in y:\n",
    "    if i.isdigit():\n",
    "      r += i\n",
    "    else:\n",
    "      r += ' '\n",
    "  return int(r.split()[0])\n",
    "\n",
    "def get_deposit(y):\n",
    "  r = ''\n",
    "  for i in y:\n",
    "    if i.isdigit():\n",
    "      r += i\n",
    "    else:\n",
    "      r += ' '\n",
    "  try:\n",
    "      if int(r.split()[2]) < 1000 or int(r.split()[2]) > int(r.split()[0]) * 6:\n",
    "        return int(r.split()[0])\n",
    "      else:\n",
    "        return int(r.split()[2])\n",
    "  except:\n",
    "      return int(r.split()[0])\n",
    "    \n",
    "#x1 = df['Цена'].map(get_price) \n",
    "#x2 = df['Цена'].map(get_deposit) "
   ]
  },
  {
   "cell_type": "code",
   "execution_count": 624,
   "id": "ed4d8f66",
   "metadata": {},
   "outputs": [],
   "source": [
    "# срок аренды\n",
    "def extract_rent_term(text):\n",
    "    match = re.search(r'Срок аренды - (Длительный|На несколько месяцев)', text)\n",
    "    if match:\n",
    "        return match.group(1)\n",
    "    else:\n",
    "        return None"
   ]
  },
  {
   "cell_type": "code",
   "execution_count": 625,
   "id": "5df68cc3",
   "metadata": {},
   "outputs": [
    {
     "ename": "KeyError",
     "evalue": "'Цена'",
     "output_type": "error",
     "traceback": [
      "\u001b[0;31m---------------------------------------------------------------------------\u001b[0m",
      "\u001b[0;31mKeyError\u001b[0m                                  Traceback (most recent call last)",
      "File \u001b[0;32m~/ds_bootcamp/Project 2/venv/lib/python3.10/site-packages/pandas/core/indexes/base.py:3805\u001b[0m, in \u001b[0;36mIndex.get_loc\u001b[0;34m(self, key)\u001b[0m\n\u001b[1;32m   3804\u001b[0m \u001b[39mtry\u001b[39;00m:\n\u001b[0;32m-> 3805\u001b[0m     \u001b[39mreturn\u001b[39;00m \u001b[39mself\u001b[39;49m\u001b[39m.\u001b[39;49m_engine\u001b[39m.\u001b[39;49mget_loc(casted_key)\n\u001b[1;32m   3806\u001b[0m \u001b[39mexcept\u001b[39;00m \u001b[39mKeyError\u001b[39;00m \u001b[39mas\u001b[39;00m err:\n",
      "File \u001b[0;32mindex.pyx:167\u001b[0m, in \u001b[0;36mpandas._libs.index.IndexEngine.get_loc\u001b[0;34m()\u001b[0m\n",
      "File \u001b[0;32mindex.pyx:191\u001b[0m, in \u001b[0;36mpandas._libs.index.IndexEngine.get_loc\u001b[0;34m()\u001b[0m\n",
      "File \u001b[0;32mindex.pyx:234\u001b[0m, in \u001b[0;36mpandas._libs.index.IndexEngine._get_loc_duplicates\u001b[0;34m()\u001b[0m\n",
      "File \u001b[0;32mindex.pyx:242\u001b[0m, in \u001b[0;36mpandas._libs.index.IndexEngine._maybe_get_bool_indexer\u001b[0;34m()\u001b[0m\n",
      "File \u001b[0;32mindex.pyx:134\u001b[0m, in \u001b[0;36mpandas._libs.index._unpack_bool_indexer\u001b[0;34m()\u001b[0m\n",
      "\u001b[0;31mKeyError\u001b[0m: 'Цена'",
      "\nThe above exception was the direct cause of the following exception:\n",
      "\u001b[0;31mKeyError\u001b[0m                                  Traceback (most recent call last)",
      "Cell \u001b[0;32mIn[625], line 2\u001b[0m\n\u001b[1;32m      1\u001b[0m \u001b[39m# добавляем столбцы Цена за мес, залог и срок аренды\u001b[39;00m\n\u001b[0;32m----> 2\u001b[0m df[\u001b[39m'\u001b[39m\u001b[39mСрок аренды\u001b[39m\u001b[39m'\u001b[39m] \u001b[39m=\u001b[39m df[\u001b[39m'\u001b[39;49m\u001b[39mЦена\u001b[39;49m\u001b[39m'\u001b[39;49m]\u001b[39m.\u001b[39mapply(extract_rent_term)\n\u001b[1;32m      3\u001b[0m df\u001b[39m.\u001b[39minsert(\u001b[39m9\u001b[39m, \u001b[39m\"\u001b[39m\u001b[39mЦена за месяц\u001b[39m\u001b[39m\"\u001b[39m,x1)\n\u001b[1;32m      4\u001b[0m df\u001b[39m.\u001b[39minsert(\u001b[39m10\u001b[39m,\u001b[39m'\u001b[39m\u001b[39mЗалог\u001b[39m\u001b[39m'\u001b[39m,x2)\n",
      "File \u001b[0;32m~/ds_bootcamp/Project 2/venv/lib/python3.10/site-packages/pandas/core/frame.py:4090\u001b[0m, in \u001b[0;36mDataFrame.__getitem__\u001b[0;34m(self, key)\u001b[0m\n\u001b[1;32m   4088\u001b[0m \u001b[39mif\u001b[39;00m \u001b[39mself\u001b[39m\u001b[39m.\u001b[39mcolumns\u001b[39m.\u001b[39mnlevels \u001b[39m>\u001b[39m \u001b[39m1\u001b[39m:\n\u001b[1;32m   4089\u001b[0m     \u001b[39mreturn\u001b[39;00m \u001b[39mself\u001b[39m\u001b[39m.\u001b[39m_getitem_multilevel(key)\n\u001b[0;32m-> 4090\u001b[0m indexer \u001b[39m=\u001b[39m \u001b[39mself\u001b[39;49m\u001b[39m.\u001b[39;49mcolumns\u001b[39m.\u001b[39;49mget_loc(key)\n\u001b[1;32m   4091\u001b[0m \u001b[39mif\u001b[39;00m is_integer(indexer):\n\u001b[1;32m   4092\u001b[0m     indexer \u001b[39m=\u001b[39m [indexer]\n",
      "File \u001b[0;32m~/ds_bootcamp/Project 2/venv/lib/python3.10/site-packages/pandas/core/indexes/base.py:3812\u001b[0m, in \u001b[0;36mIndex.get_loc\u001b[0;34m(self, key)\u001b[0m\n\u001b[1;32m   3807\u001b[0m     \u001b[39mif\u001b[39;00m \u001b[39misinstance\u001b[39m(casted_key, \u001b[39mslice\u001b[39m) \u001b[39mor\u001b[39;00m (\n\u001b[1;32m   3808\u001b[0m         \u001b[39misinstance\u001b[39m(casted_key, abc\u001b[39m.\u001b[39mIterable)\n\u001b[1;32m   3809\u001b[0m         \u001b[39mand\u001b[39;00m \u001b[39many\u001b[39m(\u001b[39misinstance\u001b[39m(x, \u001b[39mslice\u001b[39m) \u001b[39mfor\u001b[39;00m x \u001b[39min\u001b[39;00m casted_key)\n\u001b[1;32m   3810\u001b[0m     ):\n\u001b[1;32m   3811\u001b[0m         \u001b[39mraise\u001b[39;00m InvalidIndexError(key)\n\u001b[0;32m-> 3812\u001b[0m     \u001b[39mraise\u001b[39;00m \u001b[39mKeyError\u001b[39;00m(key) \u001b[39mfrom\u001b[39;00m \u001b[39merr\u001b[39;00m\n\u001b[1;32m   3813\u001b[0m \u001b[39mexcept\u001b[39;00m \u001b[39mTypeError\u001b[39;00m:\n\u001b[1;32m   3814\u001b[0m     \u001b[39m# If we have a listlike key, _check_indexing_error will raise\u001b[39;00m\n\u001b[1;32m   3815\u001b[0m     \u001b[39m#  InvalidIndexError. Otherwise we fall through and re-raise\u001b[39;00m\n\u001b[1;32m   3816\u001b[0m     \u001b[39m#  the TypeError.\u001b[39;00m\n\u001b[1;32m   3817\u001b[0m     \u001b[39mself\u001b[39m\u001b[39m.\u001b[39m_check_indexing_error(key)\n",
      "\u001b[0;31mKeyError\u001b[0m: 'Цена'"
     ]
    }
   ],
   "source": [
    "# добавляем столбцы Цена за мес, залог и срок аренды\n",
    "df['Срок аренды'] = df['Цена'].apply(extract_rent_term)\n",
    "df.insert(9, \"Цена за месяц\",x1)\n",
    "df.insert(10,'Залог',x2)\n",
    "df.head(3) "
   ]
  },
  {
   "cell_type": "code",
   "execution_count": null,
   "id": "210e3420",
   "metadata": {},
   "outputs": [
    {
     "data": {
      "text/plain": [
       "Срок аренды\n",
       "Длительный              19185\n",
       "На несколько месяцев      552\n",
       "Name: count, dtype: int64"
      ]
     },
     "execution_count": 129,
     "metadata": {},
     "output_type": "execute_result"
    }
   ],
   "source": [
    "df['Срок аренды'].value_counts()"
   ]
  },
  {
   "cell_type": "markdown",
   "id": "d9972097",
   "metadata": {},
   "source": [
    "### Парковка"
   ]
  },
  {
   "cell_type": "markdown",
   "id": "b3252d5e",
   "metadata": {},
   "source": [
    "### Количество комнат"
   ]
  },
  {
   "cell_type": "markdown",
   "id": "d3fa05fd",
   "metadata": {},
   "source": [
    "### Этаж"
   ]
  },
  {
   "cell_type": "code",
   "execution_count": null,
   "id": "b5102211",
   "metadata": {},
   "outputs": [
    {
     "ename": "KeyError",
     "evalue": "'Дом'",
     "output_type": "error",
     "traceback": [
      "\u001b[0;31m---------------------------------------------------------------------------\u001b[0m",
      "\u001b[0;31mKeyError\u001b[0m                                  Traceback (most recent call last)",
      "File \u001b[0;32m~/ds_bootcamp/Project 2/venv/lib/python3.10/site-packages/pandas/core/indexes/base.py:3805\u001b[0m, in \u001b[0;36mIndex.get_loc\u001b[0;34m(self, key)\u001b[0m\n\u001b[1;32m   3804\u001b[0m \u001b[39mtry\u001b[39;00m:\n\u001b[0;32m-> 3805\u001b[0m     \u001b[39mreturn\u001b[39;00m \u001b[39mself\u001b[39;49m\u001b[39m.\u001b[39;49m_engine\u001b[39m.\u001b[39;49mget_loc(casted_key)\n\u001b[1;32m   3806\u001b[0m \u001b[39mexcept\u001b[39;00m \u001b[39mKeyError\u001b[39;00m \u001b[39mas\u001b[39;00m err:\n",
      "File \u001b[0;32mindex.pyx:167\u001b[0m, in \u001b[0;36mpandas._libs.index.IndexEngine.get_loc\u001b[0;34m()\u001b[0m\n",
      "File \u001b[0;32mindex.pyx:191\u001b[0m, in \u001b[0;36mpandas._libs.index.IndexEngine.get_loc\u001b[0;34m()\u001b[0m\n",
      "File \u001b[0;32mindex.pyx:234\u001b[0m, in \u001b[0;36mpandas._libs.index.IndexEngine._get_loc_duplicates\u001b[0;34m()\u001b[0m\n",
      "File \u001b[0;32mindex.pyx:242\u001b[0m, in \u001b[0;36mpandas._libs.index.IndexEngine._maybe_get_bool_indexer\u001b[0;34m()\u001b[0m\n",
      "File \u001b[0;32mindex.pyx:134\u001b[0m, in \u001b[0;36mpandas._libs.index._unpack_bool_indexer\u001b[0;34m()\u001b[0m\n",
      "\u001b[0;31mKeyError\u001b[0m: 'Дом'",
      "\nThe above exception was the direct cause of the following exception:\n",
      "\u001b[0;31mKeyError\u001b[0m                                  Traceback (most recent call last)",
      "Cell \u001b[0;32mIn[130], line 6\u001b[0m\n\u001b[1;32m      3\u001b[0m     y \u001b[39m=\u001b[39m re\u001b[39m.\u001b[39mfindall(\u001b[39mr\u001b[39m\u001b[39m'\u001b[39m\u001b[39m\\\u001b[39m\u001b[39md+\u001b[39m\u001b[39m'\u001b[39m, x)\n\u001b[1;32m      4\u001b[0m     \u001b[39mreturn\u001b[39;00m y[\u001b[39m0\u001b[39m]\n\u001b[0;32m----> 6\u001b[0m df[\u001b[39m'\u001b[39m\u001b[39mЭтаж\u001b[39m\u001b[39m'\u001b[39m] \u001b[39m=\u001b[39m df[\u001b[39m'\u001b[39;49m\u001b[39mДом\u001b[39;49m\u001b[39m'\u001b[39;49m]\u001b[39m.\u001b[39mmap(first_element)\u001b[39m.\u001b[39mastype(\u001b[39m'\u001b[39m\u001b[39mint\u001b[39m\u001b[39m'\u001b[39m)\n\u001b[1;32m      7\u001b[0m \u001b[39mdef\u001b[39;00m \u001b[39msecond_element\u001b[39m(x):\n\u001b[1;32m      8\u001b[0m     y \u001b[39m=\u001b[39m re\u001b[39m.\u001b[39mfindall(\u001b[39mr\u001b[39m\u001b[39m'\u001b[39m\u001b[39m\\\u001b[39m\u001b[39md+\u001b[39m\u001b[39m'\u001b[39m, x)\n",
      "File \u001b[0;32m~/ds_bootcamp/Project 2/venv/lib/python3.10/site-packages/pandas/core/frame.py:4090\u001b[0m, in \u001b[0;36mDataFrame.__getitem__\u001b[0;34m(self, key)\u001b[0m\n\u001b[1;32m   4088\u001b[0m \u001b[39mif\u001b[39;00m \u001b[39mself\u001b[39m\u001b[39m.\u001b[39mcolumns\u001b[39m.\u001b[39mnlevels \u001b[39m>\u001b[39m \u001b[39m1\u001b[39m:\n\u001b[1;32m   4089\u001b[0m     \u001b[39mreturn\u001b[39;00m \u001b[39mself\u001b[39m\u001b[39m.\u001b[39m_getitem_multilevel(key)\n\u001b[0;32m-> 4090\u001b[0m indexer \u001b[39m=\u001b[39m \u001b[39mself\u001b[39;49m\u001b[39m.\u001b[39;49mcolumns\u001b[39m.\u001b[39;49mget_loc(key)\n\u001b[1;32m   4091\u001b[0m \u001b[39mif\u001b[39;00m is_integer(indexer):\n\u001b[1;32m   4092\u001b[0m     indexer \u001b[39m=\u001b[39m [indexer]\n",
      "File \u001b[0;32m~/ds_bootcamp/Project 2/venv/lib/python3.10/site-packages/pandas/core/indexes/base.py:3812\u001b[0m, in \u001b[0;36mIndex.get_loc\u001b[0;34m(self, key)\u001b[0m\n\u001b[1;32m   3807\u001b[0m     \u001b[39mif\u001b[39;00m \u001b[39misinstance\u001b[39m(casted_key, \u001b[39mslice\u001b[39m) \u001b[39mor\u001b[39;00m (\n\u001b[1;32m   3808\u001b[0m         \u001b[39misinstance\u001b[39m(casted_key, abc\u001b[39m.\u001b[39mIterable)\n\u001b[1;32m   3809\u001b[0m         \u001b[39mand\u001b[39;00m \u001b[39many\u001b[39m(\u001b[39misinstance\u001b[39m(x, \u001b[39mslice\u001b[39m) \u001b[39mfor\u001b[39;00m x \u001b[39min\u001b[39;00m casted_key)\n\u001b[1;32m   3810\u001b[0m     ):\n\u001b[1;32m   3811\u001b[0m         \u001b[39mraise\u001b[39;00m InvalidIndexError(key)\n\u001b[0;32m-> 3812\u001b[0m     \u001b[39mraise\u001b[39;00m \u001b[39mKeyError\u001b[39;00m(key) \u001b[39mfrom\u001b[39;00m \u001b[39merr\u001b[39;00m\n\u001b[1;32m   3813\u001b[0m \u001b[39mexcept\u001b[39;00m \u001b[39mTypeError\u001b[39;00m:\n\u001b[1;32m   3814\u001b[0m     \u001b[39m# If we have a listlike key, _check_indexing_error will raise\u001b[39;00m\n\u001b[1;32m   3815\u001b[0m     \u001b[39m#  InvalidIndexError. Otherwise we fall through and re-raise\u001b[39;00m\n\u001b[1;32m   3816\u001b[0m     \u001b[39m#  the TypeError.\u001b[39;00m\n\u001b[1;32m   3817\u001b[0m     \u001b[39mself\u001b[39m\u001b[39m.\u001b[39m_check_indexing_error(key)\n",
      "\u001b[0;31mKeyError\u001b[0m: 'Дом'"
     ]
    }
   ],
   "source": [
    "# преобразование этажа и этажности дома\n",
    "#def first_element(x):\n",
    "    #y = re.findall(r'\\d+', x)\n",
    "    #return y[0]\n",
    "\n",
    "#df['Этаж'] = df['Дом'].map(first_element).astype('int')\n",
    "#def second_element(x):\n",
    "    #y = re.findall(r'\\d+', x)\n",
    "    #return y[1]\n",
    "\n",
    "#df['Этажность дома'] = df['Дом'].apply(second_element).astype('int')\n",
    "#from operator import methodcaller\n",
    "#def func(x):\n",
    " # return float(x[0])"
   ]
  },
  {
   "cell_type": "markdown",
   "id": "ee7c3d68",
   "metadata": {},
   "source": [
    "### Общая площадь"
   ]
  },
  {
   "cell_type": "code",
   "execution_count": null,
   "id": "d1dc9044",
   "metadata": {},
   "outputs": [],
   "source": [
    "# Общая площадь\n",
    "def get_area_lamb(s):\n",
    "    if '/' in s:\n",
    "        # Если в строке есть '/', используем для извлечения первой части перед '/'\n",
    "        return float(s.split('/')[0])\n",
    "    else:\n",
    "        # Если нет '/', преобразуем значение в число\n",
    "        return float(s)\n",
    "\n",
    "def get_area(data):\n",
    "    return df['Площадь, м2'].astype(str).apply(get_area_lamb)\n",
    "\n",
    "# Создаем новый столбец \n",
    "df['Общая площадь'] = get_area(df)"
   ]
  },
  {
   "cell_type": "markdown",
   "id": "5256556e",
   "metadata": {},
   "source": [
    "# Станция"
   ]
  },
  {
   "cell_type": "code",
   "execution_count": null,
   "id": "d3900d58",
   "metadata": {},
   "outputs": [],
   "source": [
    "# вытаскиваем Станцию\n",
    "def func (y):\n",
    "    y[:y.find('(')]\n",
    "    return y[:y.find('(')].strip()\n",
    "\n",
    "def func2 (y):\n",
    "    y[:y.find('(')]\n",
    "    return y[y.find('м. ')+3:].strip()\n",
    "\n",
    "x = df['Метро'].astype(str).map(func).map(func2).copy()\n",
    "df.insert(3, \"Станция\", x)"
   ]
  },
  {
   "cell_type": "code",
   "execution_count": null,
   "id": "5219a05f",
   "metadata": {},
   "outputs": [],
   "source": [
    "# конвертируем расстояние до метро на пешком\n",
    "\n",
    "def metro_time_lamb(s):\n",
    "    try:\n",
    "        if 'пешком' in s:\n",
    "            # Если в строке содержится 'пешком'\n",
    "            return float(s.split('(')[1].split(' мин')[0].strip()) if 'None' not in s else 0\n",
    "        else:\n",
    "            # Если не указано 'пешком', предполагаем, что это время на транспорте (умножаем на 10 для преобразования)\n",
    "            return float(s.split('(')[1].split(' мин')[0].strip()) * 10 if 'None' not in s else 0\n",
    "\n",
    "    except:\n",
    "        pass\n",
    "\n",
    "def get_metro_time(data):\n",
    "    return df['Метро'].apply(metro_time_lamb)\n",
    "\n",
    "# Создаем новый столбец 'metro_time' и заполняем его значениями, полученными из функции get_metro_time\n",
    "df['Время пешком до метро, мин'] = get_metro_time(df)"
   ]
  },
  {
   "cell_type": "markdown",
   "id": "2e575df3",
   "metadata": {},
   "source": [
    "#### Метро \n"
   ]
  },
  {
   "cell_type": "code",
   "execution_count": null,
   "id": "2266f33d",
   "metadata": {},
   "outputs": [
    {
     "data": {
      "text/html": [
       "<div>\n",
       "<style scoped>\n",
       "    .dataframe tbody tr th:only-of-type {\n",
       "        vertical-align: middle;\n",
       "    }\n",
       "\n",
       "    .dataframe tbody tr th {\n",
       "        vertical-align: top;\n",
       "    }\n",
       "\n",
       "    .dataframe thead th {\n",
       "        text-align: right;\n",
       "    }\n",
       "</style>\n",
       "<table border=\"1\" class=\"dataframe\">\n",
       "  <thead>\n",
       "    <tr style=\"text-align: right;\">\n",
       "      <th></th>\n",
       "      <th>Станция</th>\n",
       "      <th>metro</th>\n",
       "      <th>coor</th>\n",
       "    </tr>\n",
       "  </thead>\n",
       "  <tbody>\n",
       "    <tr>\n",
       "      <th>0</th>\n",
       "      <td>Третьяковская</td>\n",
       "      <td>Москва, станция метро Третьяковская</td>\n",
       "      <td>(55.738862, 37.6284034)</td>\n",
       "    </tr>\n",
       "    <tr>\n",
       "      <th>1</th>\n",
       "      <td>Медведково</td>\n",
       "      <td>Москва, станция метро Медведково</td>\n",
       "      <td>(55.886766, 37.6615351)</td>\n",
       "    </tr>\n",
       "    <tr>\n",
       "      <th>2</th>\n",
       "      <td>Первомайская</td>\n",
       "      <td>Москва, станция метро Первомайская</td>\n",
       "      <td>(55.7931157, 37.7999286)</td>\n",
       "    </tr>\n",
       "    <tr>\n",
       "      <th>3</th>\n",
       "      <td>Калужская</td>\n",
       "      <td>Москва, станция метро Калужская</td>\n",
       "      <td>(55.6550976, 37.5421849)</td>\n",
       "    </tr>\n",
       "    <tr>\n",
       "      <th>4</th>\n",
       "      <td>Каховская</td>\n",
       "      <td>Москва, станция метро Каховская</td>\n",
       "      <td>(55.6536252, 37.6054067)</td>\n",
       "    </tr>\n",
       "  </tbody>\n",
       "</table>\n",
       "</div>"
      ],
      "text/plain": [
       "         Станция                                metro  \\\n",
       "0  Третьяковская  Москва, станция метро Третьяковская   \n",
       "1     Медведково     Москва, станция метро Медведково   \n",
       "2   Первомайская   Москва, станция метро Первомайская   \n",
       "3      Калужская      Москва, станция метро Калужская   \n",
       "4      Каховская      Москва, станция метро Каховская   \n",
       "\n",
       "                       coor  \n",
       "0   (55.738862, 37.6284034)  \n",
       "1   (55.886766, 37.6615351)  \n",
       "2  (55.7931157, 37.7999286)  \n",
       "3  (55.6550976, 37.5421849)  \n",
       "4  (55.6536252, 37.6054067)  "
      ]
     },
     "execution_count": 1415,
     "metadata": {},
     "output_type": "execute_result"
    }
   ],
   "source": [
    "metro = pd.read_csv('../data/list_of_moscow_metro_stations.csv', sep=',').rename(columns={'Station':'Станция'})\n",
    "metro.head()"
   ]
  },
  {
   "cell_type": "code",
   "execution_count": null,
   "id": "bec20ea0",
   "metadata": {},
   "outputs": [
    {
     "name": "stdout",
     "output_type": "stream",
     "text": [
      "<class 'pandas.core.frame.DataFrame'>\n",
      "Index: 19737 entries, 0 to 23367\n",
      "Data columns (total 32 columns):\n",
      " #   Column                      Non-Null Count  Dtype  \n",
      "---  ------                      --------------  -----  \n",
      " 0   ID  объявления              19737 non-null  int64  \n",
      " 1   Количество комнат           19737 non-null  object \n",
      " 2   Метро                       19737 non-null  object \n",
      " 3   Станция                     19737 non-null  object \n",
      " 4   Адрес                       19737 non-null  object \n",
      " 5   Площадь, м2                 19737 non-null  object \n",
      " 6   Дом                         19737 non-null  object \n",
      " 7   Парковка                    19737 non-null  object \n",
      " 8   Цена                        19737 non-null  object \n",
      " 9   Описание                    19737 non-null  object \n",
      " 10  Цена за месяц               19737 non-null  int64  \n",
      " 11  Залог                       19737 non-null  int64  \n",
      " 12  Ремонт                      19737 non-null  object \n",
      " 13  rooms_square                19737 non-null  object \n",
      " 14  balcony                     19737 non-null  object \n",
      " 15  windows                     19737 non-null  object \n",
      " 16  bathroom                    19737 non-null  object \n",
      " 17  сhildren/pets_allowed       19737 non-null  object \n",
      " 18  additionally                19737 non-null  object \n",
      " 19  Название ЖК                 19737 non-null  object \n",
      " 20  Высота потолков, м          19737 non-null  float64\n",
      " 21  Лифт                        19737 non-null  object \n",
      " 22  Мусоропровод                19737 non-null  object \n",
      " 23  total_area                  19737 non-null  float64\n",
      " 24  rooms_num                   19737 non-null  object \n",
      " 25  area_based_room_num         19737 non-null  int64  \n",
      " 26  metro                       19737 non-null  object \n",
      " 27  Этажность                   19737 non-null  int64  \n",
      " 28  Срок аренды                 19737 non-null  object \n",
      " 29  Этаж                        19737 non-null  int64  \n",
      " 30  Общая площадь               19737 non-null  float64\n",
      " 31  Время пешком до метро, мин  19391 non-null  float64\n",
      "dtypes: float64(4), int64(6), object(22)\n",
      "memory usage: 5.5+ MB\n"
     ]
    }
   ],
   "source": [
    "def func(s):\n",
    "    s = s.replace('ё','е')\n",
    "    s = s.replace('  ',' ')\n",
    "    if s == 'Марк':\n",
    "        s = 'Алтуфьево'\n",
    "    elif s == 'Перерва':\n",
    "        s = 'Братиславская'\n",
    "    elif s.lower() == 'библиотека им. ленина':\n",
    "        s = 'библиотека имени ленина'\n",
    "    elif s.lower() == 'бескудниково':\n",
    "        s = 'селигерская'\n",
    "    elif s.lower() == 'гражданская':\n",
    "        s = 'дмитровская'\n",
    "    return s.lower().strip()\n",
    "\n",
    "df.info()"
   ]
  },
  {
   "cell_type": "code",
   "execution_count": null,
   "id": "8bb45484",
   "metadata": {},
   "outputs": [],
   "source": [
    "#координаты\n",
    "\n",
    "metro = metro.drop_duplicates('Станция').loc[:,['Станция','coor']]\n",
    "metro.loc[:,'Станция'] = metro.loc[:,'Станция'].map(func)\n",
    "df.loc[:,'Станция'] = df.loc[:,'Станция'].map(func)\n",
    "\n",
    "m = df.merge(metro, how = 'left', on='Станция').dropna(how='all')\n",
    "df.insert(3, \"metro_coord\",m['coor'])"
   ]
  },
  {
   "cell_type": "code",
   "execution_count": null,
   "id": "7ecaac8b",
   "metadata": {},
   "outputs": [
    {
     "data": {
      "text/html": [
       "<div>\n",
       "<style scoped>\n",
       "    .dataframe tbody tr th:only-of-type {\n",
       "        vertical-align: middle;\n",
       "    }\n",
       "\n",
       "    .dataframe tbody tr th {\n",
       "        vertical-align: top;\n",
       "    }\n",
       "\n",
       "    .dataframe thead th {\n",
       "        text-align: right;\n",
       "    }\n",
       "</style>\n",
       "<table border=\"1\" class=\"dataframe\">\n",
       "  <thead>\n",
       "    <tr style=\"text-align: right;\">\n",
       "      <th></th>\n",
       "      <th>ID  объявления</th>\n",
       "      <th>Количество комнат</th>\n",
       "      <th>Метро</th>\n",
       "      <th>metro_coord</th>\n",
       "      <th>Станция</th>\n",
       "      <th>Адрес</th>\n",
       "      <th>Площадь, м2</th>\n",
       "      <th>Дом</th>\n",
       "      <th>Парковка</th>\n",
       "      <th>Цена</th>\n",
       "      <th>Описание</th>\n",
       "      <th>Цена за месяц</th>\n",
       "      <th>Залог</th>\n",
       "      <th>Ремонт</th>\n",
       "      <th>rooms_square</th>\n",
       "      <th>balcony</th>\n",
       "      <th>windows</th>\n",
       "      <th>bathroom</th>\n",
       "      <th>сhildren/pets_allowed</th>\n",
       "      <th>additionally</th>\n",
       "      <th>Название ЖК</th>\n",
       "      <th>Высота потолков, м</th>\n",
       "      <th>Лифт</th>\n",
       "      <th>Мусоропровод</th>\n",
       "      <th>total_area</th>\n",
       "      <th>rooms_num</th>\n",
       "      <th>area_based_room_num</th>\n",
       "      <th>metro</th>\n",
       "      <th>Этажность</th>\n",
       "      <th>Срок аренды</th>\n",
       "      <th>Этаж</th>\n",
       "      <th>Общая площадь</th>\n",
       "      <th>Время пешком до метро, мин</th>\n",
       "    </tr>\n",
       "  </thead>\n",
       "  <tbody>\n",
       "    <tr>\n",
       "      <th>0</th>\n",
       "      <td>271271157</td>\n",
       "      <td>4</td>\n",
       "      <td>м. Смоленская (9 мин пешком)</td>\n",
       "      <td>(55.7488802, 37.5830392)</td>\n",
       "      <td>смоленская</td>\n",
       "      <td>Москва, улица Новый Арбат, 27</td>\n",
       "      <td>200.0/20.0</td>\n",
       "      <td>5/16, Монолитный</td>\n",
       "      <td>подземная</td>\n",
       "      <td>500000.0 руб./ За месяц, Залог - 500000 руб., ...</td>\n",
       "      <td>Без комиссии для нанимателя! Бонус коллегам 12...</td>\n",
       "      <td>500000</td>\n",
       "      <td>500000</td>\n",
       "      <td>Дизайнерский</td>\n",
       "      <td>20.0</td>\n",
       "      <td>Лоджия (1)</td>\n",
       "      <td>Во двор</td>\n",
       "      <td>Совмещенный (2)</td>\n",
       "      <td>Можно с детьми, Можно с животными</td>\n",
       "      <td>Мебель в комнатах, Мебель на кухне, Ванна, Душ...</td>\n",
       "      <td>Новый Арбат, 2010</td>\n",
       "      <td>3.0</td>\n",
       "      <td>Пасс (4), Груз (1)</td>\n",
       "      <td>Да</td>\n",
       "      <td>200.0</td>\n",
       "      <td>4</td>\n",
       "      <td>1</td>\n",
       "      <td>м. Смоленская</td>\n",
       "      <td>16</td>\n",
       "      <td>Длительный</td>\n",
       "      <td>5</td>\n",
       "      <td>200.0</td>\n",
       "      <td>9.0</td>\n",
       "    </tr>\n",
       "    <tr>\n",
       "      <th>1</th>\n",
       "      <td>271634126</td>\n",
       "      <td>4</td>\n",
       "      <td>м. Смоленская (8 мин пешком)</td>\n",
       "      <td>(55.7488802, 37.5830392)</td>\n",
       "      <td>смоленская</td>\n",
       "      <td>Москва, улица Новый Арбат, 27</td>\n",
       "      <td>198.0/95.0/18.0</td>\n",
       "      <td>5/16, Монолитно-кирпичный</td>\n",
       "      <td>подземная</td>\n",
       "      <td>500000.0 руб./ За месяц, Залог - 500000 руб., ...</td>\n",
       "      <td>Лот 93107. Елена Анисимова.\\n\\nБонус агенту 50...</td>\n",
       "      <td>500000</td>\n",
       "      <td>500000</td>\n",
       "      <td>Дизайнерский</td>\n",
       "      <td>25 25 20 25</td>\n",
       "      <td>Балкон (1)</td>\n",
       "      <td>На улицу и двор</td>\n",
       "      <td>Совмещенный (2), Раздельный (1)</td>\n",
       "      <td>Можно с детьми</td>\n",
       "      <td>Мебель в комнатах, Мебель на кухне, Ванна, Душ...</td>\n",
       "      <td>Новый Арбат</td>\n",
       "      <td>3.5</td>\n",
       "      <td>Пасс (1), Груз (1)</td>\n",
       "      <td>Нет</td>\n",
       "      <td>198.0</td>\n",
       "      <td>4</td>\n",
       "      <td>4</td>\n",
       "      <td>м. Смоленская</td>\n",
       "      <td>16</td>\n",
       "      <td>Длительный</td>\n",
       "      <td>5</td>\n",
       "      <td>198.0</td>\n",
       "      <td>8.0</td>\n",
       "    </tr>\n",
       "    <tr>\n",
       "      <th>2</th>\n",
       "      <td>271173086</td>\n",
       "      <td>4, Оба варианта</td>\n",
       "      <td>м. Смоленская (7 мин пешком)</td>\n",
       "      <td>(55.7488802, 37.5830392)</td>\n",
       "      <td>смоленская</td>\n",
       "      <td>Москва, улица Новый Арбат, 27</td>\n",
       "      <td>200.0/116.0/4.0</td>\n",
       "      <td>5/16</td>\n",
       "      <td>подземная</td>\n",
       "      <td>500000.0 руб./ За месяц, Залог - 500000 руб., ...</td>\n",
       "      <td>ID 36380:  Шикарная 4-х км. квартира в ЖК \"Нов...</td>\n",
       "      <td>500000</td>\n",
       "      <td>500000</td>\n",
       "      <td>Евроремонт</td>\n",
       "      <td>116.0</td>\n",
       "      <td>Балкон (1)</td>\n",
       "      <td>На улицу и двор</td>\n",
       "      <td>Совмещенный (3)</td>\n",
       "      <td>Можно с детьми</td>\n",
       "      <td>Мебель в комнатах, Мебель на кухне, Ванна, Душ...</td>\n",
       "      <td>Новый Арбат</td>\n",
       "      <td>3.2</td>\n",
       "      <td>Пасс (1)</td>\n",
       "      <td>Нет</td>\n",
       "      <td>200.0</td>\n",
       "      <td>4</td>\n",
       "      <td>1</td>\n",
       "      <td>м. Смоленская</td>\n",
       "      <td>16</td>\n",
       "      <td>Длительный</td>\n",
       "      <td>5</td>\n",
       "      <td>200.0</td>\n",
       "      <td>7.0</td>\n",
       "    </tr>\n",
       "    <tr>\n",
       "      <th>3</th>\n",
       "      <td>272197456</td>\n",
       "      <td>4, Оба варианта</td>\n",
       "      <td>м. Смоленская (3 мин пешком)</td>\n",
       "      <td>(55.7488802, 37.5830392)</td>\n",
       "      <td>смоленская</td>\n",
       "      <td>Москва, переулок Плотников, 21С1</td>\n",
       "      <td>170.0/95.0/17.0</td>\n",
       "      <td>5/6</td>\n",
       "      <td>подземная</td>\n",
       "      <td>400000.0 руб./ За месяц, Залог - 400000 руб., ...</td>\n",
       "      <td>ID 31618:  Эксклюзивное предложение. Современн...</td>\n",
       "      <td>400000</td>\n",
       "      <td>400000</td>\n",
       "      <td>Евроремонт</td>\n",
       "      <td>14-42-20-19</td>\n",
       "      <td>Балкон (1)</td>\n",
       "      <td>На улицу и двор</td>\n",
       "      <td>Совмещенный (3)</td>\n",
       "      <td>Можно с животными</td>\n",
       "      <td>Мебель в комнатах, Мебель на кухне, Ванна, Душ...</td>\n",
       "      <td>0</td>\n",
       "      <td>3.2</td>\n",
       "      <td>Пасс (1)</td>\n",
       "      <td>Да</td>\n",
       "      <td>170.0</td>\n",
       "      <td>4</td>\n",
       "      <td>1</td>\n",
       "      <td>м. Смоленская</td>\n",
       "      <td>6</td>\n",
       "      <td>Длительный</td>\n",
       "      <td>5</td>\n",
       "      <td>170.0</td>\n",
       "      <td>3.0</td>\n",
       "    </tr>\n",
       "    <tr>\n",
       "      <th>4</th>\n",
       "      <td>273614615</td>\n",
       "      <td>2</td>\n",
       "      <td>м. Арбатская (7 мин пешком)</td>\n",
       "      <td>(55.7522109, 37.6087395)</td>\n",
       "      <td>арбатская</td>\n",
       "      <td>Москва, улица Новый Арбат, 15</td>\n",
       "      <td>58.0/38.0/5.0</td>\n",
       "      <td>12/26, Панельный</td>\n",
       "      <td>Unknown</td>\n",
       "      <td>225000.0 руб./ За месяц, Залог - 225000 руб., ...</td>\n",
       "      <td>Лот 111542. Татьяна Лучкина.\\n\\nБонус агенту 5...</td>\n",
       "      <td>225000</td>\n",
       "      <td>225000</td>\n",
       "      <td>Евроремонт</td>\n",
       "      <td>20 18</td>\n",
       "      <td>Лоджия (1)</td>\n",
       "      <td>На улицу и двор</td>\n",
       "      <td>Совмещенный (2)</td>\n",
       "      <td>Можно с детьми</td>\n",
       "      <td>Мебель в комнатах, Мебель на кухне, Ванна, Душ...</td>\n",
       "      <td>The Book</td>\n",
       "      <td>3.9</td>\n",
       "      <td>Пасс (1), Груз (1)</td>\n",
       "      <td>Да</td>\n",
       "      <td>58.0</td>\n",
       "      <td>2</td>\n",
       "      <td>2</td>\n",
       "      <td>м. Арбатская</td>\n",
       "      <td>26</td>\n",
       "      <td>Длительный</td>\n",
       "      <td>12</td>\n",
       "      <td>58.0</td>\n",
       "      <td>7.0</td>\n",
       "    </tr>\n",
       "    <tr>\n",
       "      <th>...</th>\n",
       "      <td>...</td>\n",
       "      <td>...</td>\n",
       "      <td>...</td>\n",
       "      <td>...</td>\n",
       "      <td>...</td>\n",
       "      <td>...</td>\n",
       "      <td>...</td>\n",
       "      <td>...</td>\n",
       "      <td>...</td>\n",
       "      <td>...</td>\n",
       "      <td>...</td>\n",
       "      <td>...</td>\n",
       "      <td>...</td>\n",
       "      <td>...</td>\n",
       "      <td>...</td>\n",
       "      <td>...</td>\n",
       "      <td>...</td>\n",
       "      <td>...</td>\n",
       "      <td>...</td>\n",
       "      <td>...</td>\n",
       "      <td>...</td>\n",
       "      <td>...</td>\n",
       "      <td>...</td>\n",
       "      <td>...</td>\n",
       "      <td>...</td>\n",
       "      <td>...</td>\n",
       "      <td>...</td>\n",
       "      <td>...</td>\n",
       "      <td>...</td>\n",
       "      <td>...</td>\n",
       "      <td>...</td>\n",
       "      <td>...</td>\n",
       "      <td>...</td>\n",
       "    </tr>\n",
       "    <tr>\n",
       "      <th>23363</th>\n",
       "      <td>215565511</td>\n",
       "      <td>1</td>\n",
       "      <td>м. Говорово (8 мин пешком)</td>\n",
       "      <td>NaN</td>\n",
       "      <td>говорово</td>\n",
       "      <td>Москва, Боровское шоссе, 2к7, ш. Боровское (3 ...</td>\n",
       "      <td>35.0/16.4/8.0</td>\n",
       "      <td>10/14</td>\n",
       "      <td>Unknown</td>\n",
       "      <td>42000.0 руб./ За месяц, Залог - 42000 руб., Ко...</td>\n",
       "      <td>Сдаётся светлая теплая квартира (студия) с бал...</td>\n",
       "      <td>42000</td>\n",
       "      <td>42000</td>\n",
       "      <td>Евроремонт</td>\n",
       "      <td>16.4</td>\n",
       "      <td>Балкон (1)</td>\n",
       "      <td>На улицу и двор</td>\n",
       "      <td>Совмещенный (1)</td>\n",
       "      <td>Можно с животными</td>\n",
       "      <td>Мебель в комнатах, Мебель на кухне, Ванна, Сти...</td>\n",
       "      <td>Мещерский лес</td>\n",
       "      <td>3.6</td>\n",
       "      <td>Пасс (1), Груз (1)</td>\n",
       "      <td>Нет</td>\n",
       "      <td>35.0</td>\n",
       "      <td>1</td>\n",
       "      <td>1</td>\n",
       "      <td>м. Говорово</td>\n",
       "      <td>14</td>\n",
       "      <td>Длительный</td>\n",
       "      <td>10</td>\n",
       "      <td>35.0</td>\n",
       "      <td>8.0</td>\n",
       "    </tr>\n",
       "    <tr>\n",
       "      <th>23364</th>\n",
       "      <td>274654844</td>\n",
       "      <td>1</td>\n",
       "      <td>м. Солнцево (7 мин пешком)</td>\n",
       "      <td>NaN</td>\n",
       "      <td>солнцево</td>\n",
       "      <td>Москва, Производственная улица, 8к1, ш. Боровс...</td>\n",
       "      <td>38.7/16.5/11.0</td>\n",
       "      <td>5/18, Монолитный</td>\n",
       "      <td>Unknown</td>\n",
       "      <td>45000.0 руб./ За месяц, Залог - 45000 руб., Ко...</td>\n",
       "      <td>Сдам однокомнатную квартиру на длительный срок...</td>\n",
       "      <td>45000</td>\n",
       "      <td>45000</td>\n",
       "      <td>Евроремонт</td>\n",
       "      <td>16.5</td>\n",
       "      <td>Лоджия (1)</td>\n",
       "      <td>Во двор</td>\n",
       "      <td>Совмещенный (1)</td>\n",
       "      <td>Можно с животными</td>\n",
       "      <td>Мебель в комнатах, Мебель на кухне, Ванна, Сти...</td>\n",
       "      <td>Лучи</td>\n",
       "      <td>2.7</td>\n",
       "      <td>Пасс (1), Груз (1)</td>\n",
       "      <td>Нет</td>\n",
       "      <td>38.7</td>\n",
       "      <td>1</td>\n",
       "      <td>1</td>\n",
       "      <td>м. Солнцево</td>\n",
       "      <td>18</td>\n",
       "      <td>Длительный</td>\n",
       "      <td>5</td>\n",
       "      <td>38.7</td>\n",
       "      <td>7.0</td>\n",
       "    </tr>\n",
       "    <tr>\n",
       "      <th>23365</th>\n",
       "      <td>268679909</td>\n",
       "      <td>2, Оба варианта</td>\n",
       "      <td>м. Солнцево (6 мин пешком)</td>\n",
       "      <td>NaN</td>\n",
       "      <td>солнцево</td>\n",
       "      <td>Москва, Боровский проезд, 11</td>\n",
       "      <td>43.1</td>\n",
       "      <td>5/5, Кирпичный</td>\n",
       "      <td>Unknown</td>\n",
       "      <td>50000.0 руб./ За месяц, Залог - 50000 руб., Ко...</td>\n",
       "      <td>Рассматриваются квартиранты только славяне и т...</td>\n",
       "      <td>50000</td>\n",
       "      <td>50000</td>\n",
       "      <td>Дизайнерский</td>\n",
       "      <td>43.1</td>\n",
       "      <td>Балкон (1)</td>\n",
       "      <td>На улицу и двор</td>\n",
       "      <td>Совмещенный (1)</td>\n",
       "      <td>Можно с детьми</td>\n",
       "      <td>Мебель на кухне, Душевая кабина, Стиральная ма...</td>\n",
       "      <td>0</td>\n",
       "      <td>2.6</td>\n",
       "      <td>Нет</td>\n",
       "      <td>Да</td>\n",
       "      <td>43.1</td>\n",
       "      <td>2</td>\n",
       "      <td>1</td>\n",
       "      <td>м. Солнцево</td>\n",
       "      <td>5</td>\n",
       "      <td>Длительный</td>\n",
       "      <td>5</td>\n",
       "      <td>43.1</td>\n",
       "      <td>6.0</td>\n",
       "    </tr>\n",
       "    <tr>\n",
       "      <th>23366</th>\n",
       "      <td>274807525</td>\n",
       "      <td>2</td>\n",
       "      <td>м. Солнцево (11 мин пешком)</td>\n",
       "      <td>NaN</td>\n",
       "      <td>солнцево</td>\n",
       "      <td>Москва, улица Богданова, 6к1, ш. Боровское (3 ...</td>\n",
       "      <td>52.5/10.0</td>\n",
       "      <td>8/23, Монолитный</td>\n",
       "      <td>наземная</td>\n",
       "      <td>55000.0 руб./ За месяц, Залог - 50000 руб., Ко...</td>\n",
       "      <td>Двухкомнатная уютная квартира с видом во внутр...</td>\n",
       "      <td>55000</td>\n",
       "      <td>50000</td>\n",
       "      <td>Евроремонт</td>\n",
       "      <td>10.0</td>\n",
       "      <td>Лоджия (1)</td>\n",
       "      <td>Во двор</td>\n",
       "      <td>Совмещенный (1), Раздельный (1)</td>\n",
       "      <td>Можно с детьми</td>\n",
       "      <td>Мебель в комнатах, Мебель на кухне, Ванна, Сти...</td>\n",
       "      <td>0</td>\n",
       "      <td>2.6</td>\n",
       "      <td>Пасс (3)</td>\n",
       "      <td>Да</td>\n",
       "      <td>52.5</td>\n",
       "      <td>2</td>\n",
       "      <td>1</td>\n",
       "      <td>м. Солнцево</td>\n",
       "      <td>23</td>\n",
       "      <td>Длительный</td>\n",
       "      <td>8</td>\n",
       "      <td>52.5</td>\n",
       "      <td>11.0</td>\n",
       "    </tr>\n",
       "    <tr>\n",
       "      <th>23367</th>\n",
       "      <td>274672243</td>\n",
       "      <td>2, Оба варианта</td>\n",
       "      <td>м. Говорово (10 мин пешком)</td>\n",
       "      <td>NaN</td>\n",
       "      <td>говорово</td>\n",
       "      <td>Москва, улица Богданова, 2к1, ш. Боровское (3 ...</td>\n",
       "      <td>90.0/48.2/15.5</td>\n",
       "      <td>6/23, Панельный</td>\n",
       "      <td>Unknown</td>\n",
       "      <td>57000.0 руб./ За месяц, Залог - 60000 руб., Ко...</td>\n",
       "      <td>Сдается просторная двухкомнатная квартира ВПЕР...</td>\n",
       "      <td>57000</td>\n",
       "      <td>60000</td>\n",
       "      <td>Косметический</td>\n",
       "      <td>26,2+15,5-22,0</td>\n",
       "      <td>Лоджия (1)</td>\n",
       "      <td>Во двор</td>\n",
       "      <td>Раздельный (1)</td>\n",
       "      <td>Можно с детьми, Можно с животными</td>\n",
       "      <td>Мебель в комнатах, Мебель на кухне, Ванна, Сти...</td>\n",
       "      <td>0</td>\n",
       "      <td>2.7</td>\n",
       "      <td>Пасс (3)</td>\n",
       "      <td>Да</td>\n",
       "      <td>90.0</td>\n",
       "      <td>2</td>\n",
       "      <td>1</td>\n",
       "      <td>м. Говорово</td>\n",
       "      <td>23</td>\n",
       "      <td>Длительный</td>\n",
       "      <td>6</td>\n",
       "      <td>90.0</td>\n",
       "      <td>10.0</td>\n",
       "    </tr>\n",
       "  </tbody>\n",
       "</table>\n",
       "<p>19737 rows × 33 columns</p>\n",
       "</div>"
      ],
      "text/plain": [
       "       ID  объявления Количество комнат                         Метро  \\\n",
       "0           271271157                 4  м. Смоленская (9 мин пешком)   \n",
       "1           271634126                 4  м. Смоленская (8 мин пешком)   \n",
       "2           271173086   4, Оба варианта  м. Смоленская (7 мин пешком)   \n",
       "3           272197456   4, Оба варианта  м. Смоленская (3 мин пешком)   \n",
       "4           273614615                 2   м. Арбатская (7 мин пешком)   \n",
       "...               ...               ...                           ...   \n",
       "23363       215565511                 1    м. Говорово (8 мин пешком)   \n",
       "23364       274654844                 1    м. Солнцево (7 мин пешком)   \n",
       "23365       268679909   2, Оба варианта    м. Солнцево (6 мин пешком)   \n",
       "23366       274807525                 2   м. Солнцево (11 мин пешком)   \n",
       "23367       274672243   2, Оба варианта   м. Говорово (10 мин пешком)   \n",
       "\n",
       "                    metro_coord     Станция  \\\n",
       "0      (55.7488802, 37.5830392)  смоленская   \n",
       "1      (55.7488802, 37.5830392)  смоленская   \n",
       "2      (55.7488802, 37.5830392)  смоленская   \n",
       "3      (55.7488802, 37.5830392)  смоленская   \n",
       "4      (55.7522109, 37.6087395)   арбатская   \n",
       "...                         ...         ...   \n",
       "23363                       NaN    говорово   \n",
       "23364                       NaN    солнцево   \n",
       "23365                       NaN    солнцево   \n",
       "23366                       NaN    солнцево   \n",
       "23367                       NaN    говорово   \n",
       "\n",
       "                                                   Адрес      Площадь, м2  \\\n",
       "0                          Москва, улица Новый Арбат, 27       200.0/20.0   \n",
       "1                          Москва, улица Новый Арбат, 27  198.0/95.0/18.0   \n",
       "2                          Москва, улица Новый Арбат, 27  200.0/116.0/4.0   \n",
       "3                       Москва, переулок Плотников, 21С1  170.0/95.0/17.0   \n",
       "4                          Москва, улица Новый Арбат, 15    58.0/38.0/5.0   \n",
       "...                                                  ...              ...   \n",
       "23363  Москва, Боровское шоссе, 2к7, ш. Боровское (3 ...    35.0/16.4/8.0   \n",
       "23364  Москва, Производственная улица, 8к1, ш. Боровс...   38.7/16.5/11.0   \n",
       "23365                       Москва, Боровский проезд, 11             43.1   \n",
       "23366  Москва, улица Богданова, 6к1, ш. Боровское (3 ...        52.5/10.0   \n",
       "23367  Москва, улица Богданова, 2к1, ш. Боровское (3 ...   90.0/48.2/15.5   \n",
       "\n",
       "                             Дом   Парковка  \\\n",
       "0               5/16, Монолитный  подземная   \n",
       "1      5/16, Монолитно-кирпичный  подземная   \n",
       "2                           5/16  подземная   \n",
       "3                            5/6  подземная   \n",
       "4               12/26, Панельный    Unknown   \n",
       "...                          ...        ...   \n",
       "23363                      10/14    Unknown   \n",
       "23364           5/18, Монолитный    Unknown   \n",
       "23365             5/5, Кирпичный    Unknown   \n",
       "23366           8/23, Монолитный   наземная   \n",
       "23367            6/23, Панельный    Unknown   \n",
       "\n",
       "                                                    Цена  \\\n",
       "0      500000.0 руб./ За месяц, Залог - 500000 руб., ...   \n",
       "1      500000.0 руб./ За месяц, Залог - 500000 руб., ...   \n",
       "2      500000.0 руб./ За месяц, Залог - 500000 руб., ...   \n",
       "3      400000.0 руб./ За месяц, Залог - 400000 руб., ...   \n",
       "4      225000.0 руб./ За месяц, Залог - 225000 руб., ...   \n",
       "...                                                  ...   \n",
       "23363  42000.0 руб./ За месяц, Залог - 42000 руб., Ко...   \n",
       "23364  45000.0 руб./ За месяц, Залог - 45000 руб., Ко...   \n",
       "23365  50000.0 руб./ За месяц, Залог - 50000 руб., Ко...   \n",
       "23366  55000.0 руб./ За месяц, Залог - 50000 руб., Ко...   \n",
       "23367  57000.0 руб./ За месяц, Залог - 60000 руб., Ко...   \n",
       "\n",
       "                                                Описание  Цена за месяц  \\\n",
       "0      Без комиссии для нанимателя! Бонус коллегам 12...         500000   \n",
       "1      Лот 93107. Елена Анисимова.\\n\\nБонус агенту 50...         500000   \n",
       "2      ID 36380:  Шикарная 4-х км. квартира в ЖК \"Нов...         500000   \n",
       "3      ID 31618:  Эксклюзивное предложение. Современн...         400000   \n",
       "4      Лот 111542. Татьяна Лучкина.\\n\\nБонус агенту 5...         225000   \n",
       "...                                                  ...            ...   \n",
       "23363  Сдаётся светлая теплая квартира (студия) с бал...          42000   \n",
       "23364  Сдам однокомнатную квартиру на длительный срок...          45000   \n",
       "23365  Рассматриваются квартиранты только славяне и т...          50000   \n",
       "23366  Двухкомнатная уютная квартира с видом во внутр...          55000   \n",
       "23367  Сдается просторная двухкомнатная квартира ВПЕР...          57000   \n",
       "\n",
       "        Залог         Ремонт    rooms_square     balcony          windows  \\\n",
       "0      500000   Дизайнерский            20.0  Лоджия (1)          Во двор   \n",
       "1      500000   Дизайнерский     25 25 20 25  Балкон (1)  На улицу и двор   \n",
       "2      500000     Евроремонт           116.0  Балкон (1)  На улицу и двор   \n",
       "3      400000     Евроремонт     14-42-20-19  Балкон (1)  На улицу и двор   \n",
       "4      225000     Евроремонт           20 18  Лоджия (1)  На улицу и двор   \n",
       "...       ...            ...             ...         ...              ...   \n",
       "23363   42000     Евроремонт            16.4  Балкон (1)  На улицу и двор   \n",
       "23364   45000     Евроремонт            16.5  Лоджия (1)          Во двор   \n",
       "23365   50000   Дизайнерский            43.1  Балкон (1)  На улицу и двор   \n",
       "23366   50000     Евроремонт            10.0  Лоджия (1)          Во двор   \n",
       "23367   60000  Косметический  26,2+15,5-22,0  Лоджия (1)          Во двор   \n",
       "\n",
       "                              bathroom              сhildren/pets_allowed  \\\n",
       "0                      Совмещенный (2)  Можно с детьми, Можно с животными   \n",
       "1      Совмещенный (2), Раздельный (1)                     Можно с детьми   \n",
       "2                      Совмещенный (3)                     Можно с детьми   \n",
       "3                      Совмещенный (3)                  Можно с животными   \n",
       "4                      Совмещенный (2)                     Можно с детьми   \n",
       "...                                ...                                ...   \n",
       "23363                  Совмещенный (1)                  Можно с животными   \n",
       "23364                  Совмещенный (1)                  Можно с животными   \n",
       "23365                  Совмещенный (1)                     Можно с детьми   \n",
       "23366  Совмещенный (1), Раздельный (1)                     Можно с детьми   \n",
       "23367                   Раздельный (1)  Можно с детьми, Можно с животными   \n",
       "\n",
       "                                            additionally        Название ЖК  \\\n",
       "0      Мебель в комнатах, Мебель на кухне, Ванна, Душ...  Новый Арбат, 2010   \n",
       "1      Мебель в комнатах, Мебель на кухне, Ванна, Душ...        Новый Арбат   \n",
       "2      Мебель в комнатах, Мебель на кухне, Ванна, Душ...        Новый Арбат   \n",
       "3      Мебель в комнатах, Мебель на кухне, Ванна, Душ...                  0   \n",
       "4      Мебель в комнатах, Мебель на кухне, Ванна, Душ...           The Book   \n",
       "...                                                  ...                ...   \n",
       "23363  Мебель в комнатах, Мебель на кухне, Ванна, Сти...      Мещерский лес   \n",
       "23364  Мебель в комнатах, Мебель на кухне, Ванна, Сти...               Лучи   \n",
       "23365  Мебель на кухне, Душевая кабина, Стиральная ма...                  0   \n",
       "23366  Мебель в комнатах, Мебель на кухне, Ванна, Сти...                  0   \n",
       "23367  Мебель в комнатах, Мебель на кухне, Ванна, Сти...                  0   \n",
       "\n",
       "       Высота потолков, м                Лифт Мусоропровод  total_area  \\\n",
       "0                     3.0  Пасс (4), Груз (1)           Да       200.0   \n",
       "1                     3.5  Пасс (1), Груз (1)          Нет       198.0   \n",
       "2                     3.2            Пасс (1)          Нет       200.0   \n",
       "3                     3.2            Пасс (1)           Да       170.0   \n",
       "4                     3.9  Пасс (1), Груз (1)           Да        58.0   \n",
       "...                   ...                 ...          ...         ...   \n",
       "23363                 3.6  Пасс (1), Груз (1)          Нет        35.0   \n",
       "23364                 2.7  Пасс (1), Груз (1)          Нет        38.7   \n",
       "23365                 2.6                 Нет           Да        43.1   \n",
       "23366                 2.6            Пасс (3)           Да        52.5   \n",
       "23367                 2.7            Пасс (3)           Да        90.0   \n",
       "\n",
       "      rooms_num  area_based_room_num           metro  Этажность Срок аренды  \\\n",
       "0             4                    1  м. Смоленская          16  Длительный   \n",
       "1             4                    4  м. Смоленская          16  Длительный   \n",
       "2             4                    1  м. Смоленская          16  Длительный   \n",
       "3             4                    1  м. Смоленская           6  Длительный   \n",
       "4             2                    2   м. Арбатская          26  Длительный   \n",
       "...         ...                  ...             ...        ...         ...   \n",
       "23363         1                    1    м. Говорово          14  Длительный   \n",
       "23364         1                    1    м. Солнцево          18  Длительный   \n",
       "23365         2                    1    м. Солнцево           5  Длительный   \n",
       "23366         2                    1    м. Солнцево          23  Длительный   \n",
       "23367         2                    1    м. Говорово          23  Длительный   \n",
       "\n",
       "       Этаж  Общая площадь  Время пешком до метро, мин  \n",
       "0         5          200.0                         9.0  \n",
       "1         5          198.0                         8.0  \n",
       "2         5          200.0                         7.0  \n",
       "3         5          170.0                         3.0  \n",
       "4        12           58.0                         7.0  \n",
       "...     ...            ...                         ...  \n",
       "23363    10           35.0                         8.0  \n",
       "23364     5           38.7                         7.0  \n",
       "23365     5           43.1                         6.0  \n",
       "23366     8           52.5                        11.0  \n",
       "23367     6           90.0                        10.0  \n",
       "\n",
       "[19737 rows x 33 columns]"
      ]
     },
     "execution_count": 1418,
     "metadata": {},
     "output_type": "execute_result"
    }
   ],
   "source": [
    "df"
   ]
  }
 ],
 "metadata": {
  "kernelspec": {
   "display_name": "Python 3 (ipykernel)",
   "language": "python",
   "name": "python3"
  },
  "language_info": {
   "codemirror_mode": {
    "name": "ipython",
    "version": 3
   },
   "file_extension": ".py",
   "mimetype": "text/x-python",
   "name": "python",
   "nbconvert_exporter": "python",
   "pygments_lexer": "ipython3",
   "version": "3.10.13"
  }
 },
 "nbformat": 4,
 "nbformat_minor": 5
}
