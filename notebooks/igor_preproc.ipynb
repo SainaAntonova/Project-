{
 "cells": [
  {
   "cell_type": "code",
   "execution_count": 9,
   "id": "ed9a4af2-81a7-486f-85a2-2682077a87fc",
   "metadata": {},
   "outputs": [],
   "source": [
    "import pandas as pd\n",
    "\n",
    "pd.set_option('display.max_columns', None)"
   ]
  },
  {
   "cell_type": "code",
   "execution_count": 10,
   "id": "982e6438-2350-42b9-8bb8-b023e67ac0a6",
   "metadata": {},
   "outputs": [],
   "source": [
    "df = pd.read_csv(r'C:\\Users\\igors\\Downloads\\_data.csv')"
   ]
  },
  {
   "cell_type": "code",
   "execution_count": 11,
   "id": "fbfa4653-9079-4fdd-89c5-421a69211ee9",
   "metadata": {},
   "outputs": [
    {
     "data": {
      "text/html": [
       "<div>\n",
       "<style scoped>\n",
       "    .dataframe tbody tr th:only-of-type {\n",
       "        vertical-align: middle;\n",
       "    }\n",
       "\n",
       "    .dataframe tbody tr th {\n",
       "        vertical-align: top;\n",
       "    }\n",
       "\n",
       "    .dataframe thead th {\n",
       "        text-align: right;\n",
       "    }\n",
       "</style>\n",
       "<table border=\"1\" class=\"dataframe\">\n",
       "  <thead>\n",
       "    <tr style=\"text-align: right;\">\n",
       "      <th></th>\n",
       "      <th>Unnamed: 0</th>\n",
       "      <th>ID  объявления</th>\n",
       "      <th>Количество комнат</th>\n",
       "      <th>Тип</th>\n",
       "      <th>Метро</th>\n",
       "      <th>Адрес</th>\n",
       "      <th>Площадь, м2</th>\n",
       "      <th>Дом</th>\n",
       "      <th>Парковка</th>\n",
       "      <th>Цена</th>\n",
       "      <th>Телефоны</th>\n",
       "      <th>Описание</th>\n",
       "      <th>Ремонт</th>\n",
       "      <th>Площадь комнат, м2</th>\n",
       "      <th>Балкон</th>\n",
       "      <th>Окна</th>\n",
       "      <th>Санузел</th>\n",
       "      <th>Можно с детьми/животными</th>\n",
       "      <th>Дополнительно</th>\n",
       "      <th>Название ЖК</th>\n",
       "      <th>Серия дома</th>\n",
       "      <th>Высота потолков, м</th>\n",
       "      <th>Лифт</th>\n",
       "      <th>Мусоропровод</th>\n",
       "      <th>Ссылка на объявление</th>\n",
       "    </tr>\n",
       "  </thead>\n",
       "  <tbody>\n",
       "    <tr>\n",
       "      <th>0</th>\n",
       "      <td>0</td>\n",
       "      <td>271271157</td>\n",
       "      <td>4</td>\n",
       "      <td>Квартира</td>\n",
       "      <td>м. Смоленская (9 мин пешком)</td>\n",
       "      <td>Москва, улица Новый Арбат, 27</td>\n",
       "      <td>200.0/20.0</td>\n",
       "      <td>5/16, Монолитный</td>\n",
       "      <td>подземная</td>\n",
       "      <td>500000.0 руб./ За месяц, Залог - 500000 руб., ...</td>\n",
       "      <td>+79166369231</td>\n",
       "      <td>Без комиссии для нанимателя! Бонус коллегам 12...</td>\n",
       "      <td>Дизайнерский</td>\n",
       "      <td>NaN</td>\n",
       "      <td>NaN</td>\n",
       "      <td>NaN</td>\n",
       "      <td>NaN</td>\n",
       "      <td>Можно с детьми, Можно с животными</td>\n",
       "      <td>Мебель в комнатах, Мебель на кухне, Ванна, Душ...</td>\n",
       "      <td>Новый Арбат, 2010</td>\n",
       "      <td>NaN</td>\n",
       "      <td>3.0</td>\n",
       "      <td>Пасс (4), Груз (1)</td>\n",
       "      <td>Да</td>\n",
       "      <td>https://www.cian.ru/rent/flat/271271157</td>\n",
       "    </tr>\n",
       "  </tbody>\n",
       "</table>\n",
       "</div>"
      ],
      "text/plain": [
       "   Unnamed: 0  ID  объявления Количество комнат       Тип  \\\n",
       "0           0       271271157                 4  Квартира   \n",
       "\n",
       "                          Метро                          Адрес Площадь, м2  \\\n",
       "0  м. Смоленская (9 мин пешком)  Москва, улица Новый Арбат, 27  200.0/20.0   \n",
       "\n",
       "                Дом   Парковка  \\\n",
       "0  5/16, Монолитный  подземная   \n",
       "\n",
       "                                                Цена      Телефоны  \\\n",
       "0  500000.0 руб./ За месяц, Залог - 500000 руб., ...  +79166369231   \n",
       "\n",
       "                                            Описание        Ремонт  \\\n",
       "0  Без комиссии для нанимателя! Бонус коллегам 12...  Дизайнерский   \n",
       "\n",
       "  Площадь комнат, м2 Балкон Окна Санузел           Можно с детьми/животными  \\\n",
       "0                NaN    NaN  NaN     NaN  Можно с детьми, Можно с животными   \n",
       "\n",
       "                                       Дополнительно        Название ЖК  \\\n",
       "0  Мебель в комнатах, Мебель на кухне, Ванна, Душ...  Новый Арбат, 2010   \n",
       "\n",
       "  Серия дома  Высота потолков, м                Лифт Мусоропровод  \\\n",
       "0        NaN                 3.0  Пасс (4), Груз (1)           Да   \n",
       "\n",
       "                      Ссылка на объявление  \n",
       "0  https://www.cian.ru/rent/flat/271271157  "
      ]
     },
     "execution_count": 11,
     "metadata": {},
     "output_type": "execute_result"
    }
   ],
   "source": [
    "df.head(1)"
   ]
  },
  {
   "cell_type": "markdown",
   "id": "dd4961a5-8a9a-4026-83ac-0b74bb025426",
   "metadata": {},
   "source": [
    "## Количество комнат"
   ]
  },
  {
   "cell_type": "code",
   "execution_count": 12,
   "id": "3b5a7d80-0ae1-4825-9227-14c0c8b422b9",
   "metadata": {},
   "outputs": [],
   "source": [
    "# Для заполнения пропущенных значений в столбце \"Количество комнат\" нам потребуется создать временные столбцы\n",
    "\n",
    "\n",
    "# На сайте видно, что на первом месте заспличенного столбца \"Площадь, м2\" всегда общая площадь\n",
    "df['total_area'] = df['Площадь, м2'].apply(lambda x: float(x.split('/')[0]))\n",
    "\n",
    "# Заменим NaN на строковые значения, чтобы затем создать еще один временный столбец с количеством комнат, куда будем складывать результаты вычислений\n",
    "df['Количество комнат'].fillna('Unknown', inplace=True)\n",
    "\n",
    "df['rooms_num'] = df['Количество комнат'].apply(lambda x: int(x.split(',')[0]) if x != 'Unknown' else x)\n",
    "\n",
    "# В некоторых строках с незаполненным количеством комнат, указаны площади комнат. Посчитаем количество площадей - это и будет количеством комнат\n",
    "df['area_based_room_num'] = df['Площадь комнат, м2'].apply(lambda x: len(x.split()) if isinstance(x, str) else x)\n",
    "\n",
    "# Создадим фильтр и занесем посчиатнные значения во временный столбец\n",
    "mask = (df['rooms_num'] == 'Unknown') & (~df['area_based_room_num'].isna())\n",
    "df.loc[mask, 'rooms_num'] = df.loc[mask, 'area_based_room_num']\n",
    "\n",
    "# Находим строки, где значение столбца 'rooms_num' неизвестно, а в 'Описании' упоминается \"студия\" или \"однокомнатность\",\n",
    "# и присваиваем им значение 1 в столбце 'rooms_num'\n",
    "df.loc[(df['rooms_num'] == 'Unknown') & (df['Описание'].str.contains('студи|однок', case=False)), 'rooms_num'] = 1"
   ]
  },
  {
   "cell_type": "code",
   "execution_count": 15,
   "id": "042c6a2f-1512-4869-a7a9-37e86edb6ef7",
   "metadata": {},
   "outputs": [
    {
     "data": {
      "text/plain": [
       "rooms_num\n",
       "1          8796\n",
       "2          8466\n",
       "3          4262\n",
       "4          1163\n",
       "5           367\n",
       "Unknown     176\n",
       "6           138\n",
       "Name: count, dtype: int64"
      ]
     },
     "execution_count": 15,
     "metadata": {},
     "output_type": "execute_result"
    }
   ],
   "source": [
    "df['rooms_num'].value_counts()"
   ]
  },
  {
   "cell_type": "code",
   "execution_count": 17,
   "id": "db3c4171-ff75-4598-a207-0fce80fe1a21",
   "metadata": {},
   "outputs": [
    {
     "data": {
      "text/html": [
       "<div>\n",
       "<style scoped>\n",
       "    .dataframe tbody tr th:only-of-type {\n",
       "        vertical-align: middle;\n",
       "    }\n",
       "\n",
       "    .dataframe tbody tr th {\n",
       "        vertical-align: top;\n",
       "    }\n",
       "\n",
       "    .dataframe thead th {\n",
       "        text-align: right;\n",
       "    }\n",
       "</style>\n",
       "<table border=\"1\" class=\"dataframe\">\n",
       "  <thead>\n",
       "    <tr style=\"text-align: right;\">\n",
       "      <th></th>\n",
       "      <th>total_area</th>\n",
       "    </tr>\n",
       "    <tr>\n",
       "      <th>rooms_num</th>\n",
       "      <th></th>\n",
       "    </tr>\n",
       "  </thead>\n",
       "  <tbody>\n",
       "    <tr>\n",
       "      <th>1</th>\n",
       "      <td>37.0</td>\n",
       "    </tr>\n",
       "    <tr>\n",
       "      <th>2</th>\n",
       "      <td>52.0</td>\n",
       "    </tr>\n",
       "    <tr>\n",
       "      <th>3</th>\n",
       "      <td>80.0</td>\n",
       "    </tr>\n",
       "    <tr>\n",
       "      <th>4</th>\n",
       "      <td>145.0</td>\n",
       "    </tr>\n",
       "    <tr>\n",
       "      <th>5</th>\n",
       "      <td>205.0</td>\n",
       "    </tr>\n",
       "    <tr>\n",
       "      <th>6</th>\n",
       "      <td>328.5</td>\n",
       "    </tr>\n",
       "  </tbody>\n",
       "</table>\n",
       "</div>"
      ],
      "text/plain": [
       "           total_area\n",
       "rooms_num            \n",
       "1                37.0\n",
       "2                52.0\n",
       "3                80.0\n",
       "4               145.0\n",
       "5               205.0\n",
       "6               328.5"
      ]
     },
     "execution_count": 17,
     "metadata": {},
     "output_type": "execute_result"
    }
   ],
   "source": [
    "# Осталось совсем немного неизвестных значений, поэтому оставшиеся заполним опираясь на медианную площадь\n",
    "df[df['rooms_num'] != 'Unknown'][['rooms_num', 'total_area']].groupby('rooms_num').agg({'total_area': 'median'})"
   ]
  },
  {
   "cell_type": "code",
   "execution_count": 18,
   "id": "e4d014a8-7ecf-41be-a32a-a7e3cef8f11e",
   "metadata": {},
   "outputs": [],
   "source": [
    "df.loc[(df['rooms_num'] == 'Unknown') & (df['total_area'] < 52), 'rooms_num'] = 1\n",
    "df.loc[(df['rooms_num'] == 'Unknown') & ~(df['total_area'] < 52), 'rooms_num'] = 2"
   ]
  },
  {
   "cell_type": "code",
   "execution_count": 19,
   "id": "c08c5e22-29cb-4994-bb62-18afea0b3bfd",
   "metadata": {},
   "outputs": [],
   "source": [
    "# Теперь заполним пропущенные значения в столбец Количество комнат\n",
    "\n",
    "df.loc[df['Количество комнат'] == 'Unknown', 'Количество комнат'] = df.loc[df['Количество комнат'] == 'Unknown', 'rooms_num']"
   ]
  },
  {
   "cell_type": "markdown",
   "id": "3f1ffc73-fdd0-4db2-89ad-db191dec5ecc",
   "metadata": {},
   "source": [
    "## Метро"
   ]
  },
  {
   "cell_type": "code",
   "execution_count": 20,
   "id": "f7633c43-a6ac-42c6-9743-64a065af36b0",
   "metadata": {},
   "outputs": [],
   "source": [
    "# Применим тот же подход, что и на предыдущем шаге\n",
    "\n",
    "df['Метро'].fillna('Unknown', inplace=True)\n",
    "\n",
    "df['metro'] = df['Метро'].apply(lambda x: x.split('(')[0])"
   ]
  },
  {
   "cell_type": "code",
   "execution_count": 27,
   "id": "a9339d81-8888-4feb-9f59-ea69f468c7ae",
   "metadata": {},
   "outputs": [],
   "source": [
    "# При изучении датафрейма оказалось, что большое кол-во пропущенных станций метро приходятся на Зеленоград. Заменим их на \n",
    "# ближайшее метро\n",
    "df.loc[(df['metro'] == 'Unknown') & (df['Адрес'].str.contains('зеленогр', case=False)), 'metro'] = 'Ховрино (25 мин на машине)'"
   ]
  },
  {
   "cell_type": "markdown",
   "id": "5dc91a47-31b3-4429-843e-060c82efed94",
   "metadata": {},
   "source": [
    "## Парковка"
   ]
  },
  {
   "cell_type": "code",
   "execution_count": 29,
   "id": "9cdc3c64-30fa-43b5-83be-7b45c1e5be7f",
   "metadata": {},
   "outputs": [],
   "source": [
    "# Применим тот же подход, что и на предыдущем шаге. К третьему релизу проанализируем влияет ли наличие информации о парковке \n",
    "# на стоимость аренды\n",
    "df['Парковка'].fillna('Unknown', inplace=True)"
   ]
  },
  {
   "cell_type": "markdown",
   "id": "c9d2bac3-233e-461f-b882-84adc3e6447c",
   "metadata": {},
   "source": [
    "### в остальных столбцах пропущенных значений нет"
   ]
  },
  {
   "cell_type": "code",
   "execution_count": 33,
   "id": "e47402c5-18ef-4c19-ac88-67f7e0ed2336",
   "metadata": {},
   "outputs": [],
   "source": [
    "# Создаем словарь с соответствием текущих и новых имен столбцов\n",
    "rename_dict = {'ID  объявления': 'id', \n",
    "               'Количество комнат': 'rooms',\n",
    "               'Тип': 'type',\n",
    "               'Метро': 'metro',\n",
    "               'Адрес': 'adress',\n",
    "               'Площадь, м2': 'area',\n",
    "               'Дом': 'building',\n",
    "               'Парковка': 'parking'}\n",
    "\n",
    "# Используем метод rename() с передачей словаря в параметр columns\n",
    "df.rename(columns=rename_dict, inplace=True)"
   ]
  },
  {
   "cell_type": "code",
   "execution_count": 34,
   "id": "0854b97d-0b9c-4d90-911d-a307ee41a2b7",
   "metadata": {},
   "outputs": [
    {
     "name": "stdout",
     "output_type": "stream",
     "text": [
      "<class 'pandas.core.frame.DataFrame'>\n",
      "RangeIndex: 23368 entries, 0 to 23367\n",
      "Data columns (total 29 columns):\n",
      " #   Column                    Non-Null Count  Dtype  \n",
      "---  ------                    --------------  -----  \n",
      " 0   Unnamed: 0                23368 non-null  int64  \n",
      " 1   id                        23368 non-null  int64  \n",
      " 2   rooms                     23368 non-null  object \n",
      " 3   type                      23368 non-null  object \n",
      " 4   metro                     23368 non-null  object \n",
      " 5   adress                    23368 non-null  object \n",
      " 6   area                      23368 non-null  object \n",
      " 7   building                  23368 non-null  object \n",
      " 8   parking                   23368 non-null  object \n",
      " 9   Цена                      23368 non-null  object \n",
      " 10  Телефоны                  23368 non-null  object \n",
      " 11  Описание                  23368 non-null  object \n",
      " 12  Ремонт                    20613 non-null  object \n",
      " 13  Площадь комнат, м2        14458 non-null  object \n",
      " 14  Балкон                    15390 non-null  object \n",
      " 15  Окна                      16755 non-null  object \n",
      " 16  Санузел                   20696 non-null  object \n",
      " 17  Можно с детьми/животными  17272 non-null  object \n",
      " 18  Дополнительно             23011 non-null  object \n",
      " 19  Название ЖК               5848 non-null   object \n",
      " 20  Серия дома                2163 non-null   object \n",
      " 21  Высота потолков, м        11206 non-null  float64\n",
      " 22  Лифт                      17868 non-null  object \n",
      " 23  Мусоропровод              12846 non-null  object \n",
      " 24  Ссылка на объявление      23368 non-null  object \n",
      " 25  total_area                23368 non-null  float64\n",
      " 26  rooms_num                 23368 non-null  object \n",
      " 27  area_based_room_num       14458 non-null  float64\n",
      " 28  metro                     23368 non-null  object \n",
      "dtypes: float64(3), int64(2), object(24)\n",
      "memory usage: 5.2+ MB\n"
     ]
    }
   ],
   "source": [
    "df.info()"
   ]
  },
  {
   "cell_type": "code",
   "execution_count": null,
   "id": "689d3ea8-77a7-44bc-b853-82cb2fd9d179",
   "metadata": {},
   "outputs": [],
   "source": []
  }
 ],
 "metadata": {
  "kernelspec": {
   "display_name": "Python 3 (ipykernel)",
   "language": "python",
   "name": "python3"
  },
  "language_info": {
   "codemirror_mode": {
    "name": "ipython",
    "version": 3
   },
   "file_extension": ".py",
   "mimetype": "text/x-python",
   "name": "python",
   "nbconvert_exporter": "python",
   "pygments_lexer": "ipython3",
   "version": "3.9.13"
  }
 },
 "nbformat": 4,
 "nbformat_minor": 5
}
