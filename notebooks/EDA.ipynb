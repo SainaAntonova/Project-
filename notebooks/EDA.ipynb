{
 "cells": [
  {
   "cell_type": "markdown",
   "id": "aa791d2e-dbad-4536-9547-456920c56aa0",
   "metadata": {},
   "source": [
    "****Exploratory Data Analysis****"
   ]
  },
  {
   "cell_type": "code",
   "execution_count": 20,
   "id": "66e3d217-020f-4d96-a975-6fed630ea33d",
   "metadata": {},
   "outputs": [],
   "source": [
    "import pandas as pd\n",
    "import matplotlib.pyplot as plt\n",
    "import numpy as np"
   ]
  },
  {
   "cell_type": "markdown",
   "id": "256619bd-ac78-4c0e-8a5b-8f8f7f66bb3b",
   "metadata": {},
   "source": [
    "**Импортируем DataFrame**"
   ]
  },
  {
   "cell_type": "code",
   "execution_count": 3,
   "id": "fa847994-36e2-4ab5-87cd-85f0629fd3b8",
   "metadata": {},
   "outputs": [
    {
     "data": {
      "text/html": [
       "<div>\n",
       "<style scoped>\n",
       "    .dataframe tbody tr th:only-of-type {\n",
       "        vertical-align: middle;\n",
       "    }\n",
       "\n",
       "    .dataframe tbody tr th {\n",
       "        vertical-align: top;\n",
       "    }\n",
       "\n",
       "    .dataframe thead th {\n",
       "        text-align: right;\n",
       "    }\n",
       "</style>\n",
       "<table border=\"1\" class=\"dataframe\">\n",
       "  <thead>\n",
       "    <tr style=\"text-align: right;\">\n",
       "      <th></th>\n",
       "      <th>Unnamed: 0</th>\n",
       "      <th>ID  объявления</th>\n",
       "      <th>Количество комнат</th>\n",
       "      <th>Тип</th>\n",
       "      <th>Метро</th>\n",
       "      <th>Адрес</th>\n",
       "      <th>Площадь, м2</th>\n",
       "      <th>Дом</th>\n",
       "      <th>Парковка</th>\n",
       "      <th>Цена</th>\n",
       "      <th>...</th>\n",
       "      <th>Окна</th>\n",
       "      <th>Санузел</th>\n",
       "      <th>Можно с детьми/животными</th>\n",
       "      <th>Дополнительно</th>\n",
       "      <th>Название ЖК</th>\n",
       "      <th>Серия дома</th>\n",
       "      <th>Высота потолков, м</th>\n",
       "      <th>Лифт</th>\n",
       "      <th>Мусоропровод</th>\n",
       "      <th>Ссылка на объявление</th>\n",
       "    </tr>\n",
       "  </thead>\n",
       "  <tbody>\n",
       "    <tr>\n",
       "      <th>0</th>\n",
       "      <td>0</td>\n",
       "      <td>271271157</td>\n",
       "      <td>4</td>\n",
       "      <td>Квартира</td>\n",
       "      <td>м. Смоленская (9 мин пешком)</td>\n",
       "      <td>Москва, улица Новый Арбат, 27</td>\n",
       "      <td>200.0/20.0</td>\n",
       "      <td>5/16, Монолитный</td>\n",
       "      <td>подземная</td>\n",
       "      <td>500000.0 руб./ За месяц, Залог - 500000 руб., ...</td>\n",
       "      <td>...</td>\n",
       "      <td>NaN</td>\n",
       "      <td>NaN</td>\n",
       "      <td>Можно с детьми, Можно с животными</td>\n",
       "      <td>Мебель в комнатах, Мебель на кухне, Ванна, Душ...</td>\n",
       "      <td>Новый Арбат, 2010</td>\n",
       "      <td>NaN</td>\n",
       "      <td>3.0</td>\n",
       "      <td>Пасс (4), Груз (1)</td>\n",
       "      <td>Да</td>\n",
       "      <td>https://www.cian.ru/rent/flat/271271157</td>\n",
       "    </tr>\n",
       "    <tr>\n",
       "      <th>1</th>\n",
       "      <td>1</td>\n",
       "      <td>271634126</td>\n",
       "      <td>4</td>\n",
       "      <td>Квартира</td>\n",
       "      <td>м. Смоленская (8 мин пешком)</td>\n",
       "      <td>Москва, улица Новый Арбат, 27</td>\n",
       "      <td>198.0/95.0/18.0</td>\n",
       "      <td>5/16, Монолитно-кирпичный</td>\n",
       "      <td>подземная</td>\n",
       "      <td>500000.0 руб./ За месяц, Залог - 500000 руб., ...</td>\n",
       "      <td>...</td>\n",
       "      <td>На улицу и двор</td>\n",
       "      <td>Совмещенный (2), Раздельный (1)</td>\n",
       "      <td>Можно с детьми</td>\n",
       "      <td>Мебель в комнатах, Мебель на кухне, Ванна, Душ...</td>\n",
       "      <td>Новый Арбат</td>\n",
       "      <td>NaN</td>\n",
       "      <td>3.5</td>\n",
       "      <td>Пасс (1), Груз (1)</td>\n",
       "      <td>Нет</td>\n",
       "      <td>https://www.cian.ru/rent/flat/271634126</td>\n",
       "    </tr>\n",
       "    <tr>\n",
       "      <th>2</th>\n",
       "      <td>2</td>\n",
       "      <td>271173086</td>\n",
       "      <td>4, Оба варианта</td>\n",
       "      <td>Квартира</td>\n",
       "      <td>м. Смоленская (7 мин пешком)</td>\n",
       "      <td>Москва, улица Новый Арбат, 27</td>\n",
       "      <td>200.0/116.0/4.0</td>\n",
       "      <td>5/16</td>\n",
       "      <td>подземная</td>\n",
       "      <td>500000.0 руб./ За месяц, Залог - 500000 руб., ...</td>\n",
       "      <td>...</td>\n",
       "      <td>На улицу и двор</td>\n",
       "      <td>Совмещенный (3)</td>\n",
       "      <td>Можно с детьми</td>\n",
       "      <td>Мебель в комнатах, Мебель на кухне, Ванна, Душ...</td>\n",
       "      <td>Новый Арбат</td>\n",
       "      <td>NaN</td>\n",
       "      <td>3.2</td>\n",
       "      <td>Пасс (1)</td>\n",
       "      <td>NaN</td>\n",
       "      <td>https://www.cian.ru/rent/flat/271173086</td>\n",
       "    </tr>\n",
       "    <tr>\n",
       "      <th>3</th>\n",
       "      <td>3</td>\n",
       "      <td>272197456</td>\n",
       "      <td>4, Оба варианта</td>\n",
       "      <td>Квартира</td>\n",
       "      <td>м. Смоленская (3 мин пешком)</td>\n",
       "      <td>Москва, переулок Плотников, 21С1</td>\n",
       "      <td>170.0/95.0/17.0</td>\n",
       "      <td>5/6</td>\n",
       "      <td>подземная</td>\n",
       "      <td>400000.0 руб./ За месяц, Залог - 400000 руб., ...</td>\n",
       "      <td>...</td>\n",
       "      <td>На улицу и двор</td>\n",
       "      <td>Совмещенный (3)</td>\n",
       "      <td>Можно с животными</td>\n",
       "      <td>Мебель в комнатах, Мебель на кухне, Ванна, Душ...</td>\n",
       "      <td>NaN</td>\n",
       "      <td>NaN</td>\n",
       "      <td>3.2</td>\n",
       "      <td>Пасс (1)</td>\n",
       "      <td>NaN</td>\n",
       "      <td>https://www.cian.ru/rent/flat/272197456</td>\n",
       "    </tr>\n",
       "    <tr>\n",
       "      <th>4</th>\n",
       "      <td>4</td>\n",
       "      <td>273614615</td>\n",
       "      <td>2</td>\n",
       "      <td>Квартира</td>\n",
       "      <td>м. Арбатская (7 мин пешком)</td>\n",
       "      <td>Москва, улица Новый Арбат, 15</td>\n",
       "      <td>58.0/38.0/5.0</td>\n",
       "      <td>12/26, Панельный</td>\n",
       "      <td>NaN</td>\n",
       "      <td>225000.0 руб./ За месяц, Залог - 225000 руб., ...</td>\n",
       "      <td>...</td>\n",
       "      <td>На улицу и двор</td>\n",
       "      <td>Совмещенный (2)</td>\n",
       "      <td>NaN</td>\n",
       "      <td>Мебель в комнатах, Мебель на кухне, Ванна, Душ...</td>\n",
       "      <td>The Book</td>\n",
       "      <td>NaN</td>\n",
       "      <td>3.9</td>\n",
       "      <td>Пасс (1), Груз (1)</td>\n",
       "      <td>Да</td>\n",
       "      <td>https://www.cian.ru/rent/flat/273614615</td>\n",
       "    </tr>\n",
       "    <tr>\n",
       "      <th>5</th>\n",
       "      <td>5</td>\n",
       "      <td>274837728</td>\n",
       "      <td>3</td>\n",
       "      <td>Квартира</td>\n",
       "      <td>м. Смоленская (5 мин пешком)</td>\n",
       "      <td>Москва, 1-й Смоленский переулок, 21</td>\n",
       "      <td>92.0</td>\n",
       "      <td>3/7</td>\n",
       "      <td>NaN</td>\n",
       "      <td>470000.0 руб./ За месяц, Залог - 470000 руб., ...</td>\n",
       "      <td>...</td>\n",
       "      <td>NaN</td>\n",
       "      <td>NaN</td>\n",
       "      <td>NaN</td>\n",
       "      <td>Мебель в комнатах, Мебель на кухне, Ванна, Душ...</td>\n",
       "      <td>Smolensky De Luxe</td>\n",
       "      <td>NaN</td>\n",
       "      <td>NaN</td>\n",
       "      <td>NaN</td>\n",
       "      <td>NaN</td>\n",
       "      <td>https://www.cian.ru/rent/flat/274837728</td>\n",
       "    </tr>\n",
       "  </tbody>\n",
       "</table>\n",
       "<p>6 rows × 25 columns</p>\n",
       "</div>"
      ],
      "text/plain": [
       "   Unnamed: 0  ID  объявления Количество комнат       Тип  \\\n",
       "0           0       271271157                 4  Квартира   \n",
       "1           1       271634126                 4  Квартира   \n",
       "2           2       271173086   4, Оба варианта  Квартира   \n",
       "3           3       272197456   4, Оба варианта  Квартира   \n",
       "4           4       273614615                 2  Квартира   \n",
       "5           5       274837728                 3  Квартира   \n",
       "\n",
       "                          Метро                                Адрес  \\\n",
       "0  м. Смоленская (9 мин пешком)        Москва, улица Новый Арбат, 27   \n",
       "1  м. Смоленская (8 мин пешком)        Москва, улица Новый Арбат, 27   \n",
       "2  м. Смоленская (7 мин пешком)        Москва, улица Новый Арбат, 27   \n",
       "3  м. Смоленская (3 мин пешком)     Москва, переулок Плотников, 21С1   \n",
       "4   м. Арбатская (7 мин пешком)        Москва, улица Новый Арбат, 15   \n",
       "5  м. Смоленская (5 мин пешком)  Москва, 1-й Смоленский переулок, 21   \n",
       "\n",
       "       Площадь, м2                        Дом   Парковка  \\\n",
       "0       200.0/20.0           5/16, Монолитный  подземная   \n",
       "1  198.0/95.0/18.0  5/16, Монолитно-кирпичный  подземная   \n",
       "2  200.0/116.0/4.0                       5/16  подземная   \n",
       "3  170.0/95.0/17.0                        5/6  подземная   \n",
       "4    58.0/38.0/5.0           12/26, Панельный        NaN   \n",
       "5             92.0                        3/7        NaN   \n",
       "\n",
       "                                                Цена  ...             Окна  \\\n",
       "0  500000.0 руб./ За месяц, Залог - 500000 руб., ...  ...              NaN   \n",
       "1  500000.0 руб./ За месяц, Залог - 500000 руб., ...  ...  На улицу и двор   \n",
       "2  500000.0 руб./ За месяц, Залог - 500000 руб., ...  ...  На улицу и двор   \n",
       "3  400000.0 руб./ За месяц, Залог - 400000 руб., ...  ...  На улицу и двор   \n",
       "4  225000.0 руб./ За месяц, Залог - 225000 руб., ...  ...  На улицу и двор   \n",
       "5  470000.0 руб./ За месяц, Залог - 470000 руб., ...  ...              NaN   \n",
       "\n",
       "                           Санузел           Можно с детьми/животными  \\\n",
       "0                              NaN  Можно с детьми, Можно с животными   \n",
       "1  Совмещенный (2), Раздельный (1)                     Можно с детьми   \n",
       "2                  Совмещенный (3)                     Можно с детьми   \n",
       "3                  Совмещенный (3)                  Можно с животными   \n",
       "4                  Совмещенный (2)                                NaN   \n",
       "5                              NaN                                NaN   \n",
       "\n",
       "                                       Дополнительно        Название ЖК  \\\n",
       "0  Мебель в комнатах, Мебель на кухне, Ванна, Душ...  Новый Арбат, 2010   \n",
       "1  Мебель в комнатах, Мебель на кухне, Ванна, Душ...        Новый Арбат   \n",
       "2  Мебель в комнатах, Мебель на кухне, Ванна, Душ...        Новый Арбат   \n",
       "3  Мебель в комнатах, Мебель на кухне, Ванна, Душ...                NaN   \n",
       "4  Мебель в комнатах, Мебель на кухне, Ванна, Душ...           The Book   \n",
       "5  Мебель в комнатах, Мебель на кухне, Ванна, Душ...  Smolensky De Luxe   \n",
       "\n",
       "  Серия дома Высота потолков, м                Лифт Мусоропровод  \\\n",
       "0        NaN                3.0  Пасс (4), Груз (1)           Да   \n",
       "1        NaN                3.5  Пасс (1), Груз (1)          Нет   \n",
       "2        NaN                3.2            Пасс (1)          NaN   \n",
       "3        NaN                3.2            Пасс (1)          NaN   \n",
       "4        NaN                3.9  Пасс (1), Груз (1)           Да   \n",
       "5        NaN                NaN                 NaN          NaN   \n",
       "\n",
       "                      Ссылка на объявление  \n",
       "0  https://www.cian.ru/rent/flat/271271157  \n",
       "1  https://www.cian.ru/rent/flat/271634126  \n",
       "2  https://www.cian.ru/rent/flat/271173086  \n",
       "3  https://www.cian.ru/rent/flat/272197456  \n",
       "4  https://www.cian.ru/rent/flat/273614615  \n",
       "5  https://www.cian.ru/rent/flat/274837728  \n",
       "\n",
       "[6 rows x 25 columns]"
      ]
     },
     "execution_count": 3,
     "metadata": {},
     "output_type": "execute_result"
    }
   ],
   "source": [
    "data = pd.read_csv('/home/saule/ds_bootcamp/Project-/data/_data.csv')\n",
    "data.head(6)"
   ]
  },
  {
   "cell_type": "markdown",
   "id": "b025641b-77af-43c3-aa16-cf5d30bbf760",
   "metadata": {},
   "source": [
    "**Общая информация по DataFrame**"
   ]
  },
  {
   "cell_type": "markdown",
   "id": "9475c804-abef-457b-aee6-94bbf06ce667",
   "metadata": {},
   "source": [
    "*Датафрейм содержит 23368 строк. В некоторых столбцах доля значение Non-Null довольно низкая (ниже выведем столбчатую диаграмму с долей пустых строк).*"
   ]
  },
  {
   "cell_type": "code",
   "execution_count": 4,
   "id": "6843f74f-8979-4b69-b88d-b8d7538d1067",
   "metadata": {},
   "outputs": [
    {
     "name": "stdout",
     "output_type": "stream",
     "text": [
      "<class 'pandas.core.frame.DataFrame'>\n",
      "RangeIndex: 23368 entries, 0 to 23367\n",
      "Data columns (total 25 columns):\n",
      " #   Column                    Non-Null Count  Dtype  \n",
      "---  ------                    --------------  -----  \n",
      " 0   Unnamed: 0                23368 non-null  int64  \n",
      " 1   ID  объявления            23368 non-null  int64  \n",
      " 2   Количество комнат         22327 non-null  object \n",
      " 3   Тип                       23368 non-null  object \n",
      " 4   Метро                     22053 non-null  object \n",
      " 5   Адрес                     23368 non-null  object \n",
      " 6   Площадь, м2               23368 non-null  object \n",
      " 7   Дом                       23368 non-null  object \n",
      " 8   Парковка                  9951 non-null   object \n",
      " 9   Цена                      23368 non-null  object \n",
      " 10  Телефоны                  23368 non-null  object \n",
      " 11  Описание                  23368 non-null  object \n",
      " 12  Ремонт                    20613 non-null  object \n",
      " 13  Площадь комнат, м2        14458 non-null  object \n",
      " 14  Балкон                    15390 non-null  object \n",
      " 15  Окна                      16755 non-null  object \n",
      " 16  Санузел                   20696 non-null  object \n",
      " 17  Можно с детьми/животными  17272 non-null  object \n",
      " 18  Дополнительно             23011 non-null  object \n",
      " 19  Название ЖК               5848 non-null   object \n",
      " 20  Серия дома                2163 non-null   object \n",
      " 21  Высота потолков, м        11206 non-null  float64\n",
      " 22  Лифт                      17868 non-null  object \n",
      " 23  Мусоропровод              12846 non-null  object \n",
      " 24  Ссылка на объявление      23368 non-null  object \n",
      "dtypes: float64(1), int64(2), object(22)\n",
      "memory usage: 4.5+ MB\n"
     ]
    }
   ],
   "source": [
    "data.info()"
   ]
  },
  {
   "cell_type": "markdown",
   "id": "7abe44d1-cb82-4d3b-ba8e-d8dfae8d89d2",
   "metadata": {},
   "source": [
    "* Проверяем количество уникальных объявленией по ID объявлений и ссылке на сайт. Количество уникальных значений равно количество строк, значит дублирования объявлений нет."
   ]
  },
  {
   "cell_type": "code",
   "execution_count": 5,
   "id": "bf816cde-018a-417d-b0ee-62bebc6f0c2c",
   "metadata": {},
   "outputs": [
    {
     "data": {
      "text/plain": [
       "23368"
      ]
     },
     "execution_count": 5,
     "metadata": {},
     "output_type": "execute_result"
    }
   ],
   "source": [
    "len(data['Ссылка на объявление'].unique())"
   ]
  },
  {
   "cell_type": "code",
   "execution_count": 6,
   "id": "8960e1a6-c6bc-4bea-b862-623a81accaaa",
   "metadata": {},
   "outputs": [
    {
     "data": {
      "text/plain": [
       "23368"
      ]
     },
     "execution_count": 6,
     "metadata": {},
     "output_type": "execute_result"
    }
   ],
   "source": [
    "len(data['ID  объявления'].unique())"
   ]
  },
  {
   "cell_type": "markdown",
   "id": "d6a03859-7ef0-4c59-9049-7895f95d0e9a",
   "metadata": {},
   "source": [
    "**График с долей пустых полей по каждой колонке**"
   ]
  },
  {
   "cell_type": "markdown",
   "id": "ac57d466-1638-4054-a92a-fa7fed432a59",
   "metadata": {},
   "source": [
    "* На диаграмме отражена доля пустых строк по каждой колонке (за исключение тех, в которых нет пустых строк)\n",
    "* Особенно высокая доля пустых строк у параметров \"Парковка\", \"Название ЖК\", \"Серия дома\". Свыше 60%\n",
    "  "
   ]
  },
  {
   "cell_type": "code",
   "execution_count": 7,
   "id": "bf09067f-3401-40d7-8b98-bbd64f751872",
   "metadata": {},
   "outputs": [],
   "source": [
    "missing_values_percentage = data.isnull().mean() * 100"
   ]
  },
  {
   "cell_type": "code",
   "execution_count": 8,
   "id": "addcba58-9036-40dc-9d31-214899767140",
   "metadata": {},
   "outputs": [],
   "source": [
    "columns_with_missing_values = missing_values_percentage[missing_values_percentage > 0]"
   ]
  },
  {
   "cell_type": "code",
   "execution_count": 9,
   "id": "d71dc761-5294-47cf-b325-b0096b0f2980",
   "metadata": {},
   "outputs": [
    {
     "data": {
      "image/png": "[encoded data removed]",
      "text/plain": [
       "<Figure size 1000x600 with 1 Axes>"
      ]
     },
     "metadata": {},
     "output_type": "display_data"
    }
   ],
   "source": [
    "plt.figure(figsize=(10, 6))\n",
    "columns_with_missing_values.plot(kind='bar', color='skyblue')\n",
    "plt.xlabel('Столбцы с пропущенными значениями')\n",
    "plt.ylabel('Доля пропущенных значений (%)')\n",
    "plt.title('Доля пропущенных значений в столбцах')\n",
    "plt.xticks(rotation=45)\n",
    "plt.tight_layout()\n",
    "plt.show()"
   ]
  },
  {
   "cell_type": "markdown",
   "id": "cbfff4f1-b72d-4362-9b44-37c16d22ca0e",
   "metadata": {},
   "source": [
    "**Проверка наличия в датафрейме объявление не по Москве**"
   ]
  },
  {
   "cell_type": "markdown",
   "id": "d7df4d22-dba0-4244-a842-5d33ca9603c5",
   "metadata": {},
   "source": [
    "* В датафрейме есть объявления по другим городам - 15% от общего числа объявлений (ниже диаграмма). При дальнейшей работе эти данные стоит исключить.\n"
   ]
  },
  {
   "cell_type": "code",
   "execution_count": 10,
   "id": "27d906c6-5f69-470b-8176-18525989c163",
   "metadata": {},
   "outputs": [
    {
     "data": {
      "text/html": [
       "<div>\n",
       "<style scoped>\n",
       "    .dataframe tbody tr th:only-of-type {\n",
       "        vertical-align: middle;\n",
       "    }\n",
       "\n",
       "    .dataframe tbody tr th {\n",
       "        vertical-align: top;\n",
       "    }\n",
       "\n",
       "    .dataframe thead th {\n",
       "        text-align: right;\n",
       "    }\n",
       "</style>\n",
       "<table border=\"1\" class=\"dataframe\">\n",
       "  <thead>\n",
       "    <tr style=\"text-align: right;\">\n",
       "      <th></th>\n",
       "      <th>Unnamed: 0</th>\n",
       "      <th>ID  объявления</th>\n",
       "      <th>Количество комнат</th>\n",
       "      <th>Тип</th>\n",
       "      <th>Метро</th>\n",
       "      <th>Адрес</th>\n",
       "      <th>Площадь, м2</th>\n",
       "      <th>Дом</th>\n",
       "      <th>Парковка</th>\n",
       "      <th>Цена</th>\n",
       "      <th>...</th>\n",
       "      <th>Окна</th>\n",
       "      <th>Санузел</th>\n",
       "      <th>Можно с детьми/животными</th>\n",
       "      <th>Дополнительно</th>\n",
       "      <th>Название ЖК</th>\n",
       "      <th>Серия дома</th>\n",
       "      <th>Высота потолков, м</th>\n",
       "      <th>Лифт</th>\n",
       "      <th>Мусоропровод</th>\n",
       "      <th>Ссылка на объявление</th>\n",
       "    </tr>\n",
       "  </thead>\n",
       "  <tbody>\n",
       "    <tr>\n",
       "      <th>884</th>\n",
       "      <td>884</td>\n",
       "      <td>267087066</td>\n",
       "      <td>3, Оба варианта</td>\n",
       "      <td>Квартира</td>\n",
       "      <td>м. Новочеркасская (5 мин пешком)</td>\n",
       "      <td>Санкт-Петербург, Новочеркасский проспект, 33</td>\n",
       "      <td>89.0/50.0/12.0</td>\n",
       "      <td>5/12, Монолитный</td>\n",
       "      <td>подземная</td>\n",
       "      <td>80000.0 руб./ За месяц, Сумма коммунальных пла...</td>\n",
       "      <td>...</td>\n",
       "      <td>Во двор</td>\n",
       "      <td>Раздельный (2)</td>\n",
       "      <td>Можно с детьми, Можно с животными</td>\n",
       "      <td>Мебель в комнатах, Мебель на кухне, Стиральная...</td>\n",
       "      <td>NaN</td>\n",
       "      <td>NaN</td>\n",
       "      <td>NaN</td>\n",
       "      <td>Пасс (1)</td>\n",
       "      <td>NaN</td>\n",
       "      <td>https://www.cian.ru/rent/flat/267087066</td>\n",
       "    </tr>\n",
       "    <tr>\n",
       "      <th>885</th>\n",
       "      <td>885</td>\n",
       "      <td>274776756</td>\n",
       "      <td>2, Изолированная</td>\n",
       "      <td>Квартира</td>\n",
       "      <td>м. Новочеркасская (4 мин пешком)</td>\n",
       "      <td>Санкт-Петербург, Новочеркасский проспект, 33</td>\n",
       "      <td>89.0/50.0/20.0</td>\n",
       "      <td>5/12, Кирпичный</td>\n",
       "      <td>NaN</td>\n",
       "      <td>90000.0 руб./ За месяц, Сумма коммунальных пла...</td>\n",
       "      <td>...</td>\n",
       "      <td>NaN</td>\n",
       "      <td>NaN</td>\n",
       "      <td>NaN</td>\n",
       "      <td>Мебель в комнатах, Мебель на кухне, Стиральная...</td>\n",
       "      <td>NaN</td>\n",
       "      <td>NaN</td>\n",
       "      <td>NaN</td>\n",
       "      <td>NaN</td>\n",
       "      <td>NaN</td>\n",
       "      <td>https://www.cian.ru/rent/flat/274776756</td>\n",
       "    </tr>\n",
       "    <tr>\n",
       "      <th>886</th>\n",
       "      <td>886</td>\n",
       "      <td>267087919</td>\n",
       "      <td>3</td>\n",
       "      <td>Квартира</td>\n",
       "      <td>м. Новочеркасская (5 мин пешком)</td>\n",
       "      <td>Санкт-Петербург, Новочеркасский проспект, 33</td>\n",
       "      <td>89.0/45.0/20.0</td>\n",
       "      <td>5/12</td>\n",
       "      <td>открытая</td>\n",
       "      <td>80000.0 руб./ За месяц, Сумма коммунальных пла...</td>\n",
       "      <td>...</td>\n",
       "      <td>NaN</td>\n",
       "      <td>Раздельный (2)</td>\n",
       "      <td>NaN</td>\n",
       "      <td>Мебель в комнатах, Мебель на кухне, Стиральная...</td>\n",
       "      <td>NaN</td>\n",
       "      <td>NaN</td>\n",
       "      <td>NaN</td>\n",
       "      <td>Пасс (1)</td>\n",
       "      <td>NaN</td>\n",
       "      <td>https://www.cian.ru/rent/flat/267087919</td>\n",
       "    </tr>\n",
       "    <tr>\n",
       "      <th>887</th>\n",
       "      <td>887</td>\n",
       "      <td>274403961</td>\n",
       "      <td>1</td>\n",
       "      <td>Квартира</td>\n",
       "      <td>м. Ладожская (5 мин пешком)</td>\n",
       "      <td>Санкт-Петербург, проспект Энергетиков, 9к3</td>\n",
       "      <td>35.0/16.0/10.0</td>\n",
       "      <td>14/21, Монолитно-кирпичный</td>\n",
       "      <td>наземная</td>\n",
       "      <td>27000.0 руб./ За месяц, Сумма коммунальных пла...</td>\n",
       "      <td>...</td>\n",
       "      <td>NaN</td>\n",
       "      <td>Совмещенный (1)</td>\n",
       "      <td>NaN</td>\n",
       "      <td>Мебель в комнатах, Мебель на кухне, Стиральная...</td>\n",
       "      <td>ЗимаЛето</td>\n",
       "      <td>NaN</td>\n",
       "      <td>NaN</td>\n",
       "      <td>NaN</td>\n",
       "      <td>NaN</td>\n",
       "      <td>https://www.cian.ru/rent/flat/274403961</td>\n",
       "    </tr>\n",
       "    <tr>\n",
       "      <th>888</th>\n",
       "      <td>888</td>\n",
       "      <td>273755703</td>\n",
       "      <td>1</td>\n",
       "      <td>Квартира</td>\n",
       "      <td>м. Ладожская (20 мин на машине)</td>\n",
       "      <td>Санкт-Петербург, Индустриальный проспект, 40к1Б</td>\n",
       "      <td>47.0/17.0/13.0</td>\n",
       "      <td>2/11, Монолитно-кирпичный</td>\n",
       "      <td>NaN</td>\n",
       "      <td>27000.0 руб./ За месяц, Сумма коммунальных пла...</td>\n",
       "      <td>...</td>\n",
       "      <td>NaN</td>\n",
       "      <td>NaN</td>\n",
       "      <td>Можно с детьми</td>\n",
       "      <td>Мебель в комнатах, Мебель на кухне, Стиральная...</td>\n",
       "      <td>NaN</td>\n",
       "      <td>NaN</td>\n",
       "      <td>NaN</td>\n",
       "      <td>NaN</td>\n",
       "      <td>NaN</td>\n",
       "      <td>https://www.cian.ru/rent/flat/273755703</td>\n",
       "    </tr>\n",
       "  </tbody>\n",
       "</table>\n",
       "<p>5 rows × 25 columns</p>\n",
       "</div>"
      ],
      "text/plain": [
       "     Unnamed: 0  ID  объявления Количество комнат       Тип  \\\n",
       "884         884       267087066   3, Оба варианта  Квартира   \n",
       "885         885       274776756  2, Изолированная  Квартира   \n",
       "886         886       267087919                 3  Квартира   \n",
       "887         887       274403961                 1  Квартира   \n",
       "888         888       273755703                 1  Квартира   \n",
       "\n",
       "                                Метро  \\\n",
       "884  м. Новочеркасская (5 мин пешком)   \n",
       "885  м. Новочеркасская (4 мин пешком)   \n",
       "886  м. Новочеркасская (5 мин пешком)   \n",
       "887       м. Ладожская (5 мин пешком)   \n",
       "888   м. Ладожская (20 мин на машине)   \n",
       "\n",
       "                                               Адрес     Площадь, м2  \\\n",
       "884     Санкт-Петербург, Новочеркасский проспект, 33  89.0/50.0/12.0   \n",
       "885     Санкт-Петербург, Новочеркасский проспект, 33  89.0/50.0/20.0   \n",
       "886     Санкт-Петербург, Новочеркасский проспект, 33  89.0/45.0/20.0   \n",
       "887       Санкт-Петербург, проспект Энергетиков, 9к3  35.0/16.0/10.0   \n",
       "888  Санкт-Петербург, Индустриальный проспект, 40к1Б  47.0/17.0/13.0   \n",
       "\n",
       "                            Дом   Парковка  \\\n",
       "884            5/12, Монолитный  подземная   \n",
       "885             5/12, Кирпичный        NaN   \n",
       "886                        5/12   открытая   \n",
       "887  14/21, Монолитно-кирпичный   наземная   \n",
       "888   2/11, Монолитно-кирпичный        NaN   \n",
       "\n",
       "                                                  Цена  ...     Окна  \\\n",
       "884  80000.0 руб./ За месяц, Сумма коммунальных пла...  ...  Во двор   \n",
       "885  90000.0 руб./ За месяц, Сумма коммунальных пла...  ...      NaN   \n",
       "886  80000.0 руб./ За месяц, Сумма коммунальных пла...  ...      NaN   \n",
       "887  27000.0 руб./ За месяц, Сумма коммунальных пла...  ...      NaN   \n",
       "888  27000.0 руб./ За месяц, Сумма коммунальных пла...  ...      NaN   \n",
       "\n",
       "             Санузел           Можно с детьми/животными  \\\n",
       "884   Раздельный (2)  Можно с детьми, Можно с животными   \n",
       "885              NaN                                NaN   \n",
       "886   Раздельный (2)                                NaN   \n",
       "887  Совмещенный (1)                                NaN   \n",
       "888              NaN                     Можно с детьми   \n",
       "\n",
       "                                         Дополнительно Название ЖК Серия дома  \\\n",
       "884  Мебель в комнатах, Мебель на кухне, Стиральная...         NaN        NaN   \n",
       "885  Мебель в комнатах, Мебель на кухне, Стиральная...         NaN        NaN   \n",
       "886  Мебель в комнатах, Мебель на кухне, Стиральная...         NaN        NaN   \n",
       "887  Мебель в комнатах, Мебель на кухне, Стиральная...    ЗимаЛето        NaN   \n",
       "888  Мебель в комнатах, Мебель на кухне, Стиральная...         NaN        NaN   \n",
       "\n",
       "    Высота потолков, м      Лифт Мусоропровод  \\\n",
       "884                NaN  Пасс (1)          NaN   \n",
       "885                NaN       NaN          NaN   \n",
       "886                NaN  Пасс (1)          NaN   \n",
       "887                NaN       NaN          NaN   \n",
       "888                NaN       NaN          NaN   \n",
       "\n",
       "                        Ссылка на объявление  \n",
       "884  https://www.cian.ru/rent/flat/267087066  \n",
       "885  https://www.cian.ru/rent/flat/274776756  \n",
       "886  https://www.cian.ru/rent/flat/267087919  \n",
       "887  https://www.cian.ru/rent/flat/274403961  \n",
       "888  https://www.cian.ru/rent/flat/273755703  \n",
       "\n",
       "[5 rows x 25 columns]"
      ]
     },
     "execution_count": 10,
     "metadata": {},
     "output_type": "execute_result"
    }
   ],
   "source": [
    "non_moscow_ads = data[~data['Адрес'].str.contains('Москва')]\n",
    "non_moscow_ads.head(5)"
   ]
  },
  {
   "cell_type": "markdown",
   "id": "fef2fee1-94b7-40b3-9c47-6ac2820f8e1f",
   "metadata": {},
   "source": [
    "**Круговая диаграмма с долей объявлений не по Москве**"
   ]
  },
  {
   "cell_type": "code",
   "execution_count": 11,
   "id": "b0ea6bbb-11ac-4774-8173-ef58e0dde217",
   "metadata": {},
   "outputs": [],
   "source": [
    "only_moscow_ads = data[data['Адрес'].str.contains('Москва')]"
   ]
  },
  {
   "cell_type": "code",
   "execution_count": 12,
   "id": "26028ef6-35aa-49a9-8ffd-df2471bb1fcb",
   "metadata": {},
   "outputs": [
    {
     "data": {
      "image/png": "[encoded data removed]",
      "text/plain": [
       "<Figure size 640x480 with 1 Axes>"
      ]
     },
     "metadata": {},
     "output_type": "display_data"
    }
   ],
   "source": [
    "plt.pie([len(non_moscow_ads), len(only_moscow_ads)], labels=['Не Москва', 'Москва'], autopct='%1.1f%%', colors=['skyblue', 'lightcoral'])\n",
    "plt.title('Доля объявлений по Москве и не Москве');"
   ]
  },
  {
   "cell_type": "markdown",
   "id": "6a34c15f-5803-495b-b927-59d53ca17365",
   "metadata": {},
   "source": [
    "**Проверяем объявления на наличие объявлений без указания валюты или с валютой не рубль**"
   ]
  },
  {
   "cell_type": "markdown",
   "id": "2b99acdd-e876-4464-aeff-bd7627470bc1",
   "metadata": {},
   "source": [
    "* Есть несколько объявлений с ценой в евро и без указания валюты. Доля таких объявлений ниже 1%, поэтому отдельный график не выводим."
   ]
  },
  {
   "cell_type": "code",
   "execution_count": 13,
   "id": "bb76071d-a56f-4c6a-926b-99ea0ceae55b",
   "metadata": {},
   "outputs": [
    {
     "data": {
      "text/plain": [
       "23344"
      ]
     },
     "execution_count": 13,
     "metadata": {},
     "output_type": "execute_result"
    }
   ],
   "source": [
    "currency_rub = data[data['Цена'].str.contains('руб')]\n",
    "len(currency_rub)"
   ]
  },
  {
   "cell_type": "code",
   "execution_count": 14,
   "id": "33a264bd-c22a-4427-b95e-0dff59fe4686",
   "metadata": {},
   "outputs": [
    {
     "data": {
      "text/plain": [
       "10"
      ]
     },
     "execution_count": 14,
     "metadata": {},
     "output_type": "execute_result"
    }
   ],
   "source": [
    "currency_euro = data[data['Цена'].str.contains('€')]\n",
    "len(currency_euro)"
   ]
  },
  {
   "cell_type": "code",
   "execution_count": 15,
   "id": "790d96ad-2714-477b-9351-e1fa0c7ac33b",
   "metadata": {},
   "outputs": [
    {
     "data": {
      "text/plain": [
       "14"
      ]
     },
     "execution_count": 15,
     "metadata": {},
     "output_type": "execute_result"
    }
   ],
   "source": [
    "without_currency = len(data['Цена']) - len(currency_rub) - len(currency_euro)\n",
    "without_currency"
   ]
  },
  {
   "cell_type": "markdown",
   "id": "87061352-6f05-4797-ac79-664688d88869",
   "metadata": {},
   "source": [
    "**Площадь квартир**"
   ]
  },
  {
   "cell_type": "code",
   "execution_count": 16,
   "id": "e67a307e-0347-40ee-b912-45bd9cafbc4c",
   "metadata": {},
   "outputs": [
    {
     "data": {
      "text/plain": [
       "count    23368.000000\n",
       "mean        62.819425\n",
       "std         46.699425\n",
       "min          7.000000\n",
       "25%         38.000000\n",
       "50%         48.000000\n",
       "75%         70.000000\n",
       "max        811.000000\n",
       "Name: full_area, dtype: float64"
      ]
     },
     "execution_count": 16,
     "metadata": {},
     "output_type": "execute_result"
    }
   ],
   "source": [
    "def get_area_lamb(s):\n",
    "    if '/' in s:\n",
    "        return float(s.split('/')[0])\n",
    "    else:\n",
    "        return float(s)\n",
    "def get_area(data):\n",
    "    return data['Площадь, м2'].astype(str).apply(get_area_lamb)\n",
    "    \n",
    "data['full_area'] = get_area(data)\n",
    "data['full_area']\n",
    "data['full_area'].describe()"
   ]
  },
  {
   "cell_type": "code",
   "execution_count": 17,
   "id": "7de7b711-b43f-4dd1-a544-ffa9191b0fd9",
   "metadata": {},
   "outputs": [
    {
     "data": {
      "text/plain": [
       "Text(0, 0.5, 'Частотность')"
      ]
     },
     "execution_count": 17,
     "metadata": {},
     "output_type": "execute_result"
    },
    {
     "data": {
      "image/png": "[encoded data removed]",
      "text/plain": [
       "<Figure size 640x480 with 1 Axes>"
      ]
     },
     "metadata": {},
     "output_type": "display_data"
    }
   ],
   "source": [
    "plt.hist(data['full_area'].unique(), bins=10)\n",
    "plt.xlabel('Общая площадь')\n",
    "plt.ylabel('Частотность')"
   ]
  },
  {
   "cell_type": "code",
   "execution_count": null,
   "id": "baa4005e-448e-494a-83b7-224911754c03",
   "metadata": {},
   "outputs": [],
   "source": [
    "*Убрали выбросы. Наиболее частотное "
   ]
  },
  {
   "cell_type": "code",
   "execution_count": 22,
   "id": "c5567e08-0935-4a53-ba29-31550f849fb3",
   "metadata": {},
   "outputs": [
    {
     "data": {
      "text/plain": [
       "Text(0.5, 1.0, 'Гистограмма общей площади без выбросов')"
      ]
     },
     "execution_count": 22,
     "metadata": {},
     "output_type": "execute_result"
    },
    {
     "data": {
      "image/png": "[encoded data removed]",
      "text/plain": [
       "<Figure size 640x480 with 1 Axes>"
      ]
     },
     "metadata": {},
     "output_type": "display_data"
    }
   ],
   "source": [
    "plt.hist(np.clip(data['full_area'], a_min=data['full_area'].min(), a_max=data['full_area'].quantile(0.95)), bins=10)\n",
    "plt.xlabel('Общая площадь')\n",
    "plt.ylabel('Частотность')\n",
    "plt.title('Гистограмма общей площади без выбросов')"
   ]
  },
  {
   "cell_type": "code",
   "execution_count": null,
   "id": "4d01a9a8-0f44-4c12-9f0a-edfff527db9a",
   "metadata": {},
   "outputs": [],
   "source": []
  },
  {
   "cell_type": "code",
   "execution_count": null,
   "id": "ab2010df-45e0-4841-90fa-1f67545bc8ce",
   "metadata": {},
   "outputs": [],
   "source": []
  }
 ],
 "metadata": {
  "kernelspec": {
   "display_name": "Python 3 (ipykernel)",
   "language": "python",
   "name": "python3"
  },
  "language_info": {
   "codemirror_mode": {
    "name": "ipython",
    "version": 3
   },
   "file_extension": ".py",
   "mimetype": "text/x-python",
   "name": "python",
   "nbconvert_exporter": "python",
   "pygments_lexer": "ipython3",
   "version": "3.10.13"
  }
 },
 "nbformat": 4,
 "nbformat_minor": 5
}
