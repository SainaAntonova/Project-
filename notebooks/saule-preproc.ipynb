{
 "cells": [
  {
   "cell_type": "code",
   "execution_count": null,
   "id": "0396e26e-47ae-4162-ae66-34b7ae425dcc",
   "metadata": {},
   "outputs": [],
   "source": [
    "df['Название ЖК'] = df['Название ЖК'].fillna(0) #заменяем на ноль, т.к. в описание не везде написан ЖК"
   ]
  },
  {
   "cell_type": "markdown",
   "id": "138d00e7-b4f4-4d7a-b6ff-37b359ce475a",
   "metadata": {},
   "source": [
    "**Высота потолка**"
   ]
  },
  {
   "cell_type": "code",
   "execution_count": null,
   "id": "0bec3597-aa7c-49ad-a296-1f40f2b1a3b1",
   "metadata": {},
   "outputs": [],
   "source": [
    "# Высота потолка в метры\n",
    "def convert_to_metr(height):\n",
    "    if height > 99:\n",
    "        return height / 100\n",
    "    else:\n",
    "        return height\n",
    "\n",
    "\n",
    "df['Высота потолков, м'] = df['Высота потолков, м'].apply(convert_to_metr)"
   ]
  },
  {
   "cell_type": "code",
   "execution_count": null,
   "id": "085f3b7c-0e3a-43ed-80ca-82222e387df6",
   "metadata": {},
   "outputs": [],
   "source": [
    "#Заменяем пустые значения на среднюю высоту по станции метро\n",
    "average_height_by_metro = df.groupby('Метро')['Высота потолков, м'].mean()\n",
    "def replace_missing_height(row):\n",
    "    metro = row['Метро']\n",
    "    height = row['Высота потолков, м']\n",
    "    if pd.isnull(height):\n",
    "        return average_height_by_metro.get(metro, height) \n",
    "    else:\n",
    "        return height\n",
    "df['Высота потолков, м'] = df.apply(replace_missing_height, axis=1)"
   ]
  },
  {
   "cell_type": "code",
   "execution_count": null,
   "id": "29b3cd7e-3538-4e36-a3de-6543b217c121",
   "metadata": {},
   "outputs": [],
   "source": [
    "#Заменяем выбросы на среднее значение\n",
    "mean_height = df['Высота потолков, м'].mean()\n",
    "def replace_extreme_height(height):\n",
    "    #height = row['Высота потолков, м']\n",
    "    if height > 5 or height < 2:\n",
    "        return mean_height  # Возвращаем среднюю высоту по метро или исходное значение, если нет средней высоты\n",
    "    else:\n",
    "        return height\n",
    "df['Высота потолков, м'] = df['Высота потолков, м'].apply(replace_extreme_height)\n",
    "df['Высота потолков, м'] = df['Высота потолков, м'].fillna(mean_height)\n",
    "df['Высота потолков, м'] = df['Высота потолков, м'].round(1)"
   ]
  },
  {
   "cell_type": "markdown",
   "id": "8c4a750a-4402-4d41-8e96-3de36b57260d",
   "metadata": {},
   "source": [
    "**Лифт**"
   ]
  },
  {
   "cell_type": "code",
   "execution_count": null,
   "id": "ee962495-770a-4ce1-a589-d5165daa90f6",
   "metadata": {},
   "outputs": [],
   "source": [
    "df['Этажность'] = df['Дом'].str.extract(r'/(\\d+)').astype(int)# Если в доме менее 5 этажей, лифт не обязателен\n",
    "df['Лифт'] = np.where((df['Этажность'] <= 5) & (df['Лифт'].isna()), 'Нет', df['Лифт'])\n",
    "# Если в доме от 5 до 9 этажей, то может быть установлен один пассажирский лифт.\n",
    "df['Лифт'] = np.where((df['Этажность'] > 5) & (df['Этажность'] <= 9) & (df['Лифт'].isna()), 'Пасс(1)', df['Лифт']) # Если в доме от 10 до 20 этажей,  то должно быть установлено не менее двух лифтов, в том числе один из них может быть грузовым.\n",
    "df['Лифт'] = np.where((df['Этажность'] >= 10) & (df['Этажность'] <= 20) & (df['Лифт'].isna()), 'Пасс (1), Груз (1)', df['Лифт'])\n",
    "# Если в доме более 20 этажей, дополнительные лифты, включая грузовые, в зависимости от количества этажей и площади здания.\n",
    "df['Лифт'] = np.where((df['Этажность'] > 20) & (df['Лифт'].isna()), 'Пасс (4)', df['Лифт']) # Если в доме более 20 этажей, обязателен пассажирский лифт, а также возможен грузовой"
   ]
  },
  {
   "cell_type": "markdown",
   "id": "02e41bb9-b99e-4e1c-ab9a-e58ab15f1923",
   "metadata": {},
   "source": [
    "**Мусоропровод**"
   ]
  },
  {
   "cell_type": "code",
   "execution_count": null,
   "id": "bacde904-2ea7-4c24-9097-72d348dacae5",
   "metadata": {},
   "outputs": [],
   "source": [
    "df['Мусоропровод'] = np.where((df['Этажность'] <= 12) & (df['Мусоропровод'].isna()), 'Да', df['Мусоропровод']) # Если в доме до 12 этажей, то ДА\n",
    "\n",
    "df['Мусоропровод'] = np.where((df['Этажность'] >= 13) & (df['Мусоропровод'].isna()), 'Нет', df['Мусоропровод'])"
   ]
  }
 ],
 "metadata": {
  "kernelspec": {
   "display_name": "Python 3 (ipykernel)",
   "language": "python",
   "name": "python3"
  },
  "language_info": {
   "codemirror_mode": {
    "name": "ipython",
    "version": 3
   },
   "file_extension": ".py",
   "mimetype": "text/x-python",
   "name": "python",
   "nbconvert_exporter": "python",
   "pygments_lexer": "ipython3",
   "version": "3.10.13"
  }
 },
 "nbformat": 4,
 "nbformat_minor": 5
}
