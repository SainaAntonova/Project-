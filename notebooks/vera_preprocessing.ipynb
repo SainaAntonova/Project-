{
 "cells": [
  {
   "cell_type": "code",
   "execution_count": 534,
   "metadata": {},
   "outputs": [],
   "source": [
    "import pandas as pd\n",
    "import numpy as np\n",
    "import re"
   ]
  },
  {
   "cell_type": "code",
   "execution_count": 535,
   "metadata": {},
   "outputs": [],
   "source": [
    "path = '../data/_data.csv'\n",
    "df = pd.read_csv(path)\n",
    "pd.set_option('display.max_columns', None)"
   ]
  },
  {
   "cell_type": "code",
   "execution_count": 536,
   "metadata": {},
   "outputs": [],
   "source": [
    "df.drop(['Unnamed: 0','Тип', 'Телефоны', \n",
    "        #  'Ссылка на объявление',\n",
    "           'Серия дома' ], axis= 1, inplace=True)\n"
   ]
  },
  {
   "cell_type": "markdown",
   "metadata": {},
   "source": [
    "Площадь комнат"
   ]
  },
  {
   "cell_type": "code",
   "execution_count": 538,
   "metadata": {},
   "outputs": [],
   "source": [
    "#Функция для приведения столбца \"Площадь комнат, м2\" к одному числу - суммарной площади комнат\n",
    "def unify_room_square(row):\n",
    "    if pd.isna(row['Площадь комнат, м2']):\n",
    "        return np.nan\n",
    "\n",
    "    parts = re.findall(r'\\d+', row['Площадь комнат, м2'])\n",
    "\n",
    "    parts = [float(part) for part in parts]\n",
    "    \n",
    "    # Получаем количество чисел в столбце \"Площадь, м2\"\n",
    "    area_split = row['Площадь, м2'].split('/')\n",
    "    second_area = float(area_split[1]) if len(area_split) == 3 else np.nan\n",
    "    \n",
    "    # Проверяем, равняется ли сумма чисел в строке второму числу из \"Площадь, м2\"\n",
    "    if sum(parts) != second_area and not pd.isna(second_area):\n",
    "        return second_area\n",
    "    \n",
    "    return sum(parts)\n",
    "\n",
    "df['Площадь комнат, м2'] = df.apply(unify_room_square, axis=1)"
   ]
  },
  {
   "cell_type": "code",
   "execution_count": 539,
   "metadata": {},
   "outputs": [
    {
     "data": {
      "text/plain": [
       "Площадь комнат, м2\n",
       "False    14458\n",
       "True      8910\n",
       "Name: count, dtype: int64"
      ]
     },
     "execution_count": 539,
     "metadata": {},
     "output_type": "execute_result"
    }
   ],
   "source": [
    "#Количество пропусков по площади комнат\n",
    "df['Площадь комнат, м2'].isna().value_counts()"
   ]
  },
  {
   "cell_type": "code",
   "execution_count": 540,
   "metadata": {},
   "outputs": [],
   "source": [
    "#Функция для заполнения пропусков в столбце \"Площадь комнат, м2\" к одному числу - суммарной площади комнат\n",
    "def notnan_room_square(row):\n",
    "    if pd.isna(row['Площадь комнат, м2']):\n",
    "        area_split = row['Площадь, м2'].split('/')\n",
    "\n",
    "        if len(area_split) == 3:\n",
    "            return float(area_split[1])\n",
    "        \n",
    "        if len(area_split) == 2:\n",
    "            return float(area_split[0]) - float(area_split[1]) - 4  #4 - средняя площадь санузла\n",
    "        \n",
    "        if len(area_split) == 1:\n",
    "            return float(area_split[0]) - 4 - 10   #10 - средняя площадь кухни\n",
    "\n",
    "    else:\n",
    "        return row['Площадь комнат, м2']\n",
    "\n",
    "df['Площадь комнат, м2'] = df.apply(notnan_room_square, axis=1)"
   ]
  },
  {
   "cell_type": "code",
   "execution_count": 541,
   "metadata": {},
   "outputs": [
    {
     "data": {
      "text/plain": [
       "Площадь комнат, м2\n",
       "False    23368\n",
       "Name: count, dtype: int64"
      ]
     },
     "execution_count": 541,
     "metadata": {},
     "output_type": "execute_result"
    }
   ],
   "source": [
    "df['Площадь комнат, м2'].isna().value_counts()\n",
    "#Пропусков нет"
   ]
  },
  {
   "cell_type": "markdown",
   "metadata": {},
   "source": [
    "Балкон"
   ]
  },
  {
   "cell_type": "code",
   "execution_count": 542,
   "metadata": {},
   "outputs": [
    {
     "data": {
      "text/plain": [
       "Балкон\n",
       "False    15390\n",
       "True      7978\n",
       "Name: count, dtype: int64"
      ]
     },
     "execution_count": 542,
     "metadata": {},
     "output_type": "execute_result"
    }
   ],
   "source": [
    "#Количество пропусков в столбце с Балконом\n",
    "df['Балкон'].isna().value_counts()"
   ]
  },
  {
   "cell_type": "code",
   "execution_count": 543,
   "metadata": {},
   "outputs": [
    {
     "data": {
      "text/plain": [
       "Балкон\n",
       "Балкон (1)                7428\n",
       "Лоджия (1)                6007\n",
       "Балкон (1), Лоджия (1)     716\n",
       "Лоджия (2)                 568\n",
       "Балкон (2)                 474\n",
       "Балкон (3)                  55\n",
       "Лоджия (3)                  45\n",
       "Балкон (2), Лоджия (2)      25\n",
       "Балкон (1), Лоджия (2)      24\n",
       "Балкон (2), Лоджия (1)      20\n",
       "Балкон (4)                   6\n",
       "Балкон (3), Лоджия (1)       5\n",
       "Балкон (1), Лоджия (3)       5\n",
       "Лоджия (4)                   5\n",
       "Балкон (2), Лоджия (3)       3\n",
       "Балкон (1), Лоджия (4)       2\n",
       "Балкон (3), Лоджия (3)       1\n",
       "Балкон (4), Лоджия (4)       1\n",
       "Name: count, dtype: int64"
      ]
     },
     "execution_count": 543,
     "metadata": {},
     "output_type": "execute_result"
    }
   ],
   "source": [
    "df['Балкон'].value_counts()"
   ]
  },
  {
   "cell_type": "code",
   "execution_count": 544,
   "metadata": {},
   "outputs": [],
   "source": [
    "#Функция для заполнения пропусков в столбце Балкон на самые часто встречающиеся значение - Балкон(1) и Лоджия(1)\n",
    "def notna_balcony(row):\n",
    "    if pd.isna(row['Балкон']): \n",
    "        floor = int(re.findall(r'\\d+', row['Дом'])[0])  # Получаем первый найденный этаж\n",
    "        type_of_house = row['Дом'].split(',')[-1].strip()  # Убираем лишние пробелы\n",
    "        area = float(row['Площадь, м2'].split('/')[0])\n",
    "        if floor > 3 and area > 100 and type_of_house != 'Монолитный':\n",
    "            return 'Балкон (1)'\n",
    "        else:\n",
    "            return 'Лоджия (1)'\n",
    "    else:\n",
    "        return row['Балкон']\n",
    "    \n",
    "df['Балкон'] = df.apply(notna_balcony, axis=1)"
   ]
  },
  {
   "cell_type": "markdown",
   "metadata": {},
   "source": [
    "Окна"
   ]
  },
  {
   "cell_type": "code",
   "execution_count": 545,
   "metadata": {},
   "outputs": [
    {
     "data": {
      "text/plain": [
       "Окна\n",
       "Во двор            10870\n",
       "На улицу и двор     3295\n",
       "На улицу            2590\n",
       "Name: count, dtype: int64"
      ]
     },
     "execution_count": 545,
     "metadata": {},
     "output_type": "execute_result"
    }
   ],
   "source": [
    "#Сколько раз встречаются уникальные значения в столбце Окна\n",
    "df['Окна'].value_counts()"
   ]
  },
  {
   "cell_type": "code",
   "execution_count": 546,
   "metadata": {},
   "outputs": [
    {
     "data": {
      "text/plain": [
       "Окна\n",
       "False    16755\n",
       "True      6613\n",
       "Name: count, dtype: int64"
      ]
     },
     "execution_count": 546,
     "metadata": {},
     "output_type": "execute_result"
    }
   ],
   "source": [
    "#Количество пропусков в столбце Окна\n",
    "df['Окна'].isna().value_counts()"
   ]
  },
  {
   "cell_type": "code",
   "execution_count": 547,
   "metadata": {},
   "outputs": [],
   "source": [
    "#Согласно анализу объявлений, если в описании присутствует фраза \"вид на\", то, как правило вид из окон на достопримечательность, что сыграет роль в стоимости аренды\n",
    "#Функция для заполнения значений по описанию:\n",
    "def from_description(row):\n",
    "    if pd.isna(row['Окна']) and 'вид на' in row['Описание'].lower():\n",
    "        return 'На достопримечательность'\n",
    "    \n",
    "    elif pd.isna(row['Окна']) and 'вид во' in row['Описание'].lower():\n",
    "        return 'Во двор'\n",
    "    else:\n",
    "        return row['Окна']\n",
    "\n",
    "df['Окна'] = df.apply(from_description, axis=1)"
   ]
  },
  {
   "cell_type": "code",
   "execution_count": 549,
   "metadata": {},
   "outputs": [
    {
     "data": {
      "text/plain": [
       "Окна\n",
       "Во двор                     10878\n",
       "На улицу и двор              3295\n",
       "На улицу                     2590\n",
       "На достопримечательность      210\n",
       "Name: count, dtype: int64"
      ]
     },
     "execution_count": 549,
     "metadata": {},
     "output_type": "execute_result"
    }
   ],
   "source": [
    "df['Окна'].value_counts()"
   ]
  },
  {
   "cell_type": "code",
   "execution_count": 550,
   "metadata": {},
   "outputs": [],
   "source": [
    "#Функция для заполнения пропусков в столбце Окна в зависимости от этажа\n",
    "def from_floor(row):\n",
    "    if pd.isna(row['Окна']): \n",
    "        floor = int(re.findall(r'\\d+', row['Дом'])[0])\n",
    "        if floor < 6:\n",
    "            return 'Во двор'\n",
    "    else:\n",
    "        return row['Окна']    \n",
    " \n",
    "df['Окна'] = df.apply(from_floor, axis=1) "
   ]
  },
  {
   "cell_type": "code",
   "execution_count": 551,
   "metadata": {},
   "outputs": [
    {
     "name": "stderr",
     "output_type": "stream",
     "text": [
      "/tmp/ipykernel_45997/3820324534.py:7: FutureWarning: A value is trying to be set on a copy of a DataFrame or Series through chained assignment using an inplace method.\n",
      "The behavior will change in pandas 3.0. This inplace method will never work because the intermediate object on which we are setting values always behaves as a copy.\n",
      "\n",
      "For example, when doing 'df[col].method(value, inplace=True)', try using 'df.method({col: value}, inplace=True)' or df[col] = df[col].method(value) instead, to perform the operation inplace on the original object.\n",
      "\n",
      "\n",
      "  df['Окна'].fillna(pd.Series(np.random.choice(window_counts.index, p=window_counts, size=len(df))), inplace=True)\n"
     ]
    }
   ],
   "source": [
    "#Окончательно заполняем пропуски:\n",
    "\n",
    "# Вычисляем частоту встречания каждого значения в столбце \"Окна\"\n",
    "window_counts = df['Окна'].value_counts(normalize=True)\n",
    "\n",
    "# Заполняем пропуски в столбце \"Окна\" значениями на основе их частоты встречания\n",
    "df['Окна'].fillna(pd.Series(np.random.choice(window_counts.index, p=window_counts, size=len(df))), inplace=True)"
   ]
  },
  {
   "cell_type": "code",
   "execution_count": 552,
   "metadata": {},
   "outputs": [
    {
     "data": {
      "text/plain": [
       "Окна\n",
       "Во двор                     16308\n",
       "На улицу и двор              3801\n",
       "На улицу                     3011\n",
       "На достопримечательность      248\n",
       "Name: count, dtype: int64"
      ]
     },
     "execution_count": 552,
     "metadata": {},
     "output_type": "execute_result"
    }
   ],
   "source": [
    "df['Окна'].value_counts()"
   ]
  },
  {
   "cell_type": "markdown",
   "metadata": {},
   "source": [
    "Санузел"
   ]
  },
  {
   "cell_type": "code",
   "execution_count": 553,
   "metadata": {},
   "outputs": [
    {
     "data": {
      "text/plain": [
       "Санузел\n",
       "Совмещенный (1)                    10078\n",
       "Раздельный (1)                      7158\n",
       "Совмещенный (2)                     1437\n",
       "Совмещенный (1), Раздельный (1)      812\n",
       "Раздельный (2)                       534\n",
       "Совмещенный (3)                      241\n",
       "Совмещенный (2), Раздельный (1)      188\n",
       "Совмещенный (4)                       77\n",
       "Раздельный (3)                        52\n",
       "Совмещенный (1), Раздельный (2)       30\n",
       "Совмещенный (3), Раздельный (1)       27\n",
       "Совмещенный (2), Раздельный (2)       25\n",
       "Раздельный (4)                        15\n",
       "Совмещенный (3), Раздельный (3)        6\n",
       "Совмещенный (4), Раздельный (1)        6\n",
       "Совмещенный (4), Раздельный (2)        4\n",
       "Совмещенный (1), Раздельный (3)        2\n",
       "Совмещенный (2), Раздельный (3)        2\n",
       "Совмещенный (2), Раздельный (4)        1\n",
       "Совмещенный (3), Раздельный (2)        1\n",
       "Name: count, dtype: int64"
      ]
     },
     "execution_count": 553,
     "metadata": {},
     "output_type": "execute_result"
    }
   ],
   "source": [
    "df['Санузел'].value_counts()"
   ]
  },
  {
   "cell_type": "code",
   "execution_count": 554,
   "metadata": {},
   "outputs": [
    {
     "name": "stderr",
     "output_type": "stream",
     "text": [
      "/tmp/ipykernel_45997/1272927668.py:3: FutureWarning: A value is trying to be set on a copy of a DataFrame or Series through chained assignment using an inplace method.\n",
      "The behavior will change in pandas 3.0. This inplace method will never work because the intermediate object on which we are setting values always behaves as a copy.\n",
      "\n",
      "For example, when doing 'df[col].method(value, inplace=True)', try using 'df.method({col: value}, inplace=True)' or df[col] = df[col].method(value) instead, to perform the operation inplace on the original object.\n",
      "\n",
      "\n",
      "  df['Санузел'].fillna(mode_per_room, inplace=True)\n"
     ]
    }
   ],
   "source": [
    "#Заполним пропуски модой при группировке по количеству комнат:\n",
    "mode_per_room = df.groupby('Количество комнат')['Санузел'].transform(lambda x: x.mode().iloc[0])\n",
    "df['Санузел'].fillna(mode_per_room, inplace=True)"
   ]
  },
  {
   "cell_type": "code",
   "execution_count": 555,
   "metadata": {},
   "outputs": [
    {
     "data": {
      "text/plain": [
       "Index(['ID  объявления', 'Количество комнат', 'Метро', 'Адрес', 'Площадь, м2',\n",
       "       'Дом', 'Парковка', 'Цена', 'Описание', 'Ремонт', 'Площадь комнат, м2',\n",
       "       'Балкон', 'Окна', 'Санузел', 'Можно с детьми/животными',\n",
       "       'Дополнительно', 'Название ЖК', 'Высота потолков, м', 'Лифт',\n",
       "       'Мусоропровод', 'Ссылка на объявление'],\n",
       "      dtype='object')"
      ]
     },
     "execution_count": 555,
     "metadata": {},
     "output_type": "execute_result"
    }
   ],
   "source": [
    "df.columns"
   ]
  },
  {
   "cell_type": "markdown",
   "metadata": {},
   "source": [
    "Можно с детьми/животными"
   ]
  },
  {
   "cell_type": "code",
   "execution_count": 556,
   "metadata": {},
   "outputs": [
    {
     "data": {
      "text/plain": [
       "Можно с детьми/животными\n",
       "False    17272\n",
       "True      6096\n",
       "Name: count, dtype: int64"
      ]
     },
     "execution_count": 556,
     "metadata": {},
     "output_type": "execute_result"
    }
   ],
   "source": [
    "df['Можно с детьми/животными'].isna().value_counts()"
   ]
  },
  {
   "cell_type": "code",
   "execution_count": 557,
   "metadata": {},
   "outputs": [
    {
     "data": {
      "text/plain": [
       "Можно с детьми/животными\n",
       "Можно с детьми                       10134\n",
       "Можно с детьми, Можно с животными     6899\n",
       "Можно с животными                      239\n",
       "Name: count, dtype: int64"
      ]
     },
     "execution_count": 557,
     "metadata": {},
     "output_type": "execute_result"
    }
   ],
   "source": [
    "df['Можно с детьми/животными'].value_counts()"
   ]
  },
  {
   "cell_type": "code",
   "execution_count": 558,
   "metadata": {},
   "outputs": [],
   "source": [
    "# Применяем функцию для заполнения пропусков в столбце \"Можно с детьми/животными\" на основе описания\n",
    "def fill_children_animals_description(row):\n",
    "    if pd.isna(row['Можно с детьми/животными']):\n",
    "        description = row['Описание'].lower()\n",
    "        if any(word in description for word in ['детск', 'ребен', 'школ', 'семь']):\n",
    "            if 'нельзя с' not in description:\n",
    "                return 'Можно с детьми'\n",
    "            else:\n",
    "                return 'Нельзя никого'\n",
    "        elif any(word in description for word in ['питом', 'животн', 'собак', 'кошк', 'пес', 'кот']):\n",
    "            return 'Можно с животными'\n",
    "        elif 'нельзя с' in description:\n",
    "            return 'Нельзя никого'\n",
    "        else:\n",
    "            return np.nan\n",
    "    else:\n",
    "        return row['Можно с детьми/животными']\n",
    "\n",
    "df['Можно с детьми/животными'] = df.apply(fill_children_animals_description, axis=1)"
   ]
  },
  {
   "cell_type": "code",
   "execution_count": 559,
   "metadata": {},
   "outputs": [],
   "source": [
    "# Применяем функцию для заполнения пропусков в столбце \"Можно с детьми/животными\" на основе площади квартиры\n",
    "def fill_children_animals_area(row):\n",
    "    if pd.isna(row['Можно с детьми/животными']):\n",
    "        if float(row['Площадь, м2'].split('/')[0]) < 50:\n",
    "            return 'Нельзя никого'\n",
    "        else:\n",
    "            return 'Можно с детьми'   #Оставшиеся значения заполняются самым часто встречающимся\n",
    "    else:\n",
    "        return row['Можно с детьми/животными']   \n",
    "            \n",
    "\n",
    "df['Можно с детьми/животными'] = df.apply(fill_children_animals_area, axis=1)"
   ]
  },
  {
   "cell_type": "markdown",
   "metadata": {},
   "source": [
    "Дополнительно"
   ]
  },
  {
   "cell_type": "code",
   "execution_count": 560,
   "metadata": {},
   "outputs": [
    {
     "data": {
      "text/plain": [
       "Дополнительно\n",
       "Мебель в комнатах, Мебель на кухне, Ванна, Стиральная машина, Телевизор, Холодильник, Интернет                                       2896\n",
       "Мебель в комнатах, Мебель на кухне, Ванна, Стиральная машина, Холодильник, Интернет                                                  1318\n",
       "Мебель в комнатах, Мебель на кухне, Ванна, Стиральная машина, Кондиционер, Посудомоечная машина, Телевизор, Холодильник, Интернет    1042\n",
       "Мебель в комнатах, Мебель на кухне, Ванна, Стиральная машина, Кондиционер, Телевизор, Холодильник, Интернет                           967\n",
       "Мебель в комнатах, Мебель на кухне, Ванна, Стиральная машина, Телевизор, Холодильник, Интернет, Телефон                               887\n",
       "                                                                                                                                     ... \n",
       "Мебель в комнатах, Душевая кабина, Стиральная машина, Холодильник, Интернет                                                             1\n",
       "Мебель на кухне, Ванна, Душевая кабина, Кондиционер, Посудомоечная машина, Интернет                                                     1\n",
       "Мебель в комнатах, Ванна, Душевая кабина, Кондиционер, Посудомоечная машина, Интернет                                                   1\n",
       "Мебель в комнатах, Мебель на кухне, Ванна, Душевая кабина, Посудомоечная машина, Телевизор, Холодильник, Интернет, Телефон              1\n",
       "Мебель на кухне, Телевизор, Холодильник, Интернет                                                                                       1\n",
       "Name: count, Length: 528, dtype: int64"
      ]
     },
     "execution_count": 560,
     "metadata": {},
     "output_type": "execute_result"
    }
   ],
   "source": [
    "df['Дополнительно'].value_counts()"
   ]
  },
  {
   "cell_type": "code",
   "execution_count": 561,
   "metadata": {},
   "outputs": [
    {
     "data": {
      "text/plain": [
       "Дополнительно\n",
       "False    23011\n",
       "True       357\n",
       "Name: count, dtype: int64"
      ]
     },
     "execution_count": 561,
     "metadata": {},
     "output_type": "execute_result"
    }
   ],
   "source": [
    "df['Дополнительно'].isna().value_counts()"
   ]
  },
  {
   "cell_type": "code",
   "execution_count": 562,
   "metadata": {},
   "outputs": [
    {
     "data": {
      "text/html": [
       "<div>\n",
       "<style scoped>\n",
       "    .dataframe tbody tr th:only-of-type {\n",
       "        vertical-align: middle;\n",
       "    }\n",
       "\n",
       "    .dataframe tbody tr th {\n",
       "        vertical-align: top;\n",
       "    }\n",
       "\n",
       "    .dataframe thead th {\n",
       "        text-align: right;\n",
       "    }\n",
       "</style>\n",
       "<table border=\"1\" class=\"dataframe\">\n",
       "  <thead>\n",
       "    <tr style=\"text-align: right;\">\n",
       "      <th></th>\n",
       "      <th>ID  объявления</th>\n",
       "      <th>Количество комнат</th>\n",
       "      <th>Метро</th>\n",
       "      <th>Адрес</th>\n",
       "      <th>Площадь, м2</th>\n",
       "      <th>Дом</th>\n",
       "      <th>Парковка</th>\n",
       "      <th>Цена</th>\n",
       "      <th>Описание</th>\n",
       "      <th>Ремонт</th>\n",
       "      <th>Площадь комнат, м2</th>\n",
       "      <th>Балкон</th>\n",
       "      <th>Окна</th>\n",
       "      <th>Санузел</th>\n",
       "      <th>Можно с детьми/животными</th>\n",
       "      <th>Дополнительно</th>\n",
       "      <th>Название ЖК</th>\n",
       "      <th>Высота потолков, м</th>\n",
       "      <th>Лифт</th>\n",
       "      <th>Мусоропровод</th>\n",
       "      <th>Ссылка на объявление</th>\n",
       "    </tr>\n",
       "  </thead>\n",
       "  <tbody>\n",
       "    <tr>\n",
       "      <th>8</th>\n",
       "      <td>273973191</td>\n",
       "      <td>3</td>\n",
       "      <td>м. Смоленская (9 мин пешком)</td>\n",
       "      <td>Москва, Новинский бульвар, 18С1</td>\n",
       "      <td>120.0/95.0/10.0</td>\n",
       "      <td>5/10, Сталинский</td>\n",
       "      <td>открытая</td>\n",
       "      <td>130000.0 руб./ За месяц, Залог - 130000 руб., ...</td>\n",
       "      <td>Лот 71833. Евгений Николаев.\\n\\nБонус агенту 1...</td>\n",
       "      <td>Евроремонт</td>\n",
       "      <td>95.0</td>\n",
       "      <td>Балкон (1)</td>\n",
       "      <td>На улицу</td>\n",
       "      <td>Совмещенный (1)</td>\n",
       "      <td>Можно с животными</td>\n",
       "      <td>Мебель на кухне, Ванна, Стиральная машина, Кон...</td>\n",
       "      <td>NaN</td>\n",
       "      <td>3.0</td>\n",
       "      <td>Пасс (1)</td>\n",
       "      <td>Нет</td>\n",
       "      <td>https://www.cian.ru/rent/flat/273973191</td>\n",
       "    </tr>\n",
       "    <tr>\n",
       "      <th>19</th>\n",
       "      <td>274748017</td>\n",
       "      <td>5, Оба варианта</td>\n",
       "      <td>м. Кропоткинская (6 мин пешком)</td>\n",
       "      <td>Москва, Филипповский переулок, 9</td>\n",
       "      <td>201.0/162.0/16.0</td>\n",
       "      <td>3/3</td>\n",
       "      <td>NaN</td>\n",
       "      <td>190000.0 руб./ За месяц, Залог - 190000 руб., ...</td>\n",
       "      <td>ID 10903:  Просторная 5-комнатная квартира в д...</td>\n",
       "      <td>Евроремонт</td>\n",
       "      <td>162.0</td>\n",
       "      <td>Лоджия (1)</td>\n",
       "      <td>На улицу и двор</td>\n",
       "      <td>Совмещенный (3)</td>\n",
       "      <td>Можно с детьми, Можно с животными</td>\n",
       "      <td>Мебель на кухне, Ванна, Душевая кабина, Стирал...</td>\n",
       "      <td>NaN</td>\n",
       "      <td>3.2</td>\n",
       "      <td>Пасс (1)</td>\n",
       "      <td>NaN</td>\n",
       "      <td>https://www.cian.ru/rent/flat/274748017</td>\n",
       "    </tr>\n",
       "    <tr>\n",
       "      <th>56</th>\n",
       "      <td>274617827</td>\n",
       "      <td>5</td>\n",
       "      <td>м. Кропоткинская (8 мин пешком)</td>\n",
       "      <td>Москва, Филипповский переулок, 9</td>\n",
       "      <td>200.0/150.0/30.0</td>\n",
       "      <td>3/3, Кирпичный</td>\n",
       "      <td>NaN</td>\n",
       "      <td>190000.0 руб./ За месяц, Залог - 190000 руб., ...</td>\n",
       "      <td>Предлагается 5-ти комнатная квартира в отреста...</td>\n",
       "      <td>Евроремонт</td>\n",
       "      <td>150.0</td>\n",
       "      <td>Лоджия (1)</td>\n",
       "      <td>Во двор</td>\n",
       "      <td>Совмещенный (2)</td>\n",
       "      <td>Можно с детьми, Можно с животными</td>\n",
       "      <td>Мебель на кухне, Стиральная машина, Телевизор,...</td>\n",
       "      <td>NaN</td>\n",
       "      <td>NaN</td>\n",
       "      <td>NaN</td>\n",
       "      <td>NaN</td>\n",
       "      <td>https://www.cian.ru/rent/flat/274617827</td>\n",
       "    </tr>\n",
       "    <tr>\n",
       "      <th>69</th>\n",
       "      <td>271264562</td>\n",
       "      <td>5</td>\n",
       "      <td>м. Кропоткинская (5 мин пешком)</td>\n",
       "      <td>Москва, Гоголевский бульвар, 23</td>\n",
       "      <td>170.0/104.0/21.0</td>\n",
       "      <td>5/5, старый фонд</td>\n",
       "      <td>наземная</td>\n",
       "      <td>175000.0 руб./ За месяц, Залог - 175000 руб., ...</td>\n",
       "      <td>Лот 67428. Анастасия Баталова.\\n\\nБонус агенту...</td>\n",
       "      <td>Евроремонт</td>\n",
       "      <td>104.0</td>\n",
       "      <td>Балкон (1)</td>\n",
       "      <td>На улицу и двор</td>\n",
       "      <td>Совмещенный (2)</td>\n",
       "      <td>Можно с детьми, Можно с животными</td>\n",
       "      <td>Мебель на кухне, Душевая кабина, Стиральная ма...</td>\n",
       "      <td>NaN</td>\n",
       "      <td>3.2</td>\n",
       "      <td>Пасс (1)</td>\n",
       "      <td>Да</td>\n",
       "      <td>https://www.cian.ru/rent/flat/271264562</td>\n",
       "    </tr>\n",
       "    <tr>\n",
       "      <th>74</th>\n",
       "      <td>271766412</td>\n",
       "      <td>6</td>\n",
       "      <td>м. Александровский сад (4 мин пешком)</td>\n",
       "      <td>Москва, переулок Романов, 5</td>\n",
       "      <td>228.0/159.0/30.0</td>\n",
       "      <td>3/6</td>\n",
       "      <td>NaN</td>\n",
       "      <td>400000.0 руб./ За месяц, Залог - 400000 руб., ...</td>\n",
       "      <td>Лот 30273. Коллегам бонус 50 000 рублей. Татья...</td>\n",
       "      <td>Евроремонт</td>\n",
       "      <td>159.0</td>\n",
       "      <td>Балкон (1)</td>\n",
       "      <td>Во двор</td>\n",
       "      <td>Совмещенный (2)</td>\n",
       "      <td>Можно с детьми</td>\n",
       "      <td>Мебель на кухне, Душевая кабина, Стиральная ма...</td>\n",
       "      <td>NaN</td>\n",
       "      <td>NaN</td>\n",
       "      <td>Пасс (1)</td>\n",
       "      <td>NaN</td>\n",
       "      <td>https://www.cian.ru/rent/flat/271766412</td>\n",
       "    </tr>\n",
       "    <tr>\n",
       "      <th>...</th>\n",
       "      <td>...</td>\n",
       "      <td>...</td>\n",
       "      <td>...</td>\n",
       "      <td>...</td>\n",
       "      <td>...</td>\n",
       "      <td>...</td>\n",
       "      <td>...</td>\n",
       "      <td>...</td>\n",
       "      <td>...</td>\n",
       "      <td>...</td>\n",
       "      <td>...</td>\n",
       "      <td>...</td>\n",
       "      <td>...</td>\n",
       "      <td>...</td>\n",
       "      <td>...</td>\n",
       "      <td>...</td>\n",
       "      <td>...</td>\n",
       "      <td>...</td>\n",
       "      <td>...</td>\n",
       "      <td>...</td>\n",
       "      <td>...</td>\n",
       "    </tr>\n",
       "    <tr>\n",
       "      <th>22989</th>\n",
       "      <td>274204547</td>\n",
       "      <td>4</td>\n",
       "      <td>м. Сокол (5 мин на машине)</td>\n",
       "      <td>Москва, Иваньковское шоссе, 5</td>\n",
       "      <td>150.0/83.0/15.0</td>\n",
       "      <td>16/23, Монолитно-кирпичный</td>\n",
       "      <td>подземная</td>\n",
       "      <td>250000.0 руб./ За месяц, Залог - 250000 руб., ...</td>\n",
       "      <td>Лот 81033. Ирина Волкова.\\n\\nБонус агенту 2500...</td>\n",
       "      <td>Евроремонт</td>\n",
       "      <td>83.0</td>\n",
       "      <td>Балкон (1)</td>\n",
       "      <td>На улицу и двор</td>\n",
       "      <td>Совмещенный (2)</td>\n",
       "      <td>Можно с детьми, Можно с животными</td>\n",
       "      <td>Мебель на кухне, Ванна, Душевая кабина, Стирал...</td>\n",
       "      <td>NaN</td>\n",
       "      <td>3.0</td>\n",
       "      <td>Пасс (1), Груз (1)</td>\n",
       "      <td>Да</td>\n",
       "      <td>https://www.cian.ru/rent/flat/274204547</td>\n",
       "    </tr>\n",
       "    <tr>\n",
       "      <th>23031</th>\n",
       "      <td>274776175</td>\n",
       "      <td>4</td>\n",
       "      <td>м. Щукинская (19 мин пешком)</td>\n",
       "      <td>Москва, Иваньковское шоссе, 5</td>\n",
       "      <td>150.0/100.0/20.0</td>\n",
       "      <td>16/24</td>\n",
       "      <td>NaN</td>\n",
       "      <td>250000.0 руб./ За месяц, Залог - 250000 руб., ...</td>\n",
       "      <td>Лот 69725. Просторная светлая квартира без меб...</td>\n",
       "      <td>Евроремонт</td>\n",
       "      <td>100.0</td>\n",
       "      <td>Балкон (1)</td>\n",
       "      <td>На улицу</td>\n",
       "      <td>Совмещенный (2)</td>\n",
       "      <td>Можно с детьми</td>\n",
       "      <td>Мебель в комнатах, Мебель на кухне, Стиральная...</td>\n",
       "      <td>NaN</td>\n",
       "      <td>NaN</td>\n",
       "      <td>NaN</td>\n",
       "      <td>NaN</td>\n",
       "      <td>https://www.cian.ru/rent/flat/274776175</td>\n",
       "    </tr>\n",
       "    <tr>\n",
       "      <th>23132</th>\n",
       "      <td>269188642</td>\n",
       "      <td>4</td>\n",
       "      <td>м. Стрешнево (10 мин на машине)</td>\n",
       "      <td>Москва, Никольский тупик, 2к1</td>\n",
       "      <td>220.0/130.0/20.0</td>\n",
       "      <td>4/6, Монолитно-кирпичный</td>\n",
       "      <td>подземная</td>\n",
       "      <td>500000.0 руб./ За месяц, Залог - 500000 руб., ...</td>\n",
       "      <td>ЭЛИТНЫЙ ЖК ЧАЙКА с круглосуточной охраной, вид...</td>\n",
       "      <td>Дизайнерский</td>\n",
       "      <td>130.0</td>\n",
       "      <td>Балкон (1)</td>\n",
       "      <td>Во двор</td>\n",
       "      <td>Совмещенный (3)</td>\n",
       "      <td>Можно с детьми, Можно с животными</td>\n",
       "      <td>Мебель на кухне, Ванна, Душевая кабина, Стирал...</td>\n",
       "      <td>NaN</td>\n",
       "      <td>NaN</td>\n",
       "      <td>Пасс (2), Груз (2)</td>\n",
       "      <td>NaN</td>\n",
       "      <td>https://www.cian.ru/rent/flat/269188642</td>\n",
       "    </tr>\n",
       "    <tr>\n",
       "      <th>23133</th>\n",
       "      <td>271992616</td>\n",
       "      <td>4, Оба варианта</td>\n",
       "      <td>м. Сокол (10 мин на машине)</td>\n",
       "      <td>Москва, Береговая улица, 8К1</td>\n",
       "      <td>203.0/92.0/25.0</td>\n",
       "      <td>1/5</td>\n",
       "      <td>наземная</td>\n",
       "      <td>600000.0 руб./ За месяц, Залог - 600000 руб., ...</td>\n",
       "      <td>ID 35735:  Предлагается превосходная, просторн...</td>\n",
       "      <td>Евроремонт</td>\n",
       "      <td>92.0</td>\n",
       "      <td>Лоджия (1)</td>\n",
       "      <td>На улицу</td>\n",
       "      <td>Совмещенный (2)</td>\n",
       "      <td>Можно с детьми, Можно с животными</td>\n",
       "      <td>Мебель на кухне, Ванна, Душевая кабина, Стирал...</td>\n",
       "      <td>NaN</td>\n",
       "      <td>3.2</td>\n",
       "      <td>Пасс (1)</td>\n",
       "      <td>NaN</td>\n",
       "      <td>https://www.cian.ru/rent/flat/271992616</td>\n",
       "    </tr>\n",
       "    <tr>\n",
       "      <th>23345</th>\n",
       "      <td>264551789</td>\n",
       "      <td>1</td>\n",
       "      <td>м. Говорово (7 мин пешком)</td>\n",
       "      <td>Москва, Боровское шоссе, 2к2, ш. Боровское (4 ...</td>\n",
       "      <td>38.0/18.0/10.0</td>\n",
       "      <td>12/14, Панельный</td>\n",
       "      <td>NaN</td>\n",
       "      <td>47000.0 руб./ За месяц, Залог - 47000 руб., Ко...</td>\n",
       "      <td>1 комнатная квартира в ЖК Мещерский лес (застр...</td>\n",
       "      <td>Косметический</td>\n",
       "      <td>18.0</td>\n",
       "      <td>Балкон (1)</td>\n",
       "      <td>Во двор</td>\n",
       "      <td>Совмещенный (1)</td>\n",
       "      <td>Можно с детьми</td>\n",
       "      <td>Мебель на кухне, Ванна, Стиральная машина, Хол...</td>\n",
       "      <td>Мещерский лес, 2019</td>\n",
       "      <td>2.6</td>\n",
       "      <td>Пасс (1), Груз (1)</td>\n",
       "      <td>Нет</td>\n",
       "      <td>https://www.cian.ru/rent/flat/264551789</td>\n",
       "    </tr>\n",
       "  </tbody>\n",
       "</table>\n",
       "<p>328 rows × 21 columns</p>\n",
       "</div>"
      ],
      "text/plain": [
       "       ID  объявления Количество комнат  \\\n",
       "8           273973191                 3   \n",
       "19          274748017   5, Оба варианта   \n",
       "56          274617827                 5   \n",
       "69          271264562                 5   \n",
       "74          271766412                 6   \n",
       "...               ...               ...   \n",
       "22989       274204547                 4   \n",
       "23031       274776175                 4   \n",
       "23132       269188642                 4   \n",
       "23133       271992616   4, Оба варианта   \n",
       "23345       264551789                 1   \n",
       "\n",
       "                                       Метро  \\\n",
       "8               м. Смоленская (9 мин пешком)   \n",
       "19           м. Кропоткинская (6 мин пешком)   \n",
       "56           м. Кропоткинская (8 мин пешком)   \n",
       "69           м. Кропоткинская (5 мин пешком)   \n",
       "74     м. Александровский сад (4 мин пешком)   \n",
       "...                                      ...   \n",
       "22989             м. Сокол (5 мин на машине)   \n",
       "23031           м. Щукинская (19 мин пешком)   \n",
       "23132        м. Стрешнево (10 мин на машине)   \n",
       "23133            м. Сокол (10 мин на машине)   \n",
       "23345             м. Говорово (7 мин пешком)   \n",
       "\n",
       "                                                   Адрес       Площадь, м2  \\\n",
       "8                        Москва, Новинский бульвар, 18С1   120.0/95.0/10.0   \n",
       "19                      Москва, Филипповский переулок, 9  201.0/162.0/16.0   \n",
       "56                      Москва, Филипповский переулок, 9  200.0/150.0/30.0   \n",
       "69                       Москва, Гоголевский бульвар, 23  170.0/104.0/21.0   \n",
       "74                           Москва, переулок Романов, 5  228.0/159.0/30.0   \n",
       "...                                                  ...               ...   \n",
       "22989                      Москва, Иваньковское шоссе, 5   150.0/83.0/15.0   \n",
       "23031                      Москва, Иваньковское шоссе, 5  150.0/100.0/20.0   \n",
       "23132                      Москва, Никольский тупик, 2к1  220.0/130.0/20.0   \n",
       "23133                       Москва, Береговая улица, 8К1   203.0/92.0/25.0   \n",
       "23345  Москва, Боровское шоссе, 2к2, ш. Боровское (4 ...    38.0/18.0/10.0   \n",
       "\n",
       "                              Дом   Парковка  \\\n",
       "8                5/10, Сталинский   открытая   \n",
       "19                            3/3        NaN   \n",
       "56                 3/3, Кирпичный        NaN   \n",
       "69               5/5, старый фонд   наземная   \n",
       "74                            3/6        NaN   \n",
       "...                           ...        ...   \n",
       "22989  16/23, Монолитно-кирпичный  подземная   \n",
       "23031                       16/24        NaN   \n",
       "23132    4/6, Монолитно-кирпичный  подземная   \n",
       "23133                         1/5   наземная   \n",
       "23345            12/14, Панельный        NaN   \n",
       "\n",
       "                                                    Цена  \\\n",
       "8      130000.0 руб./ За месяц, Залог - 130000 руб., ...   \n",
       "19     190000.0 руб./ За месяц, Залог - 190000 руб., ...   \n",
       "56     190000.0 руб./ За месяц, Залог - 190000 руб., ...   \n",
       "69     175000.0 руб./ За месяц, Залог - 175000 руб., ...   \n",
       "74     400000.0 руб./ За месяц, Залог - 400000 руб., ...   \n",
       "...                                                  ...   \n",
       "22989  250000.0 руб./ За месяц, Залог - 250000 руб., ...   \n",
       "23031  250000.0 руб./ За месяц, Залог - 250000 руб., ...   \n",
       "23132  500000.0 руб./ За месяц, Залог - 500000 руб., ...   \n",
       "23133  600000.0 руб./ За месяц, Залог - 600000 руб., ...   \n",
       "23345  47000.0 руб./ За месяц, Залог - 47000 руб., Ко...   \n",
       "\n",
       "                                                Описание         Ремонт  \\\n",
       "8      Лот 71833. Евгений Николаев.\\n\\nБонус агенту 1...     Евроремонт   \n",
       "19     ID 10903:  Просторная 5-комнатная квартира в д...     Евроремонт   \n",
       "56     Предлагается 5-ти комнатная квартира в отреста...     Евроремонт   \n",
       "69     Лот 67428. Анастасия Баталова.\\n\\nБонус агенту...     Евроремонт   \n",
       "74     Лот 30273. Коллегам бонус 50 000 рублей. Татья...     Евроремонт   \n",
       "...                                                  ...            ...   \n",
       "22989  Лот 81033. Ирина Волкова.\\n\\nБонус агенту 2500...     Евроремонт   \n",
       "23031  Лот 69725. Просторная светлая квартира без меб...     Евроремонт   \n",
       "23132  ЭЛИТНЫЙ ЖК ЧАЙКА с круглосуточной охраной, вид...   Дизайнерский   \n",
       "23133  ID 35735:  Предлагается превосходная, просторн...     Евроремонт   \n",
       "23345  1 комнатная квартира в ЖК Мещерский лес (застр...  Косметический   \n",
       "\n",
       "       Площадь комнат, м2      Балкон             Окна          Санузел  \\\n",
       "8                    95.0  Балкон (1)         На улицу  Совмещенный (1)   \n",
       "19                  162.0  Лоджия (1)  На улицу и двор  Совмещенный (3)   \n",
       "56                  150.0  Лоджия (1)          Во двор  Совмещенный (2)   \n",
       "69                  104.0  Балкон (1)  На улицу и двор  Совмещенный (2)   \n",
       "74                  159.0  Балкон (1)          Во двор  Совмещенный (2)   \n",
       "...                   ...         ...              ...              ...   \n",
       "22989                83.0  Балкон (1)  На улицу и двор  Совмещенный (2)   \n",
       "23031               100.0  Балкон (1)         На улицу  Совмещенный (2)   \n",
       "23132               130.0  Балкон (1)          Во двор  Совмещенный (3)   \n",
       "23133                92.0  Лоджия (1)         На улицу  Совмещенный (2)   \n",
       "23345                18.0  Балкон (1)          Во двор  Совмещенный (1)   \n",
       "\n",
       "                Можно с детьми/животными  \\\n",
       "8                      Можно с животными   \n",
       "19     Можно с детьми, Можно с животными   \n",
       "56     Можно с детьми, Можно с животными   \n",
       "69     Можно с детьми, Можно с животными   \n",
       "74                        Можно с детьми   \n",
       "...                                  ...   \n",
       "22989  Можно с детьми, Можно с животными   \n",
       "23031                     Можно с детьми   \n",
       "23132  Можно с детьми, Можно с животными   \n",
       "23133  Можно с детьми, Можно с животными   \n",
       "23345                     Можно с детьми   \n",
       "\n",
       "                                           Дополнительно          Название ЖК  \\\n",
       "8      Мебель на кухне, Ванна, Стиральная машина, Кон...                  NaN   \n",
       "19     Мебель на кухне, Ванна, Душевая кабина, Стирал...                  NaN   \n",
       "56     Мебель на кухне, Стиральная машина, Телевизор,...                  NaN   \n",
       "69     Мебель на кухне, Душевая кабина, Стиральная ма...                  NaN   \n",
       "74     Мебель на кухне, Душевая кабина, Стиральная ма...                  NaN   \n",
       "...                                                  ...                  ...   \n",
       "22989  Мебель на кухне, Ванна, Душевая кабина, Стирал...                  NaN   \n",
       "23031  Мебель в комнатах, Мебель на кухне, Стиральная...                  NaN   \n",
       "23132  Мебель на кухне, Ванна, Душевая кабина, Стирал...                  NaN   \n",
       "23133  Мебель на кухне, Ванна, Душевая кабина, Стирал...                  NaN   \n",
       "23345  Мебель на кухне, Ванна, Стиральная машина, Хол...  Мещерский лес, 2019   \n",
       "\n",
       "       Высота потолков, м                Лифт Мусоропровод  \\\n",
       "8                     3.0            Пасс (1)          Нет   \n",
       "19                    3.2            Пасс (1)          NaN   \n",
       "56                    NaN                 NaN          NaN   \n",
       "69                    3.2            Пасс (1)           Да   \n",
       "74                    NaN            Пасс (1)          NaN   \n",
       "...                   ...                 ...          ...   \n",
       "22989                 3.0  Пасс (1), Груз (1)           Да   \n",
       "23031                 NaN                 NaN          NaN   \n",
       "23132                 NaN  Пасс (2), Груз (2)          NaN   \n",
       "23133                 3.2            Пасс (1)          NaN   \n",
       "23345                 2.6  Пасс (1), Груз (1)          Нет   \n",
       "\n",
       "                          Ссылка на объявление  \n",
       "8      https://www.cian.ru/rent/flat/273973191  \n",
       "19     https://www.cian.ru/rent/flat/274748017  \n",
       "56     https://www.cian.ru/rent/flat/274617827  \n",
       "69     https://www.cian.ru/rent/flat/271264562  \n",
       "74     https://www.cian.ru/rent/flat/271766412  \n",
       "...                                        ...  \n",
       "22989  https://www.cian.ru/rent/flat/274204547  \n",
       "23031  https://www.cian.ru/rent/flat/274776175  \n",
       "23132  https://www.cian.ru/rent/flat/269188642  \n",
       "23133  https://www.cian.ru/rent/flat/271992616  \n",
       "23345  https://www.cian.ru/rent/flat/264551789  \n",
       "\n",
       "[328 rows x 21 columns]"
      ]
     },
     "execution_count": 562,
     "metadata": {},
     "output_type": "execute_result"
    }
   ],
   "source": [
    "df[df['Описание'].str.contains('без мебели', case=False, na=False)]"
   ]
  },
  {
   "cell_type": "code",
   "execution_count": 569,
   "metadata": {},
   "outputs": [],
   "source": [
    "# Применяем функцию для заполнения пропусков в столбце на основе описания\n",
    "def additional_description(row):\n",
    "    if pd.isna(row['Дополнительно']):\n",
    "        description = row['Описание'].lower()\n",
    "        if any(word in description for word in ['без мебели', 'мебели нет']):\n",
    "            if any(word in description for word in ['стиральная', 'техникой', 'холодильник', 'оборудована']):\n",
    "                return 'мебель и техника'  # Обновляем значение на \"мебель и техника\"\n",
    "            else:\n",
    "                return 'ничего'  # Обновляем значение на \"ничего\"\n",
    "        elif any(word in description for word in ['частично мебел', 'вся мебель', 'мебель в', 'необходимая', 'необходимой', 'меблирован', 'новой мебелью']):\n",
    "            if any(word in description for word in ['стиральная', 'техникой', 'холодильник', 'оборудована']):\n",
    "                return 'мебель и техника'  # Обновляем значение на \"мебель и техника\"\n",
    "            else:\n",
    "                return 'мебель'  # Обновляем значение на \"мебель\"\n",
    "        else:\n",
    "            return 'мебель и техника'\n",
    "    else:\n",
    "        return row['Дополнительно']\n",
    "\n",
    "df['Дополнительно'] = df.apply(additional_description, axis=1)"
   ]
  },
  {
   "cell_type": "code",
   "execution_count": null,
   "metadata": {},
   "outputs": [],
   "source": [
    "# #Приведение названий столбцов к нужномуу формату - английский язык + соединение слов _РЕШИЛИ ДЕЛАТЬ В КОНЦЕ,,,\n",
    "df.rename(columns = {'Площадь комнат, м2': 'rooms_square', 'Балкон': 'balcony', 'Окна': 'windows', 'Санузел': 'bathroom', 'Можно с детьми/животными': 'сhildren/pets_allowed',\n",
    "                    'Дополнительно': 'additionally'}, inplace=True)"
   ]
  }
 ],
 "metadata": {
  "kernelspec": {
   "display_name": "base",
   "language": "python",
   "name": "python3"
  },
  "language_info": {
   "codemirror_mode": {
    "name": "ipython",
    "version": 3
   },
   "file_extension": ".py",
   "mimetype": "text/x-python",
   "name": "python",
   "nbconvert_exporter": "python",
   "pygments_lexer": "ipython3",
   "version": "3.10.14"
  }
 },
 "nbformat": 4,
 "nbformat_minor": 2
}
